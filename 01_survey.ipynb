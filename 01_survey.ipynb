{
 "cells": [
  {
   "cell_type": "code",
   "execution_count": 1,
   "metadata": {},
   "outputs": [],
   "source": [
    "# default_exp survey"
   ]
  },
  {
   "cell_type": "markdown",
   "metadata": {},
   "source": [
    "# survey module\n",
    "\n",
    "> does stuff, tbd."
   ]
  },
  {
   "cell_type": "code",
   "execution_count": 1,
   "metadata": {},
   "outputs": [],
   "source": [
    "#hide\n",
    "from nbdev.showdoc import *"
   ]
  },
  {
   "cell_type": "code",
   "execution_count": 2,
   "metadata": {},
   "outputs": [],
   "source": [
    "#export\n",
    "import openai, pandas as pd, numpy as np, datetime, json\n",
    "from OpenAISurveyWrapper import wrapper"
   ]
  },
  {
   "cell_type": "code",
   "execution_count": 4,
   "metadata": {},
   "outputs": [],
   "source": [
    "#export\n",
    "class survey(wrapper.wrapper):\n",
    "    \"\"\"\n",
    "    wrapper on the API to load in survey definitions\n",
    "    a format for displaying\n",
    "    \n",
    "    self.myFormat: a function to format a prompt\n",
    "    \"\"\"\n",
    "    labeled = pd.DataFrame()\n",
    "    raw = pd.DataFrame()\n",
    "    examples = pd.DataFrame()\n",
    "    definitions = {}\n",
    "    myFormat = \"\"\"A post is about {} if it {} Consider the following post:\\npost: \"{}\"\\nq: Was the post about {} (yes or no)?\\na:\"\"\".format\n",
    "    kwargs = {\n",
    "        \"engine\":\"davinci\",\n",
    "        \"temperature\":0,\n",
    "        \"max_tokens\":10,\n",
    "        \"stop\":\"\\n\",\n",
    "    }\n",
    "    \n",
    "    def setFormat(self, func):\n",
    "        \"\"\"\n",
    "        set prompt format to newFormat\n",
    "        \"\"\"\n",
    "        self.myFormat = func\n",
    "        \n",
    "    def formatQuery(self, *args):\n",
    "        return (self.myFormat(*args))\n",
    "            \n",
    "    def addDefinition(self, label:str, definition:str):\n",
    "        \"\"\"\n",
    "        set definition of label to definition)\n",
    "        \"\"\"\n",
    "        try:\n",
    "            self.definitions[label][\"definition\"] = definition\n",
    "        except:\n",
    "            self.definitions[label]= {\"definition\":definition}\n",
    "        \n",
    "    def addLabelPrompt(self, label:str, prompt:str):\n",
    "        \"\"\"\n",
    "        set definition of label to definition)\n",
    "        \"\"\"\n",
    "        try:\n",
    "            self.definitions[label][\"prompt\"] = prompt\n",
    "        except:\n",
    "            self.definitions[label] = {\"prompt\":prompt}\n",
    "\n",
    "        \n",
    "    def removeDefinition(self, label:str):\n",
    "        \"\"\"\n",
    "        set definition of label to definition)\n",
    "        \"\"\"\n",
    "        del self.definitions[label]\n",
    "\n",
    "    def loadExamplesFromDataFrame(self, examples:dict):\n",
    "        \"\"\"\n",
    "        takes a 2 column dataframe; first column should be \"text\", second \"label\"\n",
    "        \"\"\"\n",
    "        if len(examples.columns)!=2:\n",
    "            raise Exception(\"need 2 columns, first should be data second label\")\n",
    "        self.examples = examples\n",
    "        self.examples.columns=[\"data\", \"label\"]\n",
    "        \n",
    "    def generateResponses(self, queries, prompt, verbose=False):\n",
    "        \"\"\"\n",
    "        run a prompt against queries.\n",
    "        prompt should be formated as \"str {} str\" to be able to use format\n",
    "        to stick each query in\n",
    "        \"\"\"\n",
    "        \n",
    "        results = []\n",
    "        for query in queries:\n",
    "            r = self.query(prompt=prompt.format(query[:1500]), verbose=verbose, **self.kwargs)[\"choices\"][0][\"text\"]\n",
    "            if verbose:\n",
    "                print(r)\n",
    "            results.append(r)\n",
    "        return results\n",
    "        \n",
    "    def tryLabels(self, n=20, overwrite=True, inplace=True, fewShot = 0, labels=[], verbose=False):\n",
    "        \"\"\"\n",
    "        for each label in labels, add to the \n",
    "        \"\"\"\n",
    "        if len(labels) == 0:\n",
    "            labels = [x for x in self.definitions]\n",
    "        \n",
    "        if n > 0:\n",
    "            targets = self.examples.sample(n)\n",
    "        else:\n",
    "            targets = self.examples.copy()\n",
    "        \n",
    "        \n",
    "        all_responses = {}\n",
    "        for label in labels:\n",
    "                #so trying to figure out how to generare the prompt on the fly, doesn't work that well\n",
    "                prompt = self.formatQuery(label, self.definitions[label][\"definition\"],\"{}\", label)\n",
    "                print(prompt)\n",
    "                responses = self.generateResponses(targets[\"data\"].to_list(), prompt, verbose=verbose)\n",
    "                \n",
    "                with open(\"{}/{}\".format(self.outdir, datetime.datetime.now().strftime(\"%Y%m%d%H%m%S\") + \".json\"), \"w\") as fh:\n",
    "                    json.dump({\"prompt\":prompt, \"data\":{\"queries\":targets[\"data\"].to_list(), \"preds\":responses}}, fh, indent=4)\n",
    "\n",
    "                all_responses[label]=responses\n",
    "                \n",
    "                targets[label] = responses\n",
    "                self.labeled = targets\n",
    "        self.labeled = targets\n",
    "\n",
    "    def useTermPrompt(self, n=20, overwrite=True, inplace=True, fewShot = 0, labels=[], verbose=False):\n",
    "        \"\"\"\n",
    "        for each label in labels, add to the \n",
    "        \"\"\"\n",
    "        if len(labels) == 0:\n",
    "            labels = [x for x in self.definitions]\n",
    "        \n",
    "        if n > 0:\n",
    "            targets = self.examples.sample(n)\n",
    "        else:\n",
    "            targets = self.examples.copy()\n",
    "        \n",
    "        \n",
    "        all_responses = {}\n",
    "        for label in labels:\n",
    "                prompt = self.definitions[label][\"prompt\"]\n",
    "                print(prompt)\n",
    "                responses = self.generateResponses(targets[\"data\"].to_list(), prompt, verbose=verbose)\n",
    "                \n",
    "                with open(\"{}/{}\".format(self.outdir, datetime.datetime.now().strftime(\"%Y%m%d%H%m%S\") + \".json\"), \"w\") as fh:\n",
    "                    json.dump({\"prompt\":prompt, \"data\":{\"queries\":targets[\"data\"].to_list(), \"preds\":responses}}, fh, indent=4)\n",
    "\n",
    "                all_responses[label]=responses\n",
    "                \n",
    "                targets[label] = responses\n",
    "                self.labeled = targets\n",
    "        self.labeled = targets\n",
    "\n",
    "\n",
    "        "
   ]
  },
  {
   "cell_type": "code",
   "execution_count": 159,
   "metadata": {},
   "outputs": [],
   "source": [
    "#hide\n",
    "term = \"Federal Budget\"\n",
    "definition=\"refers to mentions of how the federal government budgets and spends its money.\"\n",
    "post = \"the irish are heavy drinkers\""
   ]
  },
  {
   "cell_type": "code",
   "execution_count": 160,
   "metadata": {},
   "outputs": [],
   "source": [
    "#hide\n",
    "tmp = survey()"
   ]
  },
  {
   "cell_type": "code",
   "execution_count": 162,
   "metadata": {},
   "outputs": [],
   "source": [
    "#hide\n",
    "tmp.add_key(json.load(open(\"../gpt3/key.json\", \"r\"))[\"key\"])"
   ]
  },
  {
   "cell_type": "code",
   "execution_count": 163,
   "metadata": {},
   "outputs": [],
   "source": [
    "#hide\n",
    "tmp.addDefinition(term, definition)"
   ]
  },
  {
   "cell_type": "code",
   "execution_count": 164,
   "metadata": {},
   "outputs": [],
   "source": [
    "#hide\n",
    "df = pd.read_excel(\"../combinedata.forml.xlsx\")"
   ]
  },
  {
   "cell_type": "code",
   "execution_count": 166,
   "metadata": {
    "scrolled": true
   },
   "outputs": [],
   "source": [
    "#hide\n",
    "tmp.loadExamplesFromDataFrame(df[[\"text\", \"classification\"]])"
   ]
  },
  {
   "cell_type": "code",
   "execution_count": 167,
   "metadata": {},
   "outputs": [
    {
     "name": "stdout",
     "output_type": "stream",
     "text": [
      "A post is about Federal Budget if it refers to mentions of how the federal government budgets and spends its money. Consider the following post:\n",
      "post: \"{}\"\n",
      "q: Does this post primarily about Federal Budget (yes or no)?\n",
      "a:\n",
      "before\n",
      " Yes\n",
      " yes\n",
      " yes\n",
      " No\n",
      " No\n",
      " No\n",
      " No\n",
      " Yes\n",
      " Yes\n",
      " No\n",
      " yes\n",
      " No\n",
      " No\n",
      " Yes\n",
      " yes\n",
      " No\n",
      " yes\n",
      " Yes\n",
      " yes\n",
      " yes\n",
      "after\n",
      "[' Yes', ' yes', ' yes', ' No', ' No', ' No', ' No', ' Yes', ' Yes', ' No', ' yes', ' No', ' No', ' Yes', ' yes', ' No', ' yes', ' Yes', ' yes', ' yes']\n"
     ]
    }
   ],
   "source": [
    "tmp.tryLabels()"
   ]
  },
  {
   "cell_type": "code",
   "execution_count": null,
   "metadata": {},
   "outputs": [],
   "source": []
  }
 ],
 "metadata": {
  "kernelspec": {
   "display_name": "Python 3",
   "language": "python",
   "name": "python3"
  },
  "language_info": {
   "codemirror_mode": {
    "name": "ipython",
    "version": 3
   },
   "file_extension": ".py",
   "mimetype": "text/x-python",
   "name": "python",
   "nbconvert_exporter": "python",
   "pygments_lexer": "ipython3",
   "version": "3.7.4"
  }
 },
 "nbformat": 4,
 "nbformat_minor": 2
}
