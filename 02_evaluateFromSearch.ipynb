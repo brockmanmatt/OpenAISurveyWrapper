{
 "cells": [
  {
   "cell_type": "code",
   "execution_count": 320,
   "metadata": {},
   "outputs": [],
   "source": [
    "# default_exp evaluateSearch"
   ]
  },
  {
   "cell_type": "markdown",
   "metadata": {},
   "source": [
    "# Evaluate module\n",
    "\n",
    "> Wrapper for OpenAI to evaluate f1 performance of searching for terms in a dataset. Requires labeled dataframe."
   ]
  },
  {
   "cell_type": "code",
   "execution_count": 321,
   "metadata": {},
   "outputs": [],
   "source": [
    "#hide\n",
    "from nbdev.showdoc import *"
   ]
  },
  {
   "cell_type": "code",
   "execution_count": 322,
   "metadata": {},
   "outputs": [],
   "source": [
    "#export\n",
    "import openai, pandas as pd, numpy as np, datetime, json, time, os\n",
    "from OpenAISurveyWrapper import wrapper"
   ]
  },
  {
   "cell_type": "code",
   "execution_count": 464,
   "metadata": {},
   "outputs": [],
   "source": [
    "#export\n",
    "class evaluater(wrapper.wrapper):\n",
    "    \"\"\"\n",
    "    wrapper on the API to load in survey definitions\n",
    "    a format for displaying\n",
    "    \n",
    "    self.myFormat: a function to format a prompt\n",
    "    \"\"\"\n",
    "\n",
    "    labeled = pd.DataFrame()\n",
    "    raw = pd.DataFrame()\n",
    "    examples = pd.DataFrame()\n",
    "    searchTerms = {}\n",
    "                        \n",
    "    def addSearchTerm(self, label:str, searchTerm:str):\n",
    "        \"\"\"\n",
    "        k, this is badly named, but I want to be able to evaluate how search does\n",
    "        \"\"\"\n",
    "        try:\n",
    "            self.searchTerms[label][\"searchTerm\"] = searchTerm\n",
    "        except:\n",
    "            self.searchTerms[label]= {\"searchTerm\":searchTerm}\n",
    "    \n",
    "    def removeSearchTerm(self, term:str):\n",
    "        \"\"\"\n",
    "        delete search term\n",
    "        \"\"\"\n",
    "        del self.searchTerms[term]\n",
    "        \n",
    "    def loadExamplesFromDataFrame(self, examples:dict):\n",
    "        \"\"\"\n",
    "        takes a 2 column dataframe; first column should be \"text\", second \"label\"\n",
    "        \"\"\"\n",
    "        if len(examples.columns)!=2:\n",
    "            raise Exception(\"need 2 columns, first should be data second label\")\n",
    "        self.examples = examples\n",
    "        self.examples.columns=[\"text\", \"label\"]\n",
    "\n",
    "            \n",
    "    def printSearchTerms(self):\n",
    "        \"\"\"\n",
    "        print off what I'm going to be searching\n",
    "        \"\"\"\n",
    "        for term in self.searchTerms:\n",
    "            print(\"{}: {}\".format(term, self.searchTerms[term][\"searchTerm\"]))\n",
    "                \n",
    "    def optimizeSingleSearchCutoff(self, df:pd.DataFrame, term:str, outputDir:str, trainSize=200, testSize=200, sleepTime:float=2):\n",
    "        \"\"\"\n",
    "        run a search against the df texts to get most similar\n",
    "        the API returns the same similarity scale when the same term is queried multiple times against different docs\n",
    "\n",
    "        saves the output by the name of the search query to the outputDir\n",
    "        \"\"\"\n",
    "        \n",
    "        if df.columns[0] != \"text\" or df.columns[1] !=\"label\":\n",
    "            print(\"pass a df with columns label and text\")\n",
    "            print(df.columns)\n",
    "            return\n",
    "        \n",
    "        responses = []\n",
    "        trgts = df[:trainSize + testSize].copy()\n",
    "        startIdx = 0\n",
    "        endIdx = 200\n",
    "        while startIdx < len(trgts):\n",
    "            #responses = responses + trgts[startIdx:endIdx].text.to_list()\n",
    "\n",
    "            responses = responses + openai.Engine(\"davinci\").search(documents=\\\n",
    "                        trgts[startIdx:endIdx].text.to_list(), query=term)[\"data\"]\n",
    "            startIdx += 200\n",
    "            endIdx += 200\n",
    "            time.sleep(sleepTime)\n",
    "\n",
    "        trgts[\"seach_sim\"] = [float(x[\"score\"]) for x in responses]\n",
    "\n",
    "        cutoff_f1 = pd.DataFrame()\n",
    "        for i in range(0, 700):\n",
    "            trgts[\"search_pos\"] = trgts[\"seach_sim\"].apply(lambda x: 1 if x > i else 0)\n",
    "            cutoff_f1.at[\"f1\", i] = f1_score(trgts.label[:trainSize], trgts.search_pos[:trainSize])\n",
    "\n",
    "        cutoff = cutoff_f1.T.idxmax()[0]\n",
    "\n",
    "        cutoff_f1_test = pd.DataFrame()\n",
    "        for i in range(0, 700):\n",
    "            trgts[\"search_pos\"] = trgts[\"seach_sim\"].apply(lambda x: 1 if x > i else 0)\n",
    "            cutoff_f1_test.at[\"f1\", i] = f1_score(trgts.label[trainSize:], trgts.search_pos[trainSize:])\n",
    "\n",
    "        if outputDir != \"\":\n",
    "            os.makedirs(outputDir, exist_ok=True)\n",
    "            trgts.to_pickle(\"{}/{}.pkl\".format(outputDir, term))\n",
    "\n",
    "        return cutoff_f1_test[cutoff][0]\n",
    "    \n",
    "    def generateSearchScoresForLabel(self, outFileName=\"\", trainSize=200, testSize=200):\n",
    "        \"\"\"\n",
    "        autogeneratres the search scores\n",
    "        \"\"\"\n",
    "        \n",
    "        results = pd.DataFrame()\n",
    "        for term in self.searchTerms:\n",
    "            search_term = self.searchTerms[term][\"searchTerm\"]\n",
    "            print(search_term)\n",
    "            myResult = self.optimizeSingleSearchCutoff(self.examples, search_term, outFileName, trainSize=trainSize, testSize=testSize)\n",
    "            print(myResult)\n",
    "            results.at[search_term, \"testF1\"] = myResult\n",
    "\n",
    "        self.results = results    \n",
    "        return results"
   ]
  },
  {
   "cell_type": "code",
   "execution_count": 484,
   "metadata": {},
   "outputs": [],
   "source": [
    "tmp = evaluater()"
   ]
  },
  {
   "cell_type": "code",
   "execution_count": 485,
   "metadata": {},
   "outputs": [],
   "source": [
    "tmp.add_key(json.load(open(\"../gpt3/key.json\", \"r\"))[\"key\"])"
   ]
  },
  {
   "cell_type": "code",
   "execution_count": 474,
   "metadata": {},
   "outputs": [],
   "source": [
    "#hide\n",
    "df = pd.read_csv(\"../vice-yikyak-2020-06-09_vice-random-2020-06-23.csv\")"
   ]
  },
  {
   "cell_type": "code",
   "execution_count": 475,
   "metadata": {},
   "outputs": [
    {
     "data": {
      "text/html": [
       "<div>\n",
       "<style scoped>\n",
       "    .dataframe tbody tr th:only-of-type {\n",
       "        vertical-align: middle;\n",
       "    }\n",
       "\n",
       "    .dataframe tbody tr th {\n",
       "        vertical-align: top;\n",
       "    }\n",
       "\n",
       "    .dataframe thead th {\n",
       "        text-align: right;\n",
       "    }\n",
       "</style>\n",
       "<table border=\"1\" class=\"dataframe\">\n",
       "  <thead>\n",
       "    <tr style=\"text-align: right;\">\n",
       "      <th></th>\n",
       "      <th>Drinking</th>\n",
       "      <th>Tobacco</th>\n",
       "      <th>Vaping</th>\n",
       "      <th>Marijuana</th>\n",
       "      <th>Illegal drugs</th>\n",
       "      <th>Prescription drugs</th>\n",
       "      <th>text</th>\n",
       "    </tr>\n",
       "  </thead>\n",
       "  <tbody>\n",
       "    <tr>\n",
       "      <td>0</td>\n",
       "      <td>0</td>\n",
       "      <td>0</td>\n",
       "      <td>0</td>\n",
       "      <td>0</td>\n",
       "      <td>0</td>\n",
       "      <td>0</td>\n",
       "      <td>I'm 20 years old and still can't figure out where my clit is 😒😞</td>\n",
       "    </tr>\n",
       "    <tr>\n",
       "      <td>1</td>\n",
       "      <td>0</td>\n",
       "      <td>0</td>\n",
       "      <td>0</td>\n",
       "      <td>0</td>\n",
       "      <td>0</td>\n",
       "      <td>0</td>\n",
       "      <td>A beard can either make or break you</td>\n",
       "    </tr>\n",
       "    <tr>\n",
       "      <td>2</td>\n",
       "      <td>0</td>\n",
       "      <td>0</td>\n",
       "      <td>0</td>\n",
       "      <td>0</td>\n",
       "      <td>0</td>\n",
       "      <td>0</td>\n",
       "      <td>You know what would get me hard right now, you whippin your dick out! 👬</td>\n",
       "    </tr>\n",
       "    <tr>\n",
       "      <td>3</td>\n",
       "      <td>0</td>\n",
       "      <td>0</td>\n",
       "      <td>0</td>\n",
       "      <td>0</td>\n",
       "      <td>0</td>\n",
       "      <td>0</td>\n",
       "      <td>When did the bitch from frozen come to auburn? This is getting a little ridiculous</td>\n",
       "    </tr>\n",
       "    <tr>\n",
       "      <td>4</td>\n",
       "      <td>0</td>\n",
       "      <td>0</td>\n",
       "      <td>0</td>\n",
       "      <td>0</td>\n",
       "      <td>0</td>\n",
       "      <td>0</td>\n",
       "      <td>Do guys find tall girls attractive, like +6foot?</td>\n",
       "    </tr>\n",
       "  </tbody>\n",
       "</table>\n",
       "</div>"
      ],
      "text/plain": [
       "   Drinking  Tobacco  Vaping  Marijuana  Illegal drugs  Prescription drugs  \\\n",
       "0  0         0        0       0          0              0                    \n",
       "1  0         0        0       0          0              0                    \n",
       "2  0         0        0       0          0              0                    \n",
       "3  0         0        0       0          0              0                    \n",
       "4  0         0        0       0          0              0                    \n",
       "\n",
       "                                                                                 text  \n",
       "0  I'm 20 years old and still can't figure out where my clit is 😒😞                     \n",
       "1  A beard can either make or break you                                                \n",
       "2  You know what would get me hard right now, you whippin your dick out! 👬             \n",
       "3  When did the bitch from frozen come to auburn? This is getting a little ridiculous  \n",
       "4  Do guys find tall girls attractive, like +6foot?                                    "
      ]
     },
     "execution_count": 475,
     "metadata": {},
     "output_type": "execute_result"
    }
   ],
   "source": [
    "df.head()"
   ]
  },
  {
   "cell_type": "code",
   "execution_count": 478,
   "metadata": {},
   "outputs": [
    {
     "data": {
      "text/plain": [
       "Drinking         402\n",
       "Tobacco          23 \n",
       "Vaping           6  \n",
       "Marijuana        203\n",
       "Illegal drugs    52 \n",
       "dtype: int64"
      ]
     },
     "execution_count": 478,
     "metadata": {},
     "output_type": "execute_result"
    }
   ],
   "source": [
    "df[df.columns[:5]].sum()"
   ]
  },
  {
   "cell_type": "code",
   "execution_count": 479,
   "metadata": {},
   "outputs": [],
   "source": [
    "#hide\n",
    "tmp.loadExamplesFromDataFrame(df[[\"text\", \"Marijuana\"]])"
   ]
  },
  {
   "cell_type": "code",
   "execution_count": 480,
   "metadata": {},
   "outputs": [
    {
     "data": {
      "text/plain": [
       "9999"
      ]
     },
     "execution_count": 480,
     "metadata": {},
     "output_type": "execute_result"
    }
   ],
   "source": [
    "len(df)"
   ]
  },
  {
   "cell_type": "code",
   "execution_count": 481,
   "metadata": {},
   "outputs": [],
   "source": [
    "tmp.addSearchTerm(\"1\", \"Marijuana\")"
   ]
  },
  {
   "cell_type": "code",
   "execution_count": 482,
   "metadata": {},
   "outputs": [
    {
     "name": "stdout",
     "output_type": "stream",
     "text": [
      "1: Marijuana\n"
     ]
    }
   ],
   "source": [
    "tmp.printSearchTerms()"
   ]
  },
  {
   "cell_type": "code",
   "execution_count": 483,
   "metadata": {},
   "outputs": [
    {
     "name": "stdout",
     "output_type": "stream",
     "text": [
      "Marijuana\n",
      "0.4\n"
     ]
    },
    {
     "data": {
      "text/html": [
       "<div>\n",
       "<style scoped>\n",
       "    .dataframe tbody tr th:only-of-type {\n",
       "        vertical-align: middle;\n",
       "    }\n",
       "\n",
       "    .dataframe tbody tr th {\n",
       "        vertical-align: top;\n",
       "    }\n",
       "\n",
       "    .dataframe thead th {\n",
       "        text-align: right;\n",
       "    }\n",
       "</style>\n",
       "<table border=\"1\" class=\"dataframe\">\n",
       "  <thead>\n",
       "    <tr style=\"text-align: right;\">\n",
       "      <th></th>\n",
       "      <th>testF1</th>\n",
       "    </tr>\n",
       "  </thead>\n",
       "  <tbody>\n",
       "    <tr>\n",
       "      <td>Marijuana</td>\n",
       "      <td>0.4</td>\n",
       "    </tr>\n",
       "  </tbody>\n",
       "</table>\n",
       "</div>"
      ],
      "text/plain": [
       "           testF1\n",
       "Marijuana  0.4   "
      ]
     },
     "execution_count": 483,
     "metadata": {},
     "output_type": "execute_result"
    }
   ],
   "source": [
    "tmp.generateSearchScoresForLabel(outFileName=\"testing\")"
   ]
  },
  {
   "cell_type": "code",
   "execution_count": null,
   "metadata": {},
   "outputs": [],
   "source": []
  },
  {
   "cell_type": "code",
   "execution_count": null,
   "metadata": {},
   "outputs": [],
   "source": []
  },
  {
   "cell_type": "code",
   "execution_count": 77,
   "metadata": {},
   "outputs": [],
   "source": []
  }
 ],
 "metadata": {
  "kernelspec": {
   "display_name": "Python 3",
   "language": "python",
   "name": "python3"
  },
  "language_info": {
   "codemirror_mode": {
    "name": "ipython",
    "version": 3
   },
   "file_extension": ".py",
   "mimetype": "text/x-python",
   "name": "python",
   "nbconvert_exporter": "python",
   "pygments_lexer": "ipython3",
   "version": "3.7.4"
  }
 },
 "nbformat": 4,
 "nbformat_minor": 2
}
