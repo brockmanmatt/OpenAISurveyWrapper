{
 "cells": [
  {
   "cell_type": "code",
   "execution_count": 1,
   "metadata": {},
   "outputs": [],
   "source": [
    "# default_exp wrapper"
   ]
  },
  {
   "cell_type": "markdown",
   "metadata": {},
   "source": [
    "# wrapper module\n",
    "\n",
    "> Wrapper to query OpenAI API, autosave inputs/results"
   ]
  },
  {
   "cell_type": "code",
   "execution_count": 5,
   "metadata": {},
   "outputs": [],
   "source": [
    "#hide\n",
    "from nbdev.showdoc import *"
   ]
  },
  {
   "cell_type": "code",
   "execution_count": 39,
   "metadata": {},
   "outputs": [],
   "source": [
    "#export\n",
    "import openai, pandas, numpy, datetime, json, os"
   ]
  },
  {
   "cell_type": "code",
   "execution_count": 51,
   "metadata": {},
   "outputs": [],
   "source": [
    "#export\n",
    "class wrapper:\n",
    "    \"\"\"\n",
    "    Wrapper holds the OpenAI API\n",
    "    \"\"\"\n",
    "    \n",
    "    autosave=False\n",
    "    \n",
    "    def __init__(self, outdir=\"queries\"):\n",
    "        self.outdir = outdir\n",
    "        os.makedirs(outdir, exist_ok=True)\n",
    "    \n",
    "    def add_key(self, key:str):\n",
    "        \"\"\"\n",
    "        sets the openai api key\n",
    "        \"\"\"\n",
    "        openai.api_key = key\n",
    "        \n",
    "    def toggleAutoSave(self, status:bool):\n",
    "        \"\"\"\n",
    "        set self.autosave to true or false\n",
    "        \"\"\"\n",
    "        self.autosave=status\n",
    "        \n",
    "    def query(self, verbose=False, **kwargs):\n",
    "        \"\"\"\n",
    "        send kwargs to the API\n",
    "        \"\"\"\n",
    "        \n",
    "        r=\"\"\n",
    "        \n",
    "        if verbose:\n",
    "            print(kwargs)\n",
    "        \n",
    "        r = openai.Completion.create(**kwargs)\n",
    "        \n",
    "        if self.autosave:\n",
    "            with open(\"{}/{}\".format(self.outdir, datetime.datetime.now().strftime(\"%Y%m%d%H%m%S\")), \"w\") as fh:\n",
    "                json.dump({\"promt\":kwargs[\"prompt\"], \"response\":r}, fh, indent=4)\n",
    "        \n",
    "        return r\n"
   ]
  },
  {
   "cell_type": "code",
   "execution_count": null,
   "metadata": {},
   "outputs": [],
   "source": []
  }
 ],
 "metadata": {
  "kernelspec": {
   "display_name": "Python 3",
   "language": "python",
   "name": "python3"
  },
  "language_info": {
   "codemirror_mode": {
    "name": "ipython",
    "version": 3
   },
   "file_extension": ".py",
   "mimetype": "text/x-python",
   "name": "python",
   "nbconvert_exporter": "python",
   "pygments_lexer": "ipython3",
   "version": "3.7.4"
  }
 },
 "nbformat": 4,
 "nbformat_minor": 2
}
