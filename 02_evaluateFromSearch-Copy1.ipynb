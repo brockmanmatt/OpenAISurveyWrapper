{
 "cells": [
  {
   "cell_type": "code",
   "execution_count": 4,
   "metadata": {},
   "outputs": [],
   "source": [
    "# default_exp evaluate"
   ]
  },
  {
   "cell_type": "markdown",
   "metadata": {},
   "source": [
    "# Evaluate module\n",
    "\n",
    "> a better version of survey. This should allow us to load in a dataframe, do a train-test split, and hen "
   ]
  },
  {
   "cell_type": "code",
   "execution_count": 5,
   "metadata": {},
   "outputs": [],
   "source": [
    "#hide\n",
    "from nbdev.showdoc import *"
   ]
  },
  {
   "cell_type": "code",
   "execution_count": 64,
   "metadata": {},
   "outputs": [],
   "source": [
    "#export\n",
    "import openai, pandas as pd, numpy as np, datetime, json, time\n",
    "from OpenAISurveyWrapper import wrapper"
   ]
  },
  {
   "cell_type": "code",
   "execution_count": 44,
   "metadata": {},
   "outputs": [],
   "source": [
    "#export\n",
    "class evaluater(wrapper.wrapper):\n",
    "    \"\"\"\n",
    "    wrapper on the API to load in survey definitions\n",
    "    a format for displaying\n",
    "    \n",
    "    self.myFormat: a function to format a prompt\n",
    "    \"\"\"\n",
    "    labeled = pd.DataFrame()\n",
    "    raw = pd.DataFrame()\n",
    "    examples = pd.DataFrame()\n",
    "    searchTerms = {}\n",
    "    prompts = {}\n",
    "    kwargs = {\n",
    "        \"engine\":\"davinci\",\n",
    "        \"temperature\":0,\n",
    "        \"max_tokens\":10,\n",
    "        \"stop\":\"\\n\",\n",
    "    }\n",
    "                \n",
    "    def addPrompt(self, label:str, definition:str):\n",
    "        \"\"\"\n",
    "        set definition of label to definition\n",
    "        \"\"\"\n",
    "        try:\n",
    "            self.definitions[label][\"definition\"] = definition\n",
    "        except:\n",
    "            self.definitions[label]= {\"definition\":definition}\n",
    "        \n",
    "    def removePrompt(self, label:str):\n",
    "        \"\"\"\n",
    "        set definition of label to definition)\n",
    "        \"\"\"\n",
    "        del self.definitions[label]\n",
    "        \n",
    "    def addSearchTerm(self, label:str, searchTerm:str):\n",
    "        \"\"\"\n",
    "        k, this is badly named, but I want to be able to evaluate how search does\n",
    "        \"\"\"\n",
    "        try:\n",
    "            self.searchTerms[label][\"searchTerm\"] = searchTerm\n",
    "        except:\n",
    "            self.searchTerms[label]= {\"searchTerm\":searchTerm}\n",
    "    \n",
    "    def removeSearchTerm(self, term:str):\n",
    "        \"\"\"\n",
    "        delete search term\n",
    "        \"\"\"\n",
    "        del self.searchTerms[term]\n",
    "        \n",
    "    def loadExamplesFromDataFrame(self, examples:dict):\n",
    "        \"\"\"\n",
    "        takes a 2 column dataframe; first column should be \"text\", second \"label\"\n",
    "        \"\"\"\n",
    "        if len(examples.columns)!=2:\n",
    "            raise Exception(\"need 2 columns, first should be data second label\")\n",
    "        self.examples = examples\n",
    "        self.examples.columns=[\"data\", \"label\"]\n",
    "        \n",
    "    def generateResponses(self, queries, prompt, maxQuerySize=1500, verbose=False):\n",
    "        \"\"\"\n",
    "        run a prompt against queries.\n",
    "        prompt should be formated as \"str {} str\" to be able to use format\n",
    "        to stick each query in\n",
    "        \"\"\"\n",
    "        results = []\n",
    "        for query in queries:\n",
    "            #r = self.query(prompt=prompt.format(query[:maxQuerySize]), verbose=verbose, **self.kwargs)\n",
    "            if verbose:\n",
    "                print(r)\n",
    "            results.append(r)\n",
    "        return results\n",
    "        \n",
    "    def train_test_split(self, trainSize=0, testSize=0):\n",
    "        \"\"\"\n",
    "        generates train and test set\n",
    "        train sets with openai api can be small; max of 10 fills up the prompt window generally\n",
    "        \"\"\"\n",
    "        if testSize==0:\n",
    "            print(\"give it a train and test\")\n",
    "            return -1\n",
    "        \n",
    "        working = self.examples.copy()\n",
    "        \n",
    "        train = pd.DataFrame()\n",
    "        test = pd.DataFrame()\n",
    "        \n",
    "        for label in working.label.unique():\n",
    "            newEntries = working[working.label==label]\n",
    "            newEntries = newEntries.sample(min(len(newEntries), trainSize))\n",
    "            train = pd.concat([train, newEntries])\n",
    "            working.drop(newEntries.index, inplace=True)\n",
    "        self.train = train\n",
    "        self.test = test\n",
    "\n",
    "    def optimizeSearchCutoff(self, df, term, trainSize=200, testSize=200):\n",
    "        \"\"\"\n",
    "        run a search against the df texts to get most similar\n",
    "        the API returns the same similarity scale when the same term is queried multiple times against different docs\n",
    "        \"\"\"\n",
    "        \n",
    "        \n",
    "        \n",
    "    def useTermPrompt(self, n=20, overwrite=True, inplace=True, fewShot = 0, labels=[], verbose=False):\n",
    "        \"\"\"\n",
    "        for each label in labels, add to the \n",
    "        \"\"\"\n",
    "        if len(labels) == 0:\n",
    "            labels = [x for x in self.definitions]\n",
    "        \n",
    "        if n > 0:\n",
    "            targets = self.test.sample(n)\n",
    "        else:\n",
    "            targets = self.test.copy()\n",
    "        \n",
    "        \n",
    "        all_responses = {}\n",
    "        for label in labels:\n",
    "                prompt = self.definitions[label][\"prompt\"]\n",
    "                print(prompt)\n",
    "                responses = self.generateResponses(targets[\"data\"].to_list(), prompt, verbose=verbose)\n",
    "                \n",
    "                with open(\"{}/{}\".format(self.outdir, datetime.datetime.now().strftime(\"%Y%m%d%H%m%S\") + \".json\"), \"w\") as fh:\n",
    "                    json.dump({\"prompt\":prompt, \"data\":{\"queries\":targets[\"data\"].to_list(), \"preds\":responses}}, fh, indent=4)\n",
    "\n",
    "                all_responses[label]=responses\n",
    "                \n",
    "                targets[label] = responses\n",
    "                self.labeled = targets\n",
    "        self.labeled = targets\n",
    "\n",
    "\n",
    "        "
   ]
  },
  {
   "cell_type": "code",
   "execution_count": 51,
   "metadata": {},
   "outputs": [],
   "source": [
    "tmp = evaluater()"
   ]
  },
  {
   "cell_type": "code",
   "execution_count": 58,
   "metadata": {},
   "outputs": [],
   "source": [
    "#hide\n",
    "df = pd.read_csv(\"../vice-yikyak-2020-06-09_vice-random-2020-06-23.csv\")"
   ]
  },
  {
   "cell_type": "code",
   "execution_count": 62,
   "metadata": {},
   "outputs": [],
   "source": [
    "#hide\n",
    "tmp.loadExamplesFromDataFrame(df[[\"text\", \"Drinking\"]])"
   ]
  },
  {
   "cell_type": "markdown",
   "metadata": {},
   "source": [
    "# wait, try other"
   ]
  },
  {
   "cell_type": "code",
   "execution_count": 176,
   "metadata": {},
   "outputs": [],
   "source": [
    "responses = []\n",
    "trgts = df[:5000]\n",
    "startIdx = 0\n",
    "endIdx = 200\n",
    "while startIdx < len(trgts):\n",
    "    #responses = responses + trgts[startIdx:endIdx].text.to_list()\n",
    "    \n",
    "    responses = responses + openai.Engine(\"davinci\").search(documents=\\\n",
    "                trgts[startIdx:endIdx].text.to_list(), query=\"drinking and alcohol\")[\"data\"]\n",
    "    startIdx += 200\n",
    "    endIdx += 200\n",
    "    time.sleep(2)"
   ]
  },
  {
   "cell_type": "code",
   "execution_count": 177,
   "metadata": {
    "scrolled": false
   },
   "outputs": [
    {
     "name": "stderr",
     "output_type": "stream",
     "text": [
      "/Library/anaconda3/lib/python3.7/site-packages/ipykernel_launcher.py:1: SettingWithCopyWarning: \n",
      "A value is trying to be set on a copy of a slice from a DataFrame.\n",
      "Try using .loc[row_indexer,col_indexer] = value instead\n",
      "\n",
      "See the caveats in the documentation: http://pandas.pydata.org/pandas-docs/stable/user_guide/indexing.html#returning-a-view-versus-a-copy\n",
      "  \"\"\"Entry point for launching an IPython kernel.\n"
     ]
    }
   ],
   "source": [
    "trgts[\"seach_sim\"] = [float(x[\"score\"]) for x in responses]"
   ]
  },
  {
   "cell_type": "code",
   "execution_count": 178,
   "metadata": {},
   "outputs": [
    {
     "name": "stderr",
     "output_type": "stream",
     "text": [
      "/Library/anaconda3/lib/python3.7/site-packages/ipykernel_launcher.py:3: SettingWithCopyWarning: \n",
      "A value is trying to be set on a copy of a slice from a DataFrame.\n",
      "Try using .loc[row_indexer,col_indexer] = value instead\n",
      "\n",
      "See the caveats in the documentation: http://pandas.pydata.org/pandas-docs/stable/user_guide/indexing.html#returning-a-view-versus-a-copy\n",
      "  This is separate from the ipykernel package so we can avoid doing imports until\n"
     ]
    }
   ],
   "source": [
    "cutoff_f1 = pd.DataFrame()\n",
    "for i in range(0, 700):\n",
    "    trgts[\"search_pos\"] = trgts[\"seach_sim\"].apply(lambda x: 1 if x > i else 0)\n",
    "    cutoff_f1.at[\"f1\", i] = f1_score(trgts.Drinking[:1000], trgts.search_pos[:1000])"
   ]
  },
  {
   "cell_type": "code",
   "execution_count": 179,
   "metadata": {},
   "outputs": [
    {
     "data": {
      "text/plain": [
       "145"
      ]
     },
     "execution_count": 179,
     "metadata": {},
     "output_type": "execute_result"
    }
   ],
   "source": [
    "cutoff = cutoff_f1.T.idxmax()[0]\n",
    "cutoff"
   ]
  },
  {
   "cell_type": "code",
   "execution_count": 180,
   "metadata": {},
   "outputs": [
    {
     "name": "stderr",
     "output_type": "stream",
     "text": [
      "/Library/anaconda3/lib/python3.7/site-packages/ipykernel_launcher.py:3: SettingWithCopyWarning: \n",
      "A value is trying to be set on a copy of a slice from a DataFrame.\n",
      "Try using .loc[row_indexer,col_indexer] = value instead\n",
      "\n",
      "See the caveats in the documentation: http://pandas.pydata.org/pandas-docs/stable/user_guide/indexing.html#returning-a-view-versus-a-copy\n",
      "  This is separate from the ipykernel package so we can avoid doing imports until\n"
     ]
    }
   ],
   "source": [
    "cutoff_f1_test = pd.DataFrame()\n",
    "for i in range(100, 700):\n",
    "    trgts[\"search_pos\"] = trgts[\"seach_sim\"].apply(lambda x: 1 if x > i else 0)\n",
    "    cutoff_f1_test.at[\"f1\", i] = f1_score(trgts.Drinking[1000:], trgts.search_pos[1000:])"
   ]
  },
  {
   "cell_type": "code",
   "execution_count": 181,
   "metadata": {},
   "outputs": [
    {
     "data": {
      "text/plain": [
       "<matplotlib.axes._subplots.AxesSubplot at 0x120ffec10>"
      ]
     },
     "execution_count": 181,
     "metadata": {},
     "output_type": "execute_result"
    },
    {
     "data": {
      "image/png": "[encoded data removed]",
      "text/plain": [
       "<Figure size 432x288 with 1 Axes>"
      ]
     },
     "metadata": {
      "needs_background": "light"
     },
     "output_type": "display_data"
    }
   ],
   "source": [
    "ax = cutoff_f1.T.rename(columns={\"f1\":\"train\"}).plot()\n",
    "cutoff_f1_test.T.rename(columns={\"f1\":\"test\"}).plot(ax=ax)"
   ]
  },
  {
   "cell_type": "code",
   "execution_count": 182,
   "metadata": {},
   "outputs": [],
   "source": [
    "trgts.to_pickle(\"../drinking and alcohol.pkl\")"
   ]
  },
  {
   "cell_type": "code",
   "execution_count": 183,
   "metadata": {},
   "outputs": [
    {
     "data": {
      "text/plain": [
       "f1    0.710183\n",
       "Name: 145, dtype: float64"
      ]
     },
     "execution_count": 183,
     "metadata": {},
     "output_type": "execute_result"
    }
   ],
   "source": [
    "cutoff_f1_test[cutoff]"
   ]
  },
  {
   "cell_type": "code",
   "execution_count": 213,
   "metadata": {},
   "outputs": [],
   "source": [
    "trgts = pd.read_pickle(\"../drinking and alcohol.pkl\")"
   ]
  },
  {
   "cell_type": "code",
   "execution_count": 215,
   "metadata": {},
   "outputs": [
    {
     "data": {
      "text/html": [
       "<div>\n",
       "<style scoped>\n",
       "    .dataframe tbody tr th:only-of-type {\n",
       "        vertical-align: middle;\n",
       "    }\n",
       "\n",
       "    .dataframe tbody tr th {\n",
       "        vertical-align: top;\n",
       "    }\n",
       "\n",
       "    .dataframe thead th {\n",
       "        text-align: right;\n",
       "    }\n",
       "</style>\n",
       "<table border=\"1\" class=\"dataframe\">\n",
       "  <thead>\n",
       "    <tr style=\"text-align: right;\">\n",
       "      <th></th>\n",
       "      <th>Drinking</th>\n",
       "      <th>Tobacco</th>\n",
       "      <th>Vaping</th>\n",
       "      <th>Marijuana</th>\n",
       "      <th>Illegal drugs</th>\n",
       "      <th>Prescription drugs</th>\n",
       "      <th>text</th>\n",
       "      <th>seach_sim</th>\n",
       "      <th>search_pos</th>\n",
       "    </tr>\n",
       "  </thead>\n",
       "  <tbody>\n",
       "    <tr>\n",
       "      <td>0</td>\n",
       "      <td>0</td>\n",
       "      <td>0</td>\n",
       "      <td>0</td>\n",
       "      <td>0</td>\n",
       "      <td>0</td>\n",
       "      <td>0</td>\n",
       "      <td>I'm 20 years old and still can't figure out where my clit is 😒😞</td>\n",
       "      <td>-4.845</td>\n",
       "      <td>0</td>\n",
       "    </tr>\n",
       "    <tr>\n",
       "      <td>1</td>\n",
       "      <td>0</td>\n",
       "      <td>0</td>\n",
       "      <td>0</td>\n",
       "      <td>0</td>\n",
       "      <td>0</td>\n",
       "      <td>0</td>\n",
       "      <td>A beard can either make or break you</td>\n",
       "      <td>40.235</td>\n",
       "      <td>0</td>\n",
       "    </tr>\n",
       "    <tr>\n",
       "      <td>2</td>\n",
       "      <td>0</td>\n",
       "      <td>0</td>\n",
       "      <td>0</td>\n",
       "      <td>0</td>\n",
       "      <td>0</td>\n",
       "      <td>0</td>\n",
       "      <td>You know what would get me hard right now, you whippin your dick out! 👬</td>\n",
       "      <td>52.489</td>\n",
       "      <td>0</td>\n",
       "    </tr>\n",
       "    <tr>\n",
       "      <td>3</td>\n",
       "      <td>0</td>\n",
       "      <td>0</td>\n",
       "      <td>0</td>\n",
       "      <td>0</td>\n",
       "      <td>0</td>\n",
       "      <td>0</td>\n",
       "      <td>When did the bitch from frozen come to auburn? This is getting a little ridiculous</td>\n",
       "      <td>43.434</td>\n",
       "      <td>0</td>\n",
       "    </tr>\n",
       "    <tr>\n",
       "      <td>4</td>\n",
       "      <td>0</td>\n",
       "      <td>0</td>\n",
       "      <td>0</td>\n",
       "      <td>0</td>\n",
       "      <td>0</td>\n",
       "      <td>0</td>\n",
       "      <td>Do guys find tall girls attractive, like +6foot?</td>\n",
       "      <td>71.722</td>\n",
       "      <td>0</td>\n",
       "    </tr>\n",
       "    <tr>\n",
       "      <td>...</td>\n",
       "      <td>...</td>\n",
       "      <td>...</td>\n",
       "      <td>...</td>\n",
       "      <td>...</td>\n",
       "      <td>...</td>\n",
       "      <td>...</td>\n",
       "      <td>...</td>\n",
       "      <td>...</td>\n",
       "      <td>...</td>\n",
       "    </tr>\n",
       "    <tr>\n",
       "      <td>4995</td>\n",
       "      <td>0</td>\n",
       "      <td>0</td>\n",
       "      <td>0</td>\n",
       "      <td>0</td>\n",
       "      <td>0</td>\n",
       "      <td>0</td>\n",
       "      <td>I've become super good friends with my suite, but barely know people outside of that</td>\n",
       "      <td>121.684</td>\n",
       "      <td>0</td>\n",
       "    </tr>\n",
       "    <tr>\n",
       "      <td>4996</td>\n",
       "      <td>0</td>\n",
       "      <td>0</td>\n",
       "      <td>0</td>\n",
       "      <td>0</td>\n",
       "      <td>0</td>\n",
       "      <td>0</td>\n",
       "      <td>Instagram quit lackin and fuckin load</td>\n",
       "      <td>74.478</td>\n",
       "      <td>0</td>\n",
       "    </tr>\n",
       "    <tr>\n",
       "      <td>4997</td>\n",
       "      <td>0</td>\n",
       "      <td>0</td>\n",
       "      <td>0</td>\n",
       "      <td>0</td>\n",
       "      <td>0</td>\n",
       "      <td>0</td>\n",
       "      <td>Matlab takes fucking forever to download, so much for bringing my laptop to class</td>\n",
       "      <td>39.025</td>\n",
       "      <td>0</td>\n",
       "    </tr>\n",
       "    <tr>\n",
       "      <td>4998</td>\n",
       "      <td>0</td>\n",
       "      <td>0</td>\n",
       "      <td>0</td>\n",
       "      <td>1</td>\n",
       "      <td>0</td>\n",
       "      <td>0</td>\n",
       "      <td>Don't read yik yak when you're high. You'll take each sentence literally and consider each word seriously</td>\n",
       "      <td>98.645</td>\n",
       "      <td>0</td>\n",
       "    </tr>\n",
       "    <tr>\n",
       "      <td>4999</td>\n",
       "      <td>0</td>\n",
       "      <td>0</td>\n",
       "      <td>0</td>\n",
       "      <td>0</td>\n",
       "      <td>0</td>\n",
       "      <td>0</td>\n",
       "      <td>Taking the long way to class to avoid the flyer handouts...</td>\n",
       "      <td>8.999</td>\n",
       "      <td>0</td>\n",
       "    </tr>\n",
       "  </tbody>\n",
       "</table>\n",
       "<p>5000 rows × 9 columns</p>\n",
       "</div>"
      ],
      "text/plain": [
       "      Drinking  Tobacco  Vaping  Marijuana  Illegal drugs  Prescription drugs  \\\n",
       "0     0         0        0       0          0              0                    \n",
       "1     0         0        0       0          0              0                    \n",
       "2     0         0        0       0          0              0                    \n",
       "3     0         0        0       0          0              0                    \n",
       "4     0         0        0       0          0              0                    \n",
       "...  ..        ..       ..      ..         ..             ..                    \n",
       "4995  0         0        0       0          0              0                    \n",
       "4996  0         0        0       0          0              0                    \n",
       "4997  0         0        0       0          0              0                    \n",
       "4998  0         0        0       1          0              0                    \n",
       "4999  0         0        0       0          0              0                    \n",
       "\n",
       "                                                                                                           text  \\\n",
       "0     I'm 20 years old and still can't figure out where my clit is 😒😞                                             \n",
       "1     A beard can either make or break you                                                                        \n",
       "2     You know what would get me hard right now, you whippin your dick out! 👬                                     \n",
       "3     When did the bitch from frozen come to auburn? This is getting a little ridiculous                          \n",
       "4     Do guys find tall girls attractive, like +6foot?                                                            \n",
       "...                                                ...                                                            \n",
       "4995  I've become super good friends with my suite, but barely know people outside of that                        \n",
       "4996  Instagram quit lackin and fuckin load                                                                       \n",
       "4997  Matlab takes fucking forever to download, so much for bringing my laptop to class                           \n",
       "4998  Don't read yik yak when you're high. You'll take each sentence literally and consider each word seriously   \n",
       "4999  Taking the long way to class to avoid the flyer handouts...                                                 \n",
       "\n",
       "      seach_sim  search_pos  \n",
       "0    -4.845      0           \n",
       "1     40.235     0           \n",
       "2     52.489     0           \n",
       "3     43.434     0           \n",
       "4     71.722     0           \n",
       "...      ...    ..           \n",
       "4995  121.684    0           \n",
       "4996  74.478     0           \n",
       "4997  39.025     0           \n",
       "4998  98.645     0           \n",
       "4999  8.999      0           \n",
       "\n",
       "[5000 rows x 9 columns]"
      ]
     },
     "execution_count": 215,
     "metadata": {},
     "output_type": "execute_result"
    }
   ],
   "source": [
    "trgts"
   ]
  },
  {
   "cell_type": "code",
   "execution_count": 216,
   "metadata": {},
   "outputs": [
    {
     "data": {
      "text/html": [
       "<div>\n",
       "<style scoped>\n",
       "    .dataframe tbody tr th:only-of-type {\n",
       "        vertical-align: middle;\n",
       "    }\n",
       "\n",
       "    .dataframe tbody tr th {\n",
       "        vertical-align: top;\n",
       "    }\n",
       "\n",
       "    .dataframe thead th {\n",
       "        text-align: right;\n",
       "    }\n",
       "</style>\n",
       "<table border=\"1\" class=\"dataframe\">\n",
       "  <thead>\n",
       "    <tr style=\"text-align: right;\">\n",
       "      <th></th>\n",
       "      <th>Drinking</th>\n",
       "      <th>Tobacco</th>\n",
       "      <th>Vaping</th>\n",
       "      <th>Marijuana</th>\n",
       "      <th>Illegal drugs</th>\n",
       "      <th>Prescription drugs</th>\n",
       "      <th>text</th>\n",
       "      <th>seach_sim</th>\n",
       "      <th>search_pos</th>\n",
       "    </tr>\n",
       "  </thead>\n",
       "  <tbody>\n",
       "    <tr>\n",
       "      <td>1028</td>\n",
       "      <td>0</td>\n",
       "      <td>0</td>\n",
       "      <td>0</td>\n",
       "      <td>0</td>\n",
       "      <td>0</td>\n",
       "      <td>0</td>\n",
       "      <td>I do t understand how people drink unsweet tea</td>\n",
       "      <td>188.243</td>\n",
       "      <td>1</td>\n",
       "    </tr>\n",
       "    <tr>\n",
       "      <td>1043</td>\n",
       "      <td>0</td>\n",
       "      <td>0</td>\n",
       "      <td>0</td>\n",
       "      <td>0</td>\n",
       "      <td>0</td>\n",
       "      <td>0</td>\n",
       "      <td>I am in a sorority, I think I'm fun to be around but I seriously have no friends. I'm thinking about ending it</td>\n",
       "      <td>154.458</td>\n",
       "      <td>1</td>\n",
       "    </tr>\n",
       "    <tr>\n",
       "      <td>1100</td>\n",
       "      <td>0</td>\n",
       "      <td>0</td>\n",
       "      <td>0</td>\n",
       "      <td>0</td>\n",
       "      <td>0</td>\n",
       "      <td>0</td>\n",
       "      <td>So it's my 21st today, and shit it's like the fucking universe aligned that it's a Friday and tomorrow is waste management and Sunday is the super bowl.</td>\n",
       "      <td>156.103</td>\n",
       "      <td>1</td>\n",
       "    </tr>\n",
       "    <tr>\n",
       "      <td>1198</td>\n",
       "      <td>1</td>\n",
       "      <td>0</td>\n",
       "      <td>0</td>\n",
       "      <td>0</td>\n",
       "      <td>0</td>\n",
       "      <td>0</td>\n",
       "      <td>These teachers need to learn to teach in the dark. Wayyyyyy too hungover for these bright lights.</td>\n",
       "      <td>143.536</td>\n",
       "      <td>0</td>\n",
       "    </tr>\n",
       "    <tr>\n",
       "      <td>1200</td>\n",
       "      <td>0</td>\n",
       "      <td>0</td>\n",
       "      <td>0</td>\n",
       "      <td>0</td>\n",
       "      <td>0</td>\n",
       "      <td>0</td>\n",
       "      <td>I've never been to a frat party before. Do you have to know someone in the fraternity, or do you just show up and look attractive?</td>\n",
       "      <td>160.826</td>\n",
       "      <td>1</td>\n",
       "    </tr>\n",
       "    <tr>\n",
       "      <td>...</td>\n",
       "      <td>...</td>\n",
       "      <td>...</td>\n",
       "      <td>...</td>\n",
       "      <td>...</td>\n",
       "      <td>...</td>\n",
       "      <td>...</td>\n",
       "      <td>...</td>\n",
       "      <td>...</td>\n",
       "      <td>...</td>\n",
       "    </tr>\n",
       "    <tr>\n",
       "      <td>4904</td>\n",
       "      <td>0</td>\n",
       "      <td>0</td>\n",
       "      <td>0</td>\n",
       "      <td>0</td>\n",
       "      <td>0</td>\n",
       "      <td>0</td>\n",
       "      <td>Mimosas... That is all</td>\n",
       "      <td>163.003</td>\n",
       "      <td>1</td>\n",
       "    </tr>\n",
       "    <tr>\n",
       "      <td>4930</td>\n",
       "      <td>0</td>\n",
       "      <td>0</td>\n",
       "      <td>0</td>\n",
       "      <td>0</td>\n",
       "      <td>0</td>\n",
       "      <td>0</td>\n",
       "      <td>U of A students #YOLO with wine coolers.</td>\n",
       "      <td>189.143</td>\n",
       "      <td>1</td>\n",
       "    </tr>\n",
       "    <tr>\n",
       "      <td>4971</td>\n",
       "      <td>0</td>\n",
       "      <td>0</td>\n",
       "      <td>0</td>\n",
       "      <td>0</td>\n",
       "      <td>0</td>\n",
       "      <td>0</td>\n",
       "      <td>When your friend asks if you had a rough night, nope I'm just ugly lol</td>\n",
       "      <td>150.042</td>\n",
       "      <td>1</td>\n",
       "    </tr>\n",
       "    <tr>\n",
       "      <td>4980</td>\n",
       "      <td>0</td>\n",
       "      <td>0</td>\n",
       "      <td>0</td>\n",
       "      <td>0</td>\n",
       "      <td>0</td>\n",
       "      <td>0</td>\n",
       "      <td>My girlfriend and I had unprotected sex a couple weeks ago. Her period was supposed to come 3 days ago.... #help</td>\n",
       "      <td>187.210</td>\n",
       "      <td>1</td>\n",
       "    </tr>\n",
       "    <tr>\n",
       "      <td>4987</td>\n",
       "      <td>1</td>\n",
       "      <td>0</td>\n",
       "      <td>0</td>\n",
       "      <td>0</td>\n",
       "      <td>0</td>\n",
       "      <td>0</td>\n",
       "      <td>Tbh girls that will watch the game with you and pick up the pizza / beer, are bae af.</td>\n",
       "      <td>120.869</td>\n",
       "      <td>0</td>\n",
       "    </tr>\n",
       "  </tbody>\n",
       "</table>\n",
       "<p>111 rows × 9 columns</p>\n",
       "</div>"
      ],
      "text/plain": [
       "      Drinking  Tobacco  Vaping  Marijuana  Illegal drugs  Prescription drugs  \\\n",
       "1028  0         0        0       0          0              0                    \n",
       "1043  0         0        0       0          0              0                    \n",
       "1100  0         0        0       0          0              0                    \n",
       "1198  1         0        0       0          0              0                    \n",
       "1200  0         0        0       0          0              0                    \n",
       "...  ..        ..       ..      ..         ..             ..                    \n",
       "4904  0         0        0       0          0              0                    \n",
       "4930  0         0        0       0          0              0                    \n",
       "4971  0         0        0       0          0              0                    \n",
       "4980  0         0        0       0          0              0                    \n",
       "4987  1         0        0       0          0              0                    \n",
       "\n",
       "                                                                                                                                                          text  \\\n",
       "1028  I do t understand how people drink unsweet tea                                                                                                             \n",
       "1043  I am in a sorority, I think I'm fun to be around but I seriously have no friends. I'm thinking about ending it                                             \n",
       "1100  So it's my 21st today, and shit it's like the fucking universe aligned that it's a Friday and tomorrow is waste management and Sunday is the super bowl.   \n",
       "1198  These teachers need to learn to teach in the dark. Wayyyyyy too hungover for these bright lights.                                                          \n",
       "1200  I've never been to a frat party before. Do you have to know someone in the fraternity, or do you just show up and look attractive?                         \n",
       "...                                                                                                                                  ...                         \n",
       "4904  Mimosas... That is all                                                                                                                                     \n",
       "4930  U of A students #YOLO with wine coolers.                                                                                                                   \n",
       "4971  When your friend asks if you had a rough night, nope I'm just ugly lol                                                                                     \n",
       "4980  My girlfriend and I had unprotected sex a couple weeks ago. Her period was supposed to come 3 days ago.... #help                                           \n",
       "4987  Tbh girls that will watch the game with you and pick up the pizza / beer, are bae af.                                                                      \n",
       "\n",
       "      seach_sim  search_pos  \n",
       "1028  188.243    1           \n",
       "1043  154.458    1           \n",
       "1100  156.103    1           \n",
       "1198  143.536    0           \n",
       "1200  160.826    1           \n",
       "...       ...   ..           \n",
       "4904  163.003    1           \n",
       "4930  189.143    1           \n",
       "4971  150.042    1           \n",
       "4980  187.210    1           \n",
       "4987  120.869    0           \n",
       "\n",
       "[111 rows x 9 columns]"
      ]
     },
     "execution_count": 216,
     "metadata": {},
     "output_type": "execute_result"
    }
   ],
   "source": [
    "cutoff_f1 = pd.DataFrame()\n",
    "for i in range(0, 700):\n",
    "    trgts[\"search_pos\"] = trgts[\"seach_sim\"].apply(lambda x: 1 if x > i else 0)\n",
    "    cutoff_f1.at[\"f1\", i] = f1_score(trgts.Drinking[:1000], trgts.search_pos[:1000])\n",
    "\n",
    "cutoff = cutoff_f1.T.idxmax()[0]\n",
    "\n",
    "\n",
    "cutoff_f1_test = pd.DataFrame()\n",
    "for i in range(100, 700):\n",
    "    trgts[\"search_pos\"] = trgts[\"seach_sim\"].apply(lambda x: 1 if x > i else 0)\n",
    "    cutoff_f1_test.at[\"f1\", i] = f1_score(trgts.Drinking[1000:], trgts.search_pos[1000:])\n",
    "\n",
    "\n",
    "\n",
    "trgts[\"search_pos\"] = trgts[\"seach_sim\"].apply(lambda x: 1 if x > cutoff else 0)\n",
    "ddd = trgts[1000:]\n",
    "ddd[ddd[\"search_pos\"] != ddd[\"Drinking\"]]\n",
    "\n"
   ]
  },
  {
   "cell_type": "code",
   "execution_count": null,
   "metadata": {},
   "outputs": [],
   "source": []
  },
  {
   "cell_type": "code",
   "execution_count": null,
   "metadata": {},
   "outputs": [],
   "source": []
  },
  {
   "cell_type": "code",
   "execution_count": 184,
   "metadata": {},
   "outputs": [],
   "source": [
    "trgts = df[:5000]"
   ]
  },
  {
   "cell_type": "code",
   "execution_count": 185,
   "metadata": {},
   "outputs": [],
   "source": [
    "betterTrain = df[5000:]\n",
    "betterTrainAlcohol = betterTrain[betterTrain.Drinking==1][:100]\n",
    "betterTrainNoAlcohol = betterTrain[betterTrain.Drinking!=1][:100]"
   ]
  },
  {
   "cell_type": "code",
   "execution_count": 187,
   "metadata": {},
   "outputs": [],
   "source": [
    "newtrgts = pd.concat([betterTrainAlcohol, betterTrainNoAlcohol, trgts[200:]])"
   ]
  },
  {
   "cell_type": "code",
   "execution_count": 190,
   "metadata": {},
   "outputs": [],
   "source": [
    "trgts = newtrgts.reset_index(drop=True)"
   ]
  },
  {
   "cell_type": "code",
   "execution_count": 191,
   "metadata": {},
   "outputs": [],
   "source": [
    "responses = []\n",
    "startIdx = 0\n",
    "endIdx = 200\n",
    "\n",
    "while startIdx < len(trgts):\n",
    "    #responses = responses + trgts[startIdx:endIdx].text.to_list()\n",
    "    \n",
    "    responses = responses + openai.Engine(\"davinci\").search(documents=\\\n",
    "                trgts[startIdx:endIdx].text.to_list(), query=\"drinking and alcohol\")[\"data\"]\n",
    "    startIdx += 200\n",
    "    endIdx += 200\n"
   ]
  },
  {
   "cell_type": "code",
   "execution_count": 192,
   "metadata": {},
   "outputs": [
    {
     "data": {
      "text/plain": [
       "<matplotlib.axes._subplots.AxesSubplot at 0x1210d59d0>"
      ]
     },
     "execution_count": 192,
     "metadata": {},
     "output_type": "execute_result"
    },
    {
     "data": {
      "image/png": "[encoded data removed]",
      "text/plain": [
       "<Figure size 432x288 with 1 Axes>"
      ]
     },
     "metadata": {
      "needs_background": "light"
     },
     "output_type": "display_data"
    }
   ],
   "source": [
    "trgts[\"seach_sim\"] = [float(x[\"score\"]) for x in responses]\n",
    "\n",
    "cutoff_f1 = pd.DataFrame()\n",
    "for i in range(0, 700):\n",
    "    trgts[\"search_pos\"] = trgts[\"seach_sim\"].apply(lambda x: 1 if x > i else 0)\n",
    "    cutoff_f1.at[\"f1\", i] = f1_score(trgts.Drinking[:1000], trgts.search_pos[:1000])\n",
    "\n",
    "cutoff = cutoff_f1.T.idxmax()[0]\n",
    "\n",
    "\n",
    "cutoff_f1_test = pd.DataFrame()\n",
    "for i in range(100, 700):\n",
    "    trgts[\"search_pos\"] = trgts[\"seach_sim\"].apply(lambda x: 1 if x > i else 0)\n",
    "    cutoff_f1_test.at[\"f1\", i] = f1_score(trgts.Drinking[1000:], trgts.search_pos[1000:])\n",
    "\n",
    "ax = cutoff_f1.T.rename(columns={\"f1\":\"train\"}).plot()\n",
    "cutoff_f1_test.T.rename(columns={\"f1\":\"test\"}).plot(ax=ax)"
   ]
  },
  {
   "cell_type": "code",
   "execution_count": 193,
   "metadata": {},
   "outputs": [],
   "source": [
    "trgts.to_pickle(\"../drinking and alcohol_smartstart.pkl\")"
   ]
  },
  {
   "cell_type": "code",
   "execution_count": 198,
   "metadata": {},
   "outputs": [],
   "source": [
    "trgts[\"search_pos\"] = trgts[\"seach_sim\"].apply(lambda x: 1 if x > cutoff else 0)"
   ]
  },
  {
   "cell_type": "code",
   "execution_count": 194,
   "metadata": {},
   "outputs": [
    {
     "data": {
      "text/plain": [
       "f1    0.668235\n",
       "Name: 134, dtype: float64"
      ]
     },
     "execution_count": 194,
     "metadata": {},
     "output_type": "execute_result"
    }
   ],
   "source": [
    "cutoff_f1_test[cutoff]"
   ]
  },
  {
   "cell_type": "code",
   "execution_count": 200,
   "metadata": {},
   "outputs": [],
   "source": [
    "pd.set_option('display.max_colwidth', -1)\n"
   ]
  },
  {
   "cell_type": "code",
   "execution_count": 201,
   "metadata": {},
   "outputs": [
    {
     "data": {
      "text/html": [
       "<div>\n",
       "<style scoped>\n",
       "    .dataframe tbody tr th:only-of-type {\n",
       "        vertical-align: middle;\n",
       "    }\n",
       "\n",
       "    .dataframe tbody tr th {\n",
       "        vertical-align: top;\n",
       "    }\n",
       "\n",
       "    .dataframe thead th {\n",
       "        text-align: right;\n",
       "    }\n",
       "</style>\n",
       "<table border=\"1\" class=\"dataframe\">\n",
       "  <thead>\n",
       "    <tr style=\"text-align: right;\">\n",
       "      <th></th>\n",
       "      <th>Drinking</th>\n",
       "      <th>Tobacco</th>\n",
       "      <th>Vaping</th>\n",
       "      <th>Marijuana</th>\n",
       "      <th>Illegal drugs</th>\n",
       "      <th>Prescription drugs</th>\n",
       "      <th>text</th>\n",
       "      <th>seach_sim</th>\n",
       "      <th>search_pos</th>\n",
       "    </tr>\n",
       "  </thead>\n",
       "  <tbody>\n",
       "    <tr>\n",
       "      <td>1</td>\n",
       "      <td>1</td>\n",
       "      <td>0</td>\n",
       "      <td>0</td>\n",
       "      <td>0</td>\n",
       "      <td>0</td>\n",
       "      <td>0</td>\n",
       "      <td>Little Italy drunchies tho</td>\n",
       "      <td>104.135</td>\n",
       "      <td>0</td>\n",
       "    </tr>\n",
       "    <tr>\n",
       "      <td>10</td>\n",
       "      <td>1</td>\n",
       "      <td>0</td>\n",
       "      <td>0</td>\n",
       "      <td>0</td>\n",
       "      <td>0</td>\n",
       "      <td>0</td>\n",
       "      <td>Starting off the New Year with money from working the NYE Tempe Block party, no hangover and the gym this afternoon. You better believe I'm doing 2015 right!</td>\n",
       "      <td>102.506</td>\n",
       "      <td>0</td>\n",
       "    </tr>\n",
       "    <tr>\n",
       "      <td>17</td>\n",
       "      <td>1</td>\n",
       "      <td>0</td>\n",
       "      <td>0</td>\n",
       "      <td>0</td>\n",
       "      <td>0</td>\n",
       "      <td>0</td>\n",
       "      <td>Where are the babes that just wanna drink whiskey and come over to my place to play Mario Kart?</td>\n",
       "      <td>102.380</td>\n",
       "      <td>0</td>\n",
       "    </tr>\n",
       "    <tr>\n",
       "      <td>21</td>\n",
       "      <td>1</td>\n",
       "      <td>0</td>\n",
       "      <td>0</td>\n",
       "      <td>0</td>\n",
       "      <td>0</td>\n",
       "      <td>0</td>\n",
       "      <td>Hey Chem 102 students: I know we just met and you're hoping to learn shit, but I'm very drunk and won't want to get up tomorrow, so please just stay home. Love, your TA</td>\n",
       "      <td>113.618</td>\n",
       "      <td>0</td>\n",
       "    </tr>\n",
       "    <tr>\n",
       "      <td>42</td>\n",
       "      <td>1</td>\n",
       "      <td>0</td>\n",
       "      <td>0</td>\n",
       "      <td>0</td>\n",
       "      <td>0</td>\n",
       "      <td>0</td>\n",
       "      <td>Already realizing how tough this semester is going to be without my best friend. I need a new right hand lady. Accepting applications now Netflix and wine are a plus</td>\n",
       "      <td>117.300</td>\n",
       "      <td>0</td>\n",
       "    </tr>\n",
       "    <tr>\n",
       "      <td>...</td>\n",
       "      <td>...</td>\n",
       "      <td>...</td>\n",
       "      <td>...</td>\n",
       "      <td>...</td>\n",
       "      <td>...</td>\n",
       "      <td>...</td>\n",
       "      <td>...</td>\n",
       "      <td>...</td>\n",
       "      <td>...</td>\n",
       "    </tr>\n",
       "    <tr>\n",
       "      <td>4930</td>\n",
       "      <td>0</td>\n",
       "      <td>0</td>\n",
       "      <td>0</td>\n",
       "      <td>0</td>\n",
       "      <td>0</td>\n",
       "      <td>0</td>\n",
       "      <td>U of A students #YOLO with wine coolers.</td>\n",
       "      <td>189.428</td>\n",
       "      <td>1</td>\n",
       "    </tr>\n",
       "    <tr>\n",
       "      <td>4971</td>\n",
       "      <td>0</td>\n",
       "      <td>0</td>\n",
       "      <td>0</td>\n",
       "      <td>0</td>\n",
       "      <td>0</td>\n",
       "      <td>0</td>\n",
       "      <td>When your friend asks if you had a rough night, nope I'm just ugly lol</td>\n",
       "      <td>150.255</td>\n",
       "      <td>1</td>\n",
       "    </tr>\n",
       "    <tr>\n",
       "      <td>4980</td>\n",
       "      <td>0</td>\n",
       "      <td>0</td>\n",
       "      <td>0</td>\n",
       "      <td>0</td>\n",
       "      <td>0</td>\n",
       "      <td>0</td>\n",
       "      <td>My girlfriend and I had unprotected sex a couple weeks ago. Her period was supposed to come 3 days ago.... #help</td>\n",
       "      <td>187.210</td>\n",
       "      <td>1</td>\n",
       "    </tr>\n",
       "    <tr>\n",
       "      <td>4981</td>\n",
       "      <td>0</td>\n",
       "      <td>0</td>\n",
       "      <td>0</td>\n",
       "      <td>0</td>\n",
       "      <td>0</td>\n",
       "      <td>0</td>\n",
       "      <td>Party at regents. Girls invited</td>\n",
       "      <td>136.849</td>\n",
       "      <td>1</td>\n",
       "    </tr>\n",
       "    <tr>\n",
       "      <td>4987</td>\n",
       "      <td>1</td>\n",
       "      <td>0</td>\n",
       "      <td>0</td>\n",
       "      <td>0</td>\n",
       "      <td>0</td>\n",
       "      <td>0</td>\n",
       "      <td>Tbh girls that will watch the game with you and pick up the pizza / beer, are bae af.</td>\n",
       "      <td>123.328</td>\n",
       "      <td>0</td>\n",
       "    </tr>\n",
       "  </tbody>\n",
       "</table>\n",
       "<p>177 rows × 9 columns</p>\n",
       "</div>"
      ],
      "text/plain": [
       "      Drinking  Tobacco  Vaping  Marijuana  Illegal drugs  Prescription drugs  \\\n",
       "1     1         0        0       0          0              0                    \n",
       "10    1         0        0       0          0              0                    \n",
       "17    1         0        0       0          0              0                    \n",
       "21    1         0        0       0          0              0                    \n",
       "42    1         0        0       0          0              0                    \n",
       "...  ..        ..       ..      ..         ..             ..                    \n",
       "4930  0         0        0       0          0              0                    \n",
       "4971  0         0        0       0          0              0                    \n",
       "4980  0         0        0       0          0              0                    \n",
       "4981  0         0        0       0          0              0                    \n",
       "4987  1         0        0       0          0              0                    \n",
       "\n",
       "                                                                                                                                                                          text  \\\n",
       "1     Little Italy drunchies tho                                                                                                                                                 \n",
       "10    Starting off the New Year with money from working the NYE Tempe Block party, no hangover and the gym this afternoon. You better believe I'm doing 2015 right!              \n",
       "17    Where are the babes that just wanna drink whiskey and come over to my place to play Mario Kart?                                                                            \n",
       "21    Hey Chem 102 students: I know we just met and you're hoping to learn shit, but I'm very drunk and won't want to get up tomorrow, so please just stay home. Love, your TA   \n",
       "42    Already realizing how tough this semester is going to be without my best friend. I need a new right hand lady. Accepting applications now Netflix and wine are a plus      \n",
       "...                                                                                                                                                                     ...      \n",
       "4930  U of A students #YOLO with wine coolers.                                                                                                                                   \n",
       "4971  When your friend asks if you had a rough night, nope I'm just ugly lol                                                                                                     \n",
       "4980  My girlfriend and I had unprotected sex a couple weeks ago. Her period was supposed to come 3 days ago.... #help                                                           \n",
       "4981  Party at regents. Girls invited                                                                                                                                            \n",
       "4987  Tbh girls that will watch the game with you and pick up the pizza / beer, are bae af.                                                                                      \n",
       "\n",
       "      seach_sim  search_pos  \n",
       "1     104.135    0           \n",
       "10    102.506    0           \n",
       "17    102.380    0           \n",
       "21    113.618    0           \n",
       "42    117.300    0           \n",
       "...       ...   ..           \n",
       "4930  189.428    1           \n",
       "4971  150.255    1           \n",
       "4980  187.210    1           \n",
       "4981  136.849    1           \n",
       "4987  123.328    0           \n",
       "\n",
       "[177 rows x 9 columns]"
      ]
     },
     "execution_count": 201,
     "metadata": {},
     "output_type": "execute_result"
    }
   ],
   "source": [
    "trgts[trgts[\"search_pos\"] != trgts[\"Drinking\"]]"
   ]
  },
  {
   "cell_type": "markdown",
   "metadata": {},
   "source": [
    "# TRY OR"
   ]
  },
  {
   "cell_type": "code",
   "execution_count": 202,
   "metadata": {},
   "outputs": [
    {
     "name": "stderr",
     "output_type": "stream",
     "text": [
      "/Library/anaconda3/lib/python3.7/site-packages/ipykernel_launcher.py:14: SettingWithCopyWarning: \n",
      "A value is trying to be set on a copy of a slice from a DataFrame.\n",
      "Try using .loc[row_indexer,col_indexer] = value instead\n",
      "\n",
      "See the caveats in the documentation: http://pandas.pydata.org/pandas-docs/stable/user_guide/indexing.html#returning-a-view-versus-a-copy\n",
      "  \n",
      "/Library/anaconda3/lib/python3.7/site-packages/ipykernel_launcher.py:18: SettingWithCopyWarning: \n",
      "A value is trying to be set on a copy of a slice from a DataFrame.\n",
      "Try using .loc[row_indexer,col_indexer] = value instead\n",
      "\n",
      "See the caveats in the documentation: http://pandas.pydata.org/pandas-docs/stable/user_guide/indexing.html#returning-a-view-versus-a-copy\n",
      "/Library/anaconda3/lib/python3.7/site-packages/ipykernel_launcher.py:26: SettingWithCopyWarning: \n",
      "A value is trying to be set on a copy of a slice from a DataFrame.\n",
      "Try using .loc[row_indexer,col_indexer] = value instead\n",
      "\n",
      "See the caveats in the documentation: http://pandas.pydata.org/pandas-docs/stable/user_guide/indexing.html#returning-a-view-versus-a-copy\n"
     ]
    },
    {
     "data": {
      "text/plain": [
       "<matplotlib.axes._subplots.AxesSubplot at 0x12106ea50>"
      ]
     },
     "execution_count": 202,
     "metadata": {},
     "output_type": "execute_result"
    },
    {
     "data": {
      "image/png": "[encoded data removed]",
      "text/plain": [
       "<Figure size 432x288 with 1 Axes>"
      ]
     },
     "metadata": {
      "needs_background": "light"
     },
     "output_type": "display_data"
    }
   ],
   "source": [
    "responses = []\n",
    "trgts = df[:5000]\n",
    "startIdx = 0\n",
    "endIdx = 200\n",
    "while startIdx < len(trgts):\n",
    "    #responses = responses + trgts[startIdx:endIdx].text.to_list()\n",
    "    \n",
    "    responses = responses + openai.Engine(\"davinci\").search(documents=\\\n",
    "                trgts[startIdx:endIdx].text.to_list(), query=\"drunk or drinking\")[\"data\"]\n",
    "    startIdx += 200\n",
    "    endIdx += 200\n",
    "    time.sleep(2)\n",
    "\n",
    "trgts[\"seach_sim\"] = [float(x[\"score\"]) for x in responses]\n",
    "\n",
    "cutoff_f1 = pd.DataFrame()\n",
    "for i in range(0, 700):\n",
    "    trgts[\"search_pos\"] = trgts[\"seach_sim\"].apply(lambda x: 1 if x > i else 0)\n",
    "    cutoff_f1.at[\"f1\", i] = f1_score(trgts.Drinking[:1000], trgts.search_pos[:1000])\n",
    "\n",
    "cutoff = cutoff_f1.T.idxmax()[0]\n",
    "cutoff\n",
    "\n",
    "cutoff_f1_test = pd.DataFrame()\n",
    "for i in range(0, 700):\n",
    "    trgts[\"search_pos\"] = trgts[\"seach_sim\"].apply(lambda x: 1 if x > i else 0)\n",
    "    cutoff_f1_test.at[\"f1\", i] = f1_score(trgts.Drinking[1000:], trgts.search_pos[1000:])\n",
    "\n",
    "ax = cutoff_f1.T.rename(columns={\"f1\":\"train\"}).plot()\n",
    "cutoff_f1_test.T.rename(columns={\"f1\":\"test\"}).plot(ax=ax)"
   ]
  },
  {
   "cell_type": "code",
   "execution_count": 203,
   "metadata": {},
   "outputs": [],
   "source": [
    "trgts.to_pickle(\"../drunk or drinking.pkl\")"
   ]
  },
  {
   "cell_type": "code",
   "execution_count": 204,
   "metadata": {},
   "outputs": [
    {
     "data": {
      "text/plain": [
       "f1    0.702439\n",
       "Name: 139, dtype: float64"
      ]
     },
     "execution_count": 204,
     "metadata": {},
     "output_type": "execute_result"
    }
   ],
   "source": [
    "cutoff_f1_test[cutoff]"
   ]
  },
  {
   "cell_type": "code",
   "execution_count": 205,
   "metadata": {
    "scrolled": true
   },
   "outputs": [
    {
     "name": "stderr",
     "output_type": "stream",
     "text": [
      "/Library/anaconda3/lib/python3.7/site-packages/ipykernel_launcher.py:1: SettingWithCopyWarning: \n",
      "A value is trying to be set on a copy of a slice from a DataFrame.\n",
      "Try using .loc[row_indexer,col_indexer] = value instead\n",
      "\n",
      "See the caveats in the documentation: http://pandas.pydata.org/pandas-docs/stable/user_guide/indexing.html#returning-a-view-versus-a-copy\n",
      "  \"\"\"Entry point for launching an IPython kernel.\n"
     ]
    },
    {
     "data": {
      "text/html": [
       "<div>\n",
       "<style scoped>\n",
       "    .dataframe tbody tr th:only-of-type {\n",
       "        vertical-align: middle;\n",
       "    }\n",
       "\n",
       "    .dataframe tbody tr th {\n",
       "        vertical-align: top;\n",
       "    }\n",
       "\n",
       "    .dataframe thead th {\n",
       "        text-align: right;\n",
       "    }\n",
       "</style>\n",
       "<table border=\"1\" class=\"dataframe\">\n",
       "  <thead>\n",
       "    <tr style=\"text-align: right;\">\n",
       "      <th></th>\n",
       "      <th>Drinking</th>\n",
       "      <th>Tobacco</th>\n",
       "      <th>Vaping</th>\n",
       "      <th>Marijuana</th>\n",
       "      <th>Illegal drugs</th>\n",
       "      <th>Prescription drugs</th>\n",
       "      <th>text</th>\n",
       "      <th>seach_sim</th>\n",
       "      <th>search_pos</th>\n",
       "    </tr>\n",
       "  </thead>\n",
       "  <tbody>\n",
       "    <tr>\n",
       "      <td>18</td>\n",
       "      <td>0</td>\n",
       "      <td>0</td>\n",
       "      <td>0</td>\n",
       "      <td>0</td>\n",
       "      <td>0</td>\n",
       "      <td>0</td>\n",
       "      <td>Are we allowed to call DART to get us home after leg day?</td>\n",
       "      <td>175.699</td>\n",
       "      <td>1</td>\n",
       "    </tr>\n",
       "    <tr>\n",
       "      <td>20</td>\n",
       "      <td>1</td>\n",
       "      <td>0</td>\n",
       "      <td>0</td>\n",
       "      <td>0</td>\n",
       "      <td>0</td>\n",
       "      <td>0</td>\n",
       "      <td>Everyone was getting turnt up and crazy while I was at home with an old high school friend watching The Incredibles. Now that was a fun New Years Eve ^_^</td>\n",
       "      <td>27.021</td>\n",
       "      <td>0</td>\n",
       "    </tr>\n",
       "    <tr>\n",
       "      <td>44</td>\n",
       "      <td>0</td>\n",
       "      <td>0</td>\n",
       "      <td>0</td>\n",
       "      <td>0</td>\n",
       "      <td>0</td>\n",
       "      <td>0</td>\n",
       "      <td>Hangover 1 is still funny af</td>\n",
       "      <td>192.883</td>\n",
       "      <td>1</td>\n",
       "    </tr>\n",
       "    <tr>\n",
       "      <td>243</td>\n",
       "      <td>0</td>\n",
       "      <td>0</td>\n",
       "      <td>0</td>\n",
       "      <td>0</td>\n",
       "      <td>0</td>\n",
       "      <td>0</td>\n",
       "      <td>Anybody in sassnet wanna pregame?</td>\n",
       "      <td>215.994</td>\n",
       "      <td>1</td>\n",
       "    </tr>\n",
       "    <tr>\n",
       "      <td>260</td>\n",
       "      <td>0</td>\n",
       "      <td>0</td>\n",
       "      <td>0</td>\n",
       "      <td>0</td>\n",
       "      <td>0</td>\n",
       "      <td>0</td>\n",
       "      <td>Fireworks on campus or what...</td>\n",
       "      <td>154.330</td>\n",
       "      <td>1</td>\n",
       "    </tr>\n",
       "    <tr>\n",
       "      <td>...</td>\n",
       "      <td>...</td>\n",
       "      <td>...</td>\n",
       "      <td>...</td>\n",
       "      <td>...</td>\n",
       "      <td>...</td>\n",
       "      <td>...</td>\n",
       "      <td>...</td>\n",
       "      <td>...</td>\n",
       "      <td>...</td>\n",
       "    </tr>\n",
       "    <tr>\n",
       "      <td>4904</td>\n",
       "      <td>0</td>\n",
       "      <td>0</td>\n",
       "      <td>0</td>\n",
       "      <td>0</td>\n",
       "      <td>0</td>\n",
       "      <td>0</td>\n",
       "      <td>Mimosas... That is all</td>\n",
       "      <td>168.530</td>\n",
       "      <td>1</td>\n",
       "    </tr>\n",
       "    <tr>\n",
       "      <td>4930</td>\n",
       "      <td>0</td>\n",
       "      <td>0</td>\n",
       "      <td>0</td>\n",
       "      <td>0</td>\n",
       "      <td>0</td>\n",
       "      <td>0</td>\n",
       "      <td>U of A students #YOLO with wine coolers.</td>\n",
       "      <td>154.361</td>\n",
       "      <td>1</td>\n",
       "    </tr>\n",
       "    <tr>\n",
       "      <td>4980</td>\n",
       "      <td>0</td>\n",
       "      <td>0</td>\n",
       "      <td>0</td>\n",
       "      <td>0</td>\n",
       "      <td>0</td>\n",
       "      <td>0</td>\n",
       "      <td>My girlfriend and I had unprotected sex a couple weeks ago. Her period was supposed to come 3 days ago.... #help</td>\n",
       "      <td>170.715</td>\n",
       "      <td>1</td>\n",
       "    </tr>\n",
       "    <tr>\n",
       "      <td>4981</td>\n",
       "      <td>0</td>\n",
       "      <td>0</td>\n",
       "      <td>0</td>\n",
       "      <td>0</td>\n",
       "      <td>0</td>\n",
       "      <td>0</td>\n",
       "      <td>Party at regents. Girls invited</td>\n",
       "      <td>182.094</td>\n",
       "      <td>1</td>\n",
       "    </tr>\n",
       "    <tr>\n",
       "      <td>4987</td>\n",
       "      <td>1</td>\n",
       "      <td>0</td>\n",
       "      <td>0</td>\n",
       "      <td>0</td>\n",
       "      <td>0</td>\n",
       "      <td>0</td>\n",
       "      <td>Tbh girls that will watch the game with you and pick up the pizza / beer, are bae af.</td>\n",
       "      <td>111.420</td>\n",
       "      <td>0</td>\n",
       "    </tr>\n",
       "  </tbody>\n",
       "</table>\n",
       "<p>142 rows × 9 columns</p>\n",
       "</div>"
      ],
      "text/plain": [
       "      Drinking  Tobacco  Vaping  Marijuana  Illegal drugs  Prescription drugs  \\\n",
       "18    0         0        0       0          0              0                    \n",
       "20    1         0        0       0          0              0                    \n",
       "44    0         0        0       0          0              0                    \n",
       "243   0         0        0       0          0              0                    \n",
       "260   0         0        0       0          0              0                    \n",
       "...  ..        ..       ..      ..         ..             ..                    \n",
       "4904  0         0        0       0          0              0                    \n",
       "4930  0         0        0       0          0              0                    \n",
       "4980  0         0        0       0          0              0                    \n",
       "4981  0         0        0       0          0              0                    \n",
       "4987  1         0        0       0          0              0                    \n",
       "\n",
       "                                                                                                                                                           text  \\\n",
       "18    Are we allowed to call DART to get us home after leg day?                                                                                                   \n",
       "20    Everyone was getting turnt up and crazy while I was at home with an old high school friend watching The Incredibles. Now that was a fun New Years Eve ^_^   \n",
       "44    Hangover 1 is still funny af                                                                                                                                \n",
       "243   Anybody in sassnet wanna pregame?                                                                                                                           \n",
       "260   Fireworks on campus or what...                                                                                                                              \n",
       "...                              ...                                                                                                                              \n",
       "4904  Mimosas... That is all                                                                                                                                      \n",
       "4930  U of A students #YOLO with wine coolers.                                                                                                                    \n",
       "4980  My girlfriend and I had unprotected sex a couple weeks ago. Her period was supposed to come 3 days ago.... #help                                            \n",
       "4981  Party at regents. Girls invited                                                                                                                             \n",
       "4987  Tbh girls that will watch the game with you and pick up the pizza / beer, are bae af.                                                                       \n",
       "\n",
       "      seach_sim  search_pos  \n",
       "18    175.699    1           \n",
       "20    27.021     0           \n",
       "44    192.883    1           \n",
       "243   215.994    1           \n",
       "260   154.330    1           \n",
       "...       ...   ..           \n",
       "4904  168.530    1           \n",
       "4930  154.361    1           \n",
       "4980  170.715    1           \n",
       "4981  182.094    1           \n",
       "4987  111.420    0           \n",
       "\n",
       "[142 rows x 9 columns]"
      ]
     },
     "execution_count": 205,
     "metadata": {},
     "output_type": "execute_result"
    }
   ],
   "source": [
    "trgts[\"search_pos\"] = trgts[\"seach_sim\"].apply(lambda x: 1 if x > cutoff else 0)\n",
    "trgts[trgts[\"search_pos\"] != trgts[\"Drinking\"]]"
   ]
  },
  {
   "cell_type": "code",
   "execution_count": 206,
   "metadata": {},
   "outputs": [],
   "source": [
    "# Wine, beer, or liquor"
   ]
  },
  {
   "cell_type": "code",
   "execution_count": 207,
   "metadata": {},
   "outputs": [
    {
     "name": "stderr",
     "output_type": "stream",
     "text": [
      "/Library/anaconda3/lib/python3.7/site-packages/ipykernel_launcher.py:14: SettingWithCopyWarning: \n",
      "A value is trying to be set on a copy of a slice from a DataFrame.\n",
      "Try using .loc[row_indexer,col_indexer] = value instead\n",
      "\n",
      "See the caveats in the documentation: http://pandas.pydata.org/pandas-docs/stable/user_guide/indexing.html#returning-a-view-versus-a-copy\n",
      "  \n",
      "/Library/anaconda3/lib/python3.7/site-packages/ipykernel_launcher.py:18: SettingWithCopyWarning: \n",
      "A value is trying to be set on a copy of a slice from a DataFrame.\n",
      "Try using .loc[row_indexer,col_indexer] = value instead\n",
      "\n",
      "See the caveats in the documentation: http://pandas.pydata.org/pandas-docs/stable/user_guide/indexing.html#returning-a-view-versus-a-copy\n",
      "/Library/anaconda3/lib/python3.7/site-packages/ipykernel_launcher.py:26: SettingWithCopyWarning: \n",
      "A value is trying to be set on a copy of a slice from a DataFrame.\n",
      "Try using .loc[row_indexer,col_indexer] = value instead\n",
      "\n",
      "See the caveats in the documentation: http://pandas.pydata.org/pandas-docs/stable/user_guide/indexing.html#returning-a-view-versus-a-copy\n"
     ]
    },
    {
     "data": {
      "image/png": "[encoded data removed]",
      "text/plain": [
       "<Figure size 432x288 with 1 Axes>"
      ]
     },
     "metadata": {
      "needs_background": "light"
     },
     "output_type": "display_data"
    }
   ],
   "source": [
    "responses = []\n",
    "trgts = df[:5000]\n",
    "startIdx = 0\n",
    "endIdx = 200\n",
    "while startIdx < len(trgts):\n",
    "    #responses = responses + trgts[startIdx:endIdx].text.to_list()\n",
    "    \n",
    "    responses = responses + openai.Engine(\"davinci\").search(documents=\\\n",
    "                trgts[startIdx:endIdx].text.to_list(), query=\"wine or beer or liquor\")[\"data\"]\n",
    "    startIdx += 200\n",
    "    endIdx += 200\n",
    "    time.sleep(2)\n",
    "\n",
    "trgts[\"seach_sim\"] = [float(x[\"score\"]) for x in responses]\n",
    "\n",
    "cutoff_f1 = pd.DataFrame()\n",
    "for i in range(0, 700):\n",
    "    trgts[\"search_pos\"] = trgts[\"seach_sim\"].apply(lambda x: 1 if x > i else 0)\n",
    "    cutoff_f1.at[\"f1\", i] = f1_score(trgts.Drinking[:1000], trgts.search_pos[:1000])\n",
    "\n",
    "cutoff = cutoff_f1.T.idxmax()[0]\n",
    "cutoff\n",
    "\n",
    "cutoff_f1_test = pd.DataFrame()\n",
    "for i in range(0, 700):\n",
    "    trgts[\"search_pos\"] = trgts[\"seach_sim\"].apply(lambda x: 1 if x > i else 0)\n",
    "    cutoff_f1_test.at[\"f1\", i] = f1_score(trgts.Drinking[1000:], trgts.search_pos[1000:])\n",
    "\n",
    "ax = cutoff_f1.T.rename(columns={\"f1\":\"train\"}).plot()\n",
    "cutoff_f1_test.T.rename(columns={\"f1\":\"test\"}).plot(ax=ax)\n",
    "\n",
    "trgts.to_pickle(\"../wine or beer or liquor.pkl\")"
   ]
  },
  {
   "cell_type": "code",
   "execution_count": 208,
   "metadata": {},
   "outputs": [
    {
     "data": {
      "text/plain": [
       "f1    0.699229\n",
       "Name: 80, dtype: float64"
      ]
     },
     "execution_count": 208,
     "metadata": {},
     "output_type": "execute_result"
    }
   ],
   "source": [
    "cutoff_f1_test[cutoff]"
   ]
  },
  {
   "cell_type": "code",
   "execution_count": 209,
   "metadata": {
    "scrolled": true
   },
   "outputs": [
    {
     "name": "stderr",
     "output_type": "stream",
     "text": [
      "/Library/anaconda3/lib/python3.7/site-packages/ipykernel_launcher.py:1: SettingWithCopyWarning: \n",
      "A value is trying to be set on a copy of a slice from a DataFrame.\n",
      "Try using .loc[row_indexer,col_indexer] = value instead\n",
      "\n",
      "See the caveats in the documentation: http://pandas.pydata.org/pandas-docs/stable/user_guide/indexing.html#returning-a-view-versus-a-copy\n",
      "  \"\"\"Entry point for launching an IPython kernel.\n"
     ]
    },
    {
     "data": {
      "text/html": [
       "<div>\n",
       "<style scoped>\n",
       "    .dataframe tbody tr th:only-of-type {\n",
       "        vertical-align: middle;\n",
       "    }\n",
       "\n",
       "    .dataframe tbody tr th {\n",
       "        vertical-align: top;\n",
       "    }\n",
       "\n",
       "    .dataframe thead th {\n",
       "        text-align: right;\n",
       "    }\n",
       "</style>\n",
       "<table border=\"1\" class=\"dataframe\">\n",
       "  <thead>\n",
       "    <tr style=\"text-align: right;\">\n",
       "      <th></th>\n",
       "      <th>Drinking</th>\n",
       "      <th>Tobacco</th>\n",
       "      <th>Vaping</th>\n",
       "      <th>Marijuana</th>\n",
       "      <th>Illegal drugs</th>\n",
       "      <th>Prescription drugs</th>\n",
       "      <th>text</th>\n",
       "      <th>seach_sim</th>\n",
       "      <th>search_pos</th>\n",
       "    </tr>\n",
       "  </thead>\n",
       "  <tbody>\n",
       "    <tr>\n",
       "      <td>20</td>\n",
       "      <td>1</td>\n",
       "      <td>0</td>\n",
       "      <td>0</td>\n",
       "      <td>0</td>\n",
       "      <td>0</td>\n",
       "      <td>0</td>\n",
       "      <td>Everyone was getting turnt up and crazy while I was at home with an old high school friend watching The Incredibles. Now that was a fun New Years Eve ^_^</td>\n",
       "      <td>2.436</td>\n",
       "      <td>0</td>\n",
       "    </tr>\n",
       "    <tr>\n",
       "      <td>44</td>\n",
       "      <td>0</td>\n",
       "      <td>0</td>\n",
       "      <td>0</td>\n",
       "      <td>0</td>\n",
       "      <td>0</td>\n",
       "      <td>0</td>\n",
       "      <td>Hangover 1 is still funny af</td>\n",
       "      <td>91.131</td>\n",
       "      <td>1</td>\n",
       "    </tr>\n",
       "    <tr>\n",
       "      <td>98</td>\n",
       "      <td>1</td>\n",
       "      <td>0</td>\n",
       "      <td>0</td>\n",
       "      <td>0</td>\n",
       "      <td>0</td>\n",
       "      <td>0</td>\n",
       "      <td>Motto to live by: lift heavy, drink heavy, study hard, fuck hard</td>\n",
       "      <td>75.510</td>\n",
       "      <td>0</td>\n",
       "    </tr>\n",
       "    <tr>\n",
       "      <td>122</td>\n",
       "      <td>0</td>\n",
       "      <td>0</td>\n",
       "      <td>0</td>\n",
       "      <td>0</td>\n",
       "      <td>0</td>\n",
       "      <td>1</td>\n",
       "      <td>whose got the xanax</td>\n",
       "      <td>115.351</td>\n",
       "      <td>1</td>\n",
       "    </tr>\n",
       "    <tr>\n",
       "      <td>135</td>\n",
       "      <td>1</td>\n",
       "      <td>0</td>\n",
       "      <td>0</td>\n",
       "      <td>0</td>\n",
       "      <td>0</td>\n",
       "      <td>0</td>\n",
       "      <td>Saturday night, syllabus week. Blackout or blackout Devils. Turn up and get home safely yall.</td>\n",
       "      <td>49.950</td>\n",
       "      <td>0</td>\n",
       "    </tr>\n",
       "    <tr>\n",
       "      <td>...</td>\n",
       "      <td>...</td>\n",
       "      <td>...</td>\n",
       "      <td>...</td>\n",
       "      <td>...</td>\n",
       "      <td>...</td>\n",
       "      <td>...</td>\n",
       "      <td>...</td>\n",
       "      <td>...</td>\n",
       "      <td>...</td>\n",
       "    </tr>\n",
       "    <tr>\n",
       "      <td>4851</td>\n",
       "      <td>0</td>\n",
       "      <td>0</td>\n",
       "      <td>0</td>\n",
       "      <td>0</td>\n",
       "      <td>0</td>\n",
       "      <td>0</td>\n",
       "      <td>If you've dated a redhead, raise your glasses. If not, raise your standards.</td>\n",
       "      <td>86.292</td>\n",
       "      <td>1</td>\n",
       "    </tr>\n",
       "    <tr>\n",
       "      <td>4904</td>\n",
       "      <td>0</td>\n",
       "      <td>0</td>\n",
       "      <td>0</td>\n",
       "      <td>0</td>\n",
       "      <td>0</td>\n",
       "      <td>0</td>\n",
       "      <td>Mimosas... That is all</td>\n",
       "      <td>138.967</td>\n",
       "      <td>1</td>\n",
       "    </tr>\n",
       "    <tr>\n",
       "      <td>4930</td>\n",
       "      <td>0</td>\n",
       "      <td>0</td>\n",
       "      <td>0</td>\n",
       "      <td>0</td>\n",
       "      <td>0</td>\n",
       "      <td>0</td>\n",
       "      <td>U of A students #YOLO with wine coolers.</td>\n",
       "      <td>83.420</td>\n",
       "      <td>1</td>\n",
       "    </tr>\n",
       "    <tr>\n",
       "      <td>4976</td>\n",
       "      <td>0</td>\n",
       "      <td>0</td>\n",
       "      <td>0</td>\n",
       "      <td>1</td>\n",
       "      <td>0</td>\n",
       "      <td>0</td>\n",
       "      <td>Jesus i just want weed is that too much to ask</td>\n",
       "      <td>97.679</td>\n",
       "      <td>1</td>\n",
       "    </tr>\n",
       "    <tr>\n",
       "      <td>4987</td>\n",
       "      <td>1</td>\n",
       "      <td>0</td>\n",
       "      <td>0</td>\n",
       "      <td>0</td>\n",
       "      <td>0</td>\n",
       "      <td>0</td>\n",
       "      <td>Tbh girls that will watch the game with you and pick up the pizza / beer, are bae af.</td>\n",
       "      <td>39.593</td>\n",
       "      <td>0</td>\n",
       "    </tr>\n",
       "  </tbody>\n",
       "</table>\n",
       "<p>142 rows × 9 columns</p>\n",
       "</div>"
      ],
      "text/plain": [
       "      Drinking  Tobacco  Vaping  Marijuana  Illegal drugs  Prescription drugs  \\\n",
       "20    1         0        0       0          0              0                    \n",
       "44    0         0        0       0          0              0                    \n",
       "98    1         0        0       0          0              0                    \n",
       "122   0         0        0       0          0              1                    \n",
       "135   1         0        0       0          0              0                    \n",
       "...  ..        ..       ..      ..         ..             ..                    \n",
       "4851  0         0        0       0          0              0                    \n",
       "4904  0         0        0       0          0              0                    \n",
       "4930  0         0        0       0          0              0                    \n",
       "4976  0         0        0       1          0              0                    \n",
       "4987  1         0        0       0          0              0                    \n",
       "\n",
       "                                                                                                                                                           text  \\\n",
       "20    Everyone was getting turnt up and crazy while I was at home with an old high school friend watching The Incredibles. Now that was a fun New Years Eve ^_^   \n",
       "44    Hangover 1 is still funny af                                                                                                                                \n",
       "98    Motto to live by: lift heavy, drink heavy, study hard, fuck hard                                                                                            \n",
       "122   whose got the xanax                                                                                                                                         \n",
       "135   Saturday night, syllabus week. Blackout or blackout Devils. Turn up and get home safely yall.                                                               \n",
       "...                                                                                             ...                                                               \n",
       "4851  If you've dated a redhead, raise your glasses. If not, raise your standards.                                                                                \n",
       "4904  Mimosas... That is all                                                                                                                                      \n",
       "4930  U of A students #YOLO with wine coolers.                                                                                                                    \n",
       "4976  Jesus i just want weed is that too much to ask                                                                                                              \n",
       "4987  Tbh girls that will watch the game with you and pick up the pizza / beer, are bae af.                                                                       \n",
       "\n",
       "      seach_sim  search_pos  \n",
       "20    2.436      0           \n",
       "44    91.131     1           \n",
       "98    75.510     0           \n",
       "122   115.351    1           \n",
       "135   49.950     0           \n",
       "...      ...    ..           \n",
       "4851  86.292     1           \n",
       "4904  138.967    1           \n",
       "4930  83.420     1           \n",
       "4976  97.679     1           \n",
       "4987  39.593     0           \n",
       "\n",
       "[142 rows x 9 columns]"
      ]
     },
     "execution_count": 209,
     "metadata": {},
     "output_type": "execute_result"
    }
   ],
   "source": [
    "trgts[\"search_pos\"] = trgts[\"seach_sim\"].apply(lambda x: 1 if x > cutoff else 0)\n",
    "trgts[trgts[\"search_pos\"] != trgts[\"Drinking\"]]"
   ]
  },
  {
   "cell_type": "markdown",
   "metadata": {},
   "source": [
    "# Drinking Wine and Alcohol"
   ]
  },
  {
   "cell_type": "code",
   "execution_count": 210,
   "metadata": {},
   "outputs": [
    {
     "name": "stderr",
     "output_type": "stream",
     "text": [
      "/Library/anaconda3/lib/python3.7/site-packages/ipykernel_launcher.py:14: SettingWithCopyWarning: \n",
      "A value is trying to be set on a copy of a slice from a DataFrame.\n",
      "Try using .loc[row_indexer,col_indexer] = value instead\n",
      "\n",
      "See the caveats in the documentation: http://pandas.pydata.org/pandas-docs/stable/user_guide/indexing.html#returning-a-view-versus-a-copy\n",
      "  \n",
      "/Library/anaconda3/lib/python3.7/site-packages/ipykernel_launcher.py:18: SettingWithCopyWarning: \n",
      "A value is trying to be set on a copy of a slice from a DataFrame.\n",
      "Try using .loc[row_indexer,col_indexer] = value instead\n",
      "\n",
      "See the caveats in the documentation: http://pandas.pydata.org/pandas-docs/stable/user_guide/indexing.html#returning-a-view-versus-a-copy\n",
      "/Library/anaconda3/lib/python3.7/site-packages/ipykernel_launcher.py:26: SettingWithCopyWarning: \n",
      "A value is trying to be set on a copy of a slice from a DataFrame.\n",
      "Try using .loc[row_indexer,col_indexer] = value instead\n",
      "\n",
      "See the caveats in the documentation: http://pandas.pydata.org/pandas-docs/stable/user_guide/indexing.html#returning-a-view-versus-a-copy\n"
     ]
    },
    {
     "data": {
      "image/png": "[encoded data removed]",
      "text/plain": [
       "<Figure size 432x288 with 1 Axes>"
      ]
     },
     "metadata": {
      "needs_background": "light"
     },
     "output_type": "display_data"
    }
   ],
   "source": [
    "responses = []\n",
    "trgts = df[:5000]\n",
    "startIdx = 0\n",
    "endIdx = 200\n",
    "while startIdx < len(trgts):\n",
    "    #responses = responses + trgts[startIdx:endIdx].text.to_list()\n",
    "    \n",
    "    responses = responses + openai.Engine(\"davinci\").search(documents=\\\n",
    "                trgts[startIdx:endIdx].text.to_list(), query=\"drinking wine and alcohol\")[\"data\"]\n",
    "    startIdx += 200\n",
    "    endIdx += 200\n",
    "    time.sleep(2)\n",
    "\n",
    "trgts[\"seach_sim\"] = [float(x[\"score\"]) for x in responses]\n",
    "\n",
    "cutoff_f1 = pd.DataFrame()\n",
    "for i in range(0, 700):\n",
    "    trgts[\"search_pos\"] = trgts[\"seach_sim\"].apply(lambda x: 1 if x > i else 0)\n",
    "    cutoff_f1.at[\"f1\", i] = f1_score(trgts.Drinking[:1000], trgts.search_pos[:1000])\n",
    "\n",
    "cutoff = cutoff_f1.T.idxmax()[0]\n",
    "cutoff\n",
    "\n",
    "cutoff_f1_test = pd.DataFrame()\n",
    "for i in range(0, 700):\n",
    "    trgts[\"search_pos\"] = trgts[\"seach_sim\"].apply(lambda x: 1 if x > i else 0)\n",
    "    cutoff_f1_test.at[\"f1\", i] = f1_score(trgts.Drinking[1000:], trgts.search_pos[1000:])\n",
    "\n",
    "ax = cutoff_f1.T.rename(columns={\"f1\":\"train\"}).plot()\n",
    "cutoff_f1_test.T.rename(columns={\"f1\":\"test\"}).plot(ax=ax)\n",
    "\n",
    "trgts.to_pickle(\"../drinking wine and alcohol.pkl\")"
   ]
  },
  {
   "cell_type": "code",
   "execution_count": 211,
   "metadata": {},
   "outputs": [
    {
     "data": {
      "text/plain": [
       "f1    0.655827\n",
       "Name: 63, dtype: float64"
      ]
     },
     "execution_count": 211,
     "metadata": {},
     "output_type": "execute_result"
    }
   ],
   "source": [
    "cutoff_f1_test[cutoff]"
   ]
  },
  {
   "cell_type": "code",
   "execution_count": 212,
   "metadata": {},
   "outputs": [
    {
     "name": "stderr",
     "output_type": "stream",
     "text": [
      "/Library/anaconda3/lib/python3.7/site-packages/ipykernel_launcher.py:1: SettingWithCopyWarning: \n",
      "A value is trying to be set on a copy of a slice from a DataFrame.\n",
      "Try using .loc[row_indexer,col_indexer] = value instead\n",
      "\n",
      "See the caveats in the documentation: http://pandas.pydata.org/pandas-docs/stable/user_guide/indexing.html#returning-a-view-versus-a-copy\n",
      "  \"\"\"Entry point for launching an IPython kernel.\n"
     ]
    },
    {
     "data": {
      "text/html": [
       "<div>\n",
       "<style scoped>\n",
       "    .dataframe tbody tr th:only-of-type {\n",
       "        vertical-align: middle;\n",
       "    }\n",
       "\n",
       "    .dataframe tbody tr th {\n",
       "        vertical-align: top;\n",
       "    }\n",
       "\n",
       "    .dataframe thead th {\n",
       "        text-align: right;\n",
       "    }\n",
       "</style>\n",
       "<table border=\"1\" class=\"dataframe\">\n",
       "  <thead>\n",
       "    <tr style=\"text-align: right;\">\n",
       "      <th></th>\n",
       "      <th>Drinking</th>\n",
       "      <th>Tobacco</th>\n",
       "      <th>Vaping</th>\n",
       "      <th>Marijuana</th>\n",
       "      <th>Illegal drugs</th>\n",
       "      <th>Prescription drugs</th>\n",
       "      <th>text</th>\n",
       "      <th>seach_sim</th>\n",
       "      <th>search_pos</th>\n",
       "    </tr>\n",
       "  </thead>\n",
       "  <tbody>\n",
       "    <tr>\n",
       "      <td>20</td>\n",
       "      <td>1</td>\n",
       "      <td>0</td>\n",
       "      <td>0</td>\n",
       "      <td>0</td>\n",
       "      <td>0</td>\n",
       "      <td>0</td>\n",
       "      <td>Everyone was getting turnt up and crazy while I was at home with an old high school friend watching The Incredibles. Now that was a fun New Years Eve ^_^</td>\n",
       "      <td>1.752</td>\n",
       "      <td>0</td>\n",
       "    </tr>\n",
       "    <tr>\n",
       "      <td>44</td>\n",
       "      <td>0</td>\n",
       "      <td>0</td>\n",
       "      <td>0</td>\n",
       "      <td>0</td>\n",
       "      <td>0</td>\n",
       "      <td>0</td>\n",
       "      <td>Hangover 1 is still funny af</td>\n",
       "      <td>90.827</td>\n",
       "      <td>1</td>\n",
       "    </tr>\n",
       "    <tr>\n",
       "      <td>135</td>\n",
       "      <td>1</td>\n",
       "      <td>0</td>\n",
       "      <td>0</td>\n",
       "      <td>0</td>\n",
       "      <td>0</td>\n",
       "      <td>0</td>\n",
       "      <td>Saturday night, syllabus week. Blackout or blackout Devils. Turn up and get home safely yall.</td>\n",
       "      <td>31.090</td>\n",
       "      <td>0</td>\n",
       "    </tr>\n",
       "    <tr>\n",
       "      <td>208</td>\n",
       "      <td>1</td>\n",
       "      <td>0</td>\n",
       "      <td>0</td>\n",
       "      <td>0</td>\n",
       "      <td>0</td>\n",
       "      <td>0</td>\n",
       "      <td>Anyone wanna grab a few beers at bdubs and watch the dallas/detroit game?</td>\n",
       "      <td>16.275</td>\n",
       "      <td>0</td>\n",
       "    </tr>\n",
       "    <tr>\n",
       "      <td>243</td>\n",
       "      <td>0</td>\n",
       "      <td>0</td>\n",
       "      <td>0</td>\n",
       "      <td>0</td>\n",
       "      <td>0</td>\n",
       "      <td>0</td>\n",
       "      <td>Anybody in sassnet wanna pregame?</td>\n",
       "      <td>122.647</td>\n",
       "      <td>1</td>\n",
       "    </tr>\n",
       "    <tr>\n",
       "      <td>...</td>\n",
       "      <td>...</td>\n",
       "      <td>...</td>\n",
       "      <td>...</td>\n",
       "      <td>...</td>\n",
       "      <td>...</td>\n",
       "      <td>...</td>\n",
       "      <td>...</td>\n",
       "      <td>...</td>\n",
       "      <td>...</td>\n",
       "    </tr>\n",
       "    <tr>\n",
       "      <td>4904</td>\n",
       "      <td>0</td>\n",
       "      <td>0</td>\n",
       "      <td>0</td>\n",
       "      <td>0</td>\n",
       "      <td>0</td>\n",
       "      <td>0</td>\n",
       "      <td>Mimosas... That is all</td>\n",
       "      <td>104.956</td>\n",
       "      <td>1</td>\n",
       "    </tr>\n",
       "    <tr>\n",
       "      <td>4930</td>\n",
       "      <td>0</td>\n",
       "      <td>0</td>\n",
       "      <td>0</td>\n",
       "      <td>0</td>\n",
       "      <td>0</td>\n",
       "      <td>0</td>\n",
       "      <td>U of A students #YOLO with wine coolers.</td>\n",
       "      <td>83.374</td>\n",
       "      <td>1</td>\n",
       "    </tr>\n",
       "    <tr>\n",
       "      <td>4976</td>\n",
       "      <td>0</td>\n",
       "      <td>0</td>\n",
       "      <td>0</td>\n",
       "      <td>1</td>\n",
       "      <td>0</td>\n",
       "      <td>0</td>\n",
       "      <td>Jesus i just want weed is that too much to ask</td>\n",
       "      <td>73.605</td>\n",
       "      <td>1</td>\n",
       "    </tr>\n",
       "    <tr>\n",
       "      <td>4980</td>\n",
       "      <td>0</td>\n",
       "      <td>0</td>\n",
       "      <td>0</td>\n",
       "      <td>0</td>\n",
       "      <td>0</td>\n",
       "      <td>0</td>\n",
       "      <td>My girlfriend and I had unprotected sex a couple weeks ago. Her period was supposed to come 3 days ago.... #help</td>\n",
       "      <td>97.001</td>\n",
       "      <td>1</td>\n",
       "    </tr>\n",
       "    <tr>\n",
       "      <td>4987</td>\n",
       "      <td>1</td>\n",
       "      <td>0</td>\n",
       "      <td>0</td>\n",
       "      <td>0</td>\n",
       "      <td>0</td>\n",
       "      <td>0</td>\n",
       "      <td>Tbh girls that will watch the game with you and pick up the pizza / beer, are bae af.</td>\n",
       "      <td>9.172</td>\n",
       "      <td>0</td>\n",
       "    </tr>\n",
       "  </tbody>\n",
       "</table>\n",
       "<p>155 rows × 9 columns</p>\n",
       "</div>"
      ],
      "text/plain": [
       "      Drinking  Tobacco  Vaping  Marijuana  Illegal drugs  Prescription drugs  \\\n",
       "20    1         0        0       0          0              0                    \n",
       "44    0         0        0       0          0              0                    \n",
       "135   1         0        0       0          0              0                    \n",
       "208   1         0        0       0          0              0                    \n",
       "243   0         0        0       0          0              0                    \n",
       "...  ..        ..       ..      ..         ..             ..                    \n",
       "4904  0         0        0       0          0              0                    \n",
       "4930  0         0        0       0          0              0                    \n",
       "4976  0         0        0       1          0              0                    \n",
       "4980  0         0        0       0          0              0                    \n",
       "4987  1         0        0       0          0              0                    \n",
       "\n",
       "                                                                                                                                                           text  \\\n",
       "20    Everyone was getting turnt up and crazy while I was at home with an old high school friend watching The Incredibles. Now that was a fun New Years Eve ^_^   \n",
       "44    Hangover 1 is still funny af                                                                                                                                \n",
       "135   Saturday night, syllabus week. Blackout or blackout Devils. Turn up and get home safely yall.                                                               \n",
       "208   Anyone wanna grab a few beers at bdubs and watch the dallas/detroit game?                                                                                   \n",
       "243   Anybody in sassnet wanna pregame?                                                                                                                           \n",
       "...                                 ...                                                                                                                           \n",
       "4904  Mimosas... That is all                                                                                                                                      \n",
       "4930  U of A students #YOLO with wine coolers.                                                                                                                    \n",
       "4976  Jesus i just want weed is that too much to ask                                                                                                              \n",
       "4980  My girlfriend and I had unprotected sex a couple weeks ago. Her period was supposed to come 3 days ago.... #help                                            \n",
       "4987  Tbh girls that will watch the game with you and pick up the pizza / beer, are bae af.                                                                       \n",
       "\n",
       "      seach_sim  search_pos  \n",
       "20    1.752      0           \n",
       "44    90.827     1           \n",
       "135   31.090     0           \n",
       "208   16.275     0           \n",
       "243   122.647    1           \n",
       "...       ...   ..           \n",
       "4904  104.956    1           \n",
       "4930  83.374     1           \n",
       "4976  73.605     1           \n",
       "4980  97.001     1           \n",
       "4987  9.172      0           \n",
       "\n",
       "[155 rows x 9 columns]"
      ]
     },
     "execution_count": 212,
     "metadata": {},
     "output_type": "execute_result"
    }
   ],
   "source": [
    "trgts[\"search_pos\"] = trgts[\"seach_sim\"].apply(lambda x: 1 if x > cutoff else 0)\n",
    "trgts[trgts[\"search_pos\"] != trgts[\"Drinking\"]]"
   ]
  },
  {
   "cell_type": "markdown",
   "metadata": {},
   "source": [
    "# Wine or beer"
   ]
  },
  {
   "cell_type": "code",
   "execution_count": 217,
   "metadata": {},
   "outputs": [
    {
     "name": "stderr",
     "output_type": "stream",
     "text": [
      "/Library/anaconda3/lib/python3.7/site-packages/ipykernel_launcher.py:14: SettingWithCopyWarning: \n",
      "A value is trying to be set on a copy of a slice from a DataFrame.\n",
      "Try using .loc[row_indexer,col_indexer] = value instead\n",
      "\n",
      "See the caveats in the documentation: http://pandas.pydata.org/pandas-docs/stable/user_guide/indexing.html#returning-a-view-versus-a-copy\n",
      "  \n",
      "/Library/anaconda3/lib/python3.7/site-packages/ipykernel_launcher.py:18: SettingWithCopyWarning: \n",
      "A value is trying to be set on a copy of a slice from a DataFrame.\n",
      "Try using .loc[row_indexer,col_indexer] = value instead\n",
      "\n",
      "See the caveats in the documentation: http://pandas.pydata.org/pandas-docs/stable/user_guide/indexing.html#returning-a-view-versus-a-copy\n",
      "/Library/anaconda3/lib/python3.7/site-packages/ipykernel_launcher.py:26: SettingWithCopyWarning: \n",
      "A value is trying to be set on a copy of a slice from a DataFrame.\n",
      "Try using .loc[row_indexer,col_indexer] = value instead\n",
      "\n",
      "See the caveats in the documentation: http://pandas.pydata.org/pandas-docs/stable/user_guide/indexing.html#returning-a-view-versus-a-copy\n"
     ]
    },
    {
     "data": {
      "image/png": "[encoded data removed]",
      "text/plain": [
       "<Figure size 432x288 with 1 Axes>"
      ]
     },
     "metadata": {
      "needs_background": "light"
     },
     "output_type": "display_data"
    }
   ],
   "source": [
    "responses = []\n",
    "trgts = df[:5000]\n",
    "startIdx = 0\n",
    "endIdx = 200\n",
    "while startIdx < len(trgts):\n",
    "    #responses = responses + trgts[startIdx:endIdx].text.to_list()\n",
    "    \n",
    "    responses = responses + openai.Engine(\"davinci\").search(documents=\\\n",
    "                trgts[startIdx:endIdx].text.to_list(), query=\"wine or beer\")[\"data\"]\n",
    "    startIdx += 200\n",
    "    endIdx += 200\n",
    "    time.sleep(2)\n",
    "\n",
    "trgts[\"seach_sim\"] = [float(x[\"score\"]) for x in responses]\n",
    "\n",
    "cutoff_f1 = pd.DataFrame()\n",
    "for i in range(0, 700):\n",
    "    trgts[\"search_pos\"] = trgts[\"seach_sim\"].apply(lambda x: 1 if x > i else 0)\n",
    "    cutoff_f1.at[\"f1\", i] = f1_score(trgts.Drinking[:1000], trgts.search_pos[:1000])\n",
    "\n",
    "cutoff = cutoff_f1.T.idxmax()[0]\n",
    "cutoff\n",
    "\n",
    "cutoff_f1_test = pd.DataFrame()\n",
    "for i in range(0, 700):\n",
    "    trgts[\"search_pos\"] = trgts[\"seach_sim\"].apply(lambda x: 1 if x > i else 0)\n",
    "    cutoff_f1_test.at[\"f1\", i] = f1_score(trgts.Drinking[1000:], trgts.search_pos[1000:])\n",
    "\n",
    "ax = cutoff_f1.T.rename(columns={\"f1\":\"train\"}).plot()\n",
    "cutoff_f1_test.T.rename(columns={\"f1\":\"test\"}).plot(ax=ax)\n",
    "\n",
    "trgts.to_pickle(\"../wine or beer.pkl\")"
   ]
  },
  {
   "cell_type": "markdown",
   "metadata": {},
   "source": [
    "# wine beer"
   ]
  },
  {
   "cell_type": "code",
   "execution_count": 219,
   "metadata": {},
   "outputs": [
    {
     "name": "stderr",
     "output_type": "stream",
     "text": [
      "/Library/anaconda3/lib/python3.7/site-packages/ipykernel_launcher.py:14: SettingWithCopyWarning: \n",
      "A value is trying to be set on a copy of a slice from a DataFrame.\n",
      "Try using .loc[row_indexer,col_indexer] = value instead\n",
      "\n",
      "See the caveats in the documentation: http://pandas.pydata.org/pandas-docs/stable/user_guide/indexing.html#returning-a-view-versus-a-copy\n",
      "  \n",
      "/Library/anaconda3/lib/python3.7/site-packages/ipykernel_launcher.py:18: SettingWithCopyWarning: \n",
      "A value is trying to be set on a copy of a slice from a DataFrame.\n",
      "Try using .loc[row_indexer,col_indexer] = value instead\n",
      "\n",
      "See the caveats in the documentation: http://pandas.pydata.org/pandas-docs/stable/user_guide/indexing.html#returning-a-view-versus-a-copy\n",
      "/Library/anaconda3/lib/python3.7/site-packages/ipykernel_launcher.py:26: SettingWithCopyWarning: \n",
      "A value is trying to be set on a copy of a slice from a DataFrame.\n",
      "Try using .loc[row_indexer,col_indexer] = value instead\n",
      "\n",
      "See the caveats in the documentation: http://pandas.pydata.org/pandas-docs/stable/user_guide/indexing.html#returning-a-view-versus-a-copy\n"
     ]
    },
    {
     "data": {
      "image/png": "[encoded data removed]",
      "text/plain": [
       "<Figure size 432x288 with 1 Axes>"
      ]
     },
     "metadata": {
      "needs_background": "light"
     },
     "output_type": "display_data"
    }
   ],
   "source": [
    "responses = []\n",
    "trgts = df[:5000]\n",
    "startIdx = 0\n",
    "endIdx = 200\n",
    "while startIdx < len(trgts):\n",
    "    #responses = responses + trgts[startIdx:endIdx].text.to_list()\n",
    "    \n",
    "    responses = responses + openai.Engine(\"davinci\").search(documents=\\\n",
    "                trgts[startIdx:endIdx].text.to_list(), query=\"wine beer\")[\"data\"]\n",
    "    startIdx += 200\n",
    "    endIdx += 200\n",
    "    time.sleep(2)\n",
    "\n",
    "trgts[\"seach_sim\"] = [float(x[\"score\"]) for x in responses]\n",
    "\n",
    "cutoff_f1 = pd.DataFrame()\n",
    "for i in range(0, 700):\n",
    "    trgts[\"search_pos\"] = trgts[\"seach_sim\"].apply(lambda x: 1 if x > i else 0)\n",
    "    cutoff_f1.at[\"f1\", i] = f1_score(trgts.Drinking[:1000], trgts.search_pos[:1000])\n",
    "\n",
    "cutoff = cutoff_f1.T.idxmax()[0]\n",
    "cutoff\n",
    "\n",
    "cutoff_f1_test = pd.DataFrame()\n",
    "for i in range(0, 700):\n",
    "    trgts[\"search_pos\"] = trgts[\"seach_sim\"].apply(lambda x: 1 if x > i else 0)\n",
    "    cutoff_f1_test.at[\"f1\", i] = f1_score(trgts.Drinking[1000:], trgts.search_pos[1000:])\n",
    "\n",
    "ax = cutoff_f1.T.rename(columns={\"f1\":\"train\"}).plot()\n",
    "cutoff_f1_test.T.rename(columns={\"f1\":\"test\"}).plot(ax=ax)\n",
    "\n",
    "trgts.to_pickle(\"../wine beer.pkl\")"
   ]
  },
  {
   "cell_type": "code",
   "execution_count": 220,
   "metadata": {},
   "outputs": [
    {
     "name": "stderr",
     "output_type": "stream",
     "text": [
      "/Library/anaconda3/lib/python3.7/site-packages/ipykernel_launcher.py:14: SettingWithCopyWarning: \n",
      "A value is trying to be set on a copy of a slice from a DataFrame.\n",
      "Try using .loc[row_indexer,col_indexer] = value instead\n",
      "\n",
      "See the caveats in the documentation: http://pandas.pydata.org/pandas-docs/stable/user_guide/indexing.html#returning-a-view-versus-a-copy\n",
      "  \n",
      "/Library/anaconda3/lib/python3.7/site-packages/ipykernel_launcher.py:18: SettingWithCopyWarning: \n",
      "A value is trying to be set on a copy of a slice from a DataFrame.\n",
      "Try using .loc[row_indexer,col_indexer] = value instead\n",
      "\n",
      "See the caveats in the documentation: http://pandas.pydata.org/pandas-docs/stable/user_guide/indexing.html#returning-a-view-versus-a-copy\n",
      "/Library/anaconda3/lib/python3.7/site-packages/ipykernel_launcher.py:26: SettingWithCopyWarning: \n",
      "A value is trying to be set on a copy of a slice from a DataFrame.\n",
      "Try using .loc[row_indexer,col_indexer] = value instead\n",
      "\n",
      "See the caveats in the documentation: http://pandas.pydata.org/pandas-docs/stable/user_guide/indexing.html#returning-a-view-versus-a-copy\n"
     ]
    },
    {
     "data": {
      "image/png": "[encoded data removed]",
      "text/plain": [
       "<Figure size 432x288 with 1 Axes>"
      ]
     },
     "metadata": {
      "needs_background": "light"
     },
     "output_type": "display_data"
    }
   ],
   "source": [
    "responses = []\n",
    "trgts = df[:5000]\n",
    "startIdx = 0\n",
    "endIdx = 200\n",
    "while startIdx < len(trgts):\n",
    "    #responses = responses + trgts[startIdx:endIdx].text.to_list()\n",
    "    \n",
    "    responses = responses + openai.Engine(\"davinci\").search(documents=\\\n",
    "                trgts[startIdx:endIdx].text.to_list(), query=\"wine or beer or alcohol or drunk\")[\"data\"]\n",
    "    startIdx += 200\n",
    "    endIdx += 200\n",
    "    time.sleep(2)\n",
    "\n",
    "trgts[\"seach_sim\"] = [float(x[\"score\"]) for x in responses]\n",
    "\n",
    "cutoff_f1 = pd.DataFrame()\n",
    "for i in range(0, 700):\n",
    "    trgts[\"search_pos\"] = trgts[\"seach_sim\"].apply(lambda x: 1 if x > i else 0)\n",
    "    cutoff_f1.at[\"f1\", i] = f1_score(trgts.Drinking[:1000], trgts.search_pos[:1000])\n",
    "\n",
    "cutoff = cutoff_f1.T.idxmax()[0]\n",
    "cutoff\n",
    "\n",
    "cutoff_f1_test = pd.DataFrame()\n",
    "for i in range(0, 700):\n",
    "    trgts[\"search_pos\"] = trgts[\"seach_sim\"].apply(lambda x: 1 if x > i else 0)\n",
    "    cutoff_f1_test.at[\"f1\", i] = f1_score(trgts.Drinking[1000:], trgts.search_pos[1000:])\n",
    "\n",
    "ax = cutoff_f1.T.rename(columns={\"f1\":\"train\"}).plot()\n",
    "cutoff_f1_test.T.rename(columns={\"f1\":\"test\"}).plot(ax=ax)\n",
    "\n",
    "trgts.to_pickle(\"../wine or beer or alcohol or drunk.pkl\")\n"
   ]
  },
  {
   "cell_type": "code",
   "execution_count": 222,
   "metadata": {},
   "outputs": [
    {
     "data": {
      "text/plain": [
       "f1    0.74928\n",
       "Name: 63, dtype: float64"
      ]
     },
     "execution_count": 222,
     "metadata": {},
     "output_type": "execute_result"
    }
   ],
   "source": [
    "cutoff_f1_test[cutoff]\n"
   ]
  },
  {
   "cell_type": "code",
   "execution_count": 221,
   "metadata": {},
   "outputs": [
    {
     "name": "stderr",
     "output_type": "stream",
     "text": [
      "/Library/anaconda3/lib/python3.7/site-packages/ipykernel_launcher.py:3: SettingWithCopyWarning: \n",
      "A value is trying to be set on a copy of a slice from a DataFrame.\n",
      "Try using .loc[row_indexer,col_indexer] = value instead\n",
      "\n",
      "See the caveats in the documentation: http://pandas.pydata.org/pandas-docs/stable/user_guide/indexing.html#returning-a-view-versus-a-copy\n",
      "  This is separate from the ipykernel package so we can avoid doing imports until\n"
     ]
    },
    {
     "data": {
      "text/html": [
       "<div>\n",
       "<style scoped>\n",
       "    .dataframe tbody tr th:only-of-type {\n",
       "        vertical-align: middle;\n",
       "    }\n",
       "\n",
       "    .dataframe tbody tr th {\n",
       "        vertical-align: top;\n",
       "    }\n",
       "\n",
       "    .dataframe thead th {\n",
       "        text-align: right;\n",
       "    }\n",
       "</style>\n",
       "<table border=\"1\" class=\"dataframe\">\n",
       "  <thead>\n",
       "    <tr style=\"text-align: right;\">\n",
       "      <th></th>\n",
       "      <th>Drinking</th>\n",
       "      <th>Tobacco</th>\n",
       "      <th>Vaping</th>\n",
       "      <th>Marijuana</th>\n",
       "      <th>Illegal drugs</th>\n",
       "      <th>Prescription drugs</th>\n",
       "      <th>text</th>\n",
       "      <th>seach_sim</th>\n",
       "      <th>search_pos</th>\n",
       "    </tr>\n",
       "  </thead>\n",
       "  <tbody>\n",
       "    <tr>\n",
       "      <td>20</td>\n",
       "      <td>1</td>\n",
       "      <td>0</td>\n",
       "      <td>0</td>\n",
       "      <td>0</td>\n",
       "      <td>0</td>\n",
       "      <td>0</td>\n",
       "      <td>Everyone was getting turnt up and crazy while I was at home with an old high school friend watching The Incredibles. Now that was a fun New Years Eve ^_^</td>\n",
       "      <td>23.584</td>\n",
       "      <td>0</td>\n",
       "    </tr>\n",
       "    <tr>\n",
       "      <td>44</td>\n",
       "      <td>0</td>\n",
       "      <td>0</td>\n",
       "      <td>0</td>\n",
       "      <td>0</td>\n",
       "      <td>0</td>\n",
       "      <td>0</td>\n",
       "      <td>Hangover 1 is still funny af</td>\n",
       "      <td>80.846</td>\n",
       "      <td>1</td>\n",
       "    </tr>\n",
       "    <tr>\n",
       "      <td>98</td>\n",
       "      <td>1</td>\n",
       "      <td>0</td>\n",
       "      <td>0</td>\n",
       "      <td>0</td>\n",
       "      <td>0</td>\n",
       "      <td>0</td>\n",
       "      <td>Motto to live by: lift heavy, drink heavy, study hard, fuck hard</td>\n",
       "      <td>16.911</td>\n",
       "      <td>0</td>\n",
       "    </tr>\n",
       "    <tr>\n",
       "      <td>122</td>\n",
       "      <td>0</td>\n",
       "      <td>0</td>\n",
       "      <td>0</td>\n",
       "      <td>0</td>\n",
       "      <td>0</td>\n",
       "      <td>1</td>\n",
       "      <td>whose got the xanax</td>\n",
       "      <td>66.109</td>\n",
       "      <td>1</td>\n",
       "    </tr>\n",
       "    <tr>\n",
       "      <td>135</td>\n",
       "      <td>1</td>\n",
       "      <td>0</td>\n",
       "      <td>0</td>\n",
       "      <td>0</td>\n",
       "      <td>0</td>\n",
       "      <td>0</td>\n",
       "      <td>Saturday night, syllabus week. Blackout or blackout Devils. Turn up and get home safely yall.</td>\n",
       "      <td>13.851</td>\n",
       "      <td>0</td>\n",
       "    </tr>\n",
       "    <tr>\n",
       "      <td>...</td>\n",
       "      <td>...</td>\n",
       "      <td>...</td>\n",
       "      <td>...</td>\n",
       "      <td>...</td>\n",
       "      <td>...</td>\n",
       "      <td>...</td>\n",
       "      <td>...</td>\n",
       "      <td>...</td>\n",
       "      <td>...</td>\n",
       "    </tr>\n",
       "    <tr>\n",
       "      <td>4627</td>\n",
       "      <td>0</td>\n",
       "      <td>0</td>\n",
       "      <td>0</td>\n",
       "      <td>0</td>\n",
       "      <td>0</td>\n",
       "      <td>0</td>\n",
       "      <td>Classes start tomorrow and i dont have enough money to buy my books..... Well, time to drink the sad away</td>\n",
       "      <td>108.103</td>\n",
       "      <td>1</td>\n",
       "    </tr>\n",
       "    <tr>\n",
       "      <td>4827</td>\n",
       "      <td>1</td>\n",
       "      <td>0</td>\n",
       "      <td>0</td>\n",
       "      <td>0</td>\n",
       "      <td>0</td>\n",
       "      <td>0</td>\n",
       "      <td>Turn 21 today! I'm one Turnt Devil</td>\n",
       "      <td>16.343</td>\n",
       "      <td>0</td>\n",
       "    </tr>\n",
       "    <tr>\n",
       "      <td>4904</td>\n",
       "      <td>0</td>\n",
       "      <td>0</td>\n",
       "      <td>0</td>\n",
       "      <td>0</td>\n",
       "      <td>0</td>\n",
       "      <td>0</td>\n",
       "      <td>Mimosas... That is all</td>\n",
       "      <td>84.335</td>\n",
       "      <td>1</td>\n",
       "    </tr>\n",
       "    <tr>\n",
       "      <td>4915</td>\n",
       "      <td>0</td>\n",
       "      <td>0</td>\n",
       "      <td>0</td>\n",
       "      <td>1</td>\n",
       "      <td>0</td>\n",
       "      <td>0</td>\n",
       "      <td>My mom just texted me saying she's proud of me. I'm high rn and now i feel guilty about it now</td>\n",
       "      <td>65.694</td>\n",
       "      <td>1</td>\n",
       "    </tr>\n",
       "    <tr>\n",
       "      <td>4987</td>\n",
       "      <td>1</td>\n",
       "      <td>0</td>\n",
       "      <td>0</td>\n",
       "      <td>0</td>\n",
       "      <td>0</td>\n",
       "      <td>0</td>\n",
       "      <td>Tbh girls that will watch the game with you and pick up the pizza / beer, are bae af.</td>\n",
       "      <td>24.961</td>\n",
       "      <td>0</td>\n",
       "    </tr>\n",
       "  </tbody>\n",
       "</table>\n",
       "<p>103 rows × 9 columns</p>\n",
       "</div>"
      ],
      "text/plain": [
       "      Drinking  Tobacco  Vaping  Marijuana  Illegal drugs  Prescription drugs  \\\n",
       "20    1         0        0       0          0              0                    \n",
       "44    0         0        0       0          0              0                    \n",
       "98    1         0        0       0          0              0                    \n",
       "122   0         0        0       0          0              1                    \n",
       "135   1         0        0       0          0              0                    \n",
       "...  ..        ..       ..      ..         ..             ..                    \n",
       "4627  0         0        0       0          0              0                    \n",
       "4827  1         0        0       0          0              0                    \n",
       "4904  0         0        0       0          0              0                    \n",
       "4915  0         0        0       1          0              0                    \n",
       "4987  1         0        0       0          0              0                    \n",
       "\n",
       "                                                                                                                                                           text  \\\n",
       "20    Everyone was getting turnt up and crazy while I was at home with an old high school friend watching The Incredibles. Now that was a fun New Years Eve ^_^   \n",
       "44    Hangover 1 is still funny af                                                                                                                                \n",
       "98    Motto to live by: lift heavy, drink heavy, study hard, fuck hard                                                                                            \n",
       "122   whose got the xanax                                                                                                                                         \n",
       "135   Saturday night, syllabus week. Blackout or blackout Devils. Turn up and get home safely yall.                                                               \n",
       "...                                                                                             ...                                                               \n",
       "4627  Classes start tomorrow and i dont have enough money to buy my books..... Well, time to drink the sad away                                                   \n",
       "4827  Turn 21 today! I'm one Turnt Devil                                                                                                                          \n",
       "4904  Mimosas... That is all                                                                                                                                      \n",
       "4915  My mom just texted me saying she's proud of me. I'm high rn and now i feel guilty about it now                                                              \n",
       "4987  Tbh girls that will watch the game with you and pick up the pizza / beer, are bae af.                                                                       \n",
       "\n",
       "      seach_sim  search_pos  \n",
       "20    23.584     0           \n",
       "44    80.846     1           \n",
       "98    16.911     0           \n",
       "122   66.109     1           \n",
       "135   13.851     0           \n",
       "...      ...    ..           \n",
       "4627  108.103    1           \n",
       "4827  16.343     0           \n",
       "4904  84.335     1           \n",
       "4915  65.694     1           \n",
       "4987  24.961     0           \n",
       "\n",
       "[103 rows x 9 columns]"
      ]
     },
     "execution_count": 221,
     "metadata": {},
     "output_type": "execute_result"
    }
   ],
   "source": [
    "\n",
    "trgts[\"search_pos\"] = trgts[\"seach_sim\"].apply(lambda x: 1 if x > cutoff else 0)\n",
    "trgts[trgts[\"search_pos\"] != trgts[\"Drinking\"]]"
   ]
  },
  {
   "cell_type": "markdown",
   "metadata": {},
   "source": [
    "# asdf"
   ]
  },
  {
   "cell_type": "code",
   "execution_count": 223,
   "metadata": {},
   "outputs": [
    {
     "name": "stderr",
     "output_type": "stream",
     "text": [
      "/Library/anaconda3/lib/python3.7/site-packages/ipykernel_launcher.py:14: SettingWithCopyWarning: \n",
      "A value is trying to be set on a copy of a slice from a DataFrame.\n",
      "Try using .loc[row_indexer,col_indexer] = value instead\n",
      "\n",
      "See the caveats in the documentation: http://pandas.pydata.org/pandas-docs/stable/user_guide/indexing.html#returning-a-view-versus-a-copy\n",
      "  \n",
      "/Library/anaconda3/lib/python3.7/site-packages/ipykernel_launcher.py:18: SettingWithCopyWarning: \n",
      "A value is trying to be set on a copy of a slice from a DataFrame.\n",
      "Try using .loc[row_indexer,col_indexer] = value instead\n",
      "\n",
      "See the caveats in the documentation: http://pandas.pydata.org/pandas-docs/stable/user_guide/indexing.html#returning-a-view-versus-a-copy\n",
      "/Library/anaconda3/lib/python3.7/site-packages/ipykernel_launcher.py:26: SettingWithCopyWarning: \n",
      "A value is trying to be set on a copy of a slice from a DataFrame.\n",
      "Try using .loc[row_indexer,col_indexer] = value instead\n",
      "\n",
      "See the caveats in the documentation: http://pandas.pydata.org/pandas-docs/stable/user_guide/indexing.html#returning-a-view-versus-a-copy\n"
     ]
    },
    {
     "data": {
      "image/png": "[encoded data removed]",
      "text/plain": [
       "<Figure size 432x288 with 1 Axes>"
      ]
     },
     "metadata": {
      "needs_background": "light"
     },
     "output_type": "display_data"
    }
   ],
   "source": [
    "responses = []\n",
    "trgts = df[:5000]\n",
    "startIdx = 0\n",
    "endIdx = 200\n",
    "while startIdx < len(trgts):\n",
    "    #responses = responses + trgts[startIdx:endIdx].text.to_list()\n",
    "    \n",
    "    responses = responses + openai.Engine(\"davinci\").search(documents=\\\n",
    "                trgts[startIdx:endIdx].text.to_list(), query=\"drinking buying or recovering from alcohol\")[\"data\"]\n",
    "    startIdx += 200\n",
    "    endIdx += 200\n",
    "    time.sleep(2)\n",
    "\n",
    "trgts[\"seach_sim\"] = [float(x[\"score\"]) for x in responses]\n",
    "\n",
    "cutoff_f1 = pd.DataFrame()\n",
    "for i in range(0, 700):\n",
    "    trgts[\"search_pos\"] = trgts[\"seach_sim\"].apply(lambda x: 1 if x > i else 0)\n",
    "    cutoff_f1.at[\"f1\", i] = f1_score(trgts.Drinking[:1000], trgts.search_pos[:1000])\n",
    "\n",
    "cutoff = cutoff_f1.T.idxmax()[0]\n",
    "cutoff\n",
    "\n",
    "cutoff_f1_test = pd.DataFrame()\n",
    "for i in range(0, 700):\n",
    "    trgts[\"search_pos\"] = trgts[\"seach_sim\"].apply(lambda x: 1 if x > i else 0)\n",
    "    cutoff_f1_test.at[\"f1\", i] = f1_score(trgts.Drinking[1000:], trgts.search_pos[1000:])\n",
    "\n",
    "ax = cutoff_f1.T.rename(columns={\"f1\":\"train\"}).plot()\n",
    "cutoff_f1_test.T.rename(columns={\"f1\":\"test\"}).plot(ax=ax)\n",
    "\n",
    "trgts.to_pickle(\"../drinking buying or recovering from alcohol.pkl\")\n"
   ]
  },
  {
   "cell_type": "code",
   "execution_count": 224,
   "metadata": {},
   "outputs": [
    {
     "data": {
      "text/plain": [
       "f1    0.498099\n",
       "Name: 77, dtype: float64"
      ]
     },
     "execution_count": 224,
     "metadata": {},
     "output_type": "execute_result"
    }
   ],
   "source": [
    "cutoff_f1_test[cutoff]\n"
   ]
  },
  {
   "cell_type": "code",
   "execution_count": 225,
   "metadata": {},
   "outputs": [
    {
     "name": "stderr",
     "output_type": "stream",
     "text": [
      "/Library/anaconda3/lib/python3.7/site-packages/ipykernel_launcher.py:14: SettingWithCopyWarning: \n",
      "A value is trying to be set on a copy of a slice from a DataFrame.\n",
      "Try using .loc[row_indexer,col_indexer] = value instead\n",
      "\n",
      "See the caveats in the documentation: http://pandas.pydata.org/pandas-docs/stable/user_guide/indexing.html#returning-a-view-versus-a-copy\n",
      "  \n",
      "/Library/anaconda3/lib/python3.7/site-packages/ipykernel_launcher.py:18: SettingWithCopyWarning: \n",
      "A value is trying to be set on a copy of a slice from a DataFrame.\n",
      "Try using .loc[row_indexer,col_indexer] = value instead\n",
      "\n",
      "See the caveats in the documentation: http://pandas.pydata.org/pandas-docs/stable/user_guide/indexing.html#returning-a-view-versus-a-copy\n",
      "/Library/anaconda3/lib/python3.7/site-packages/ipykernel_launcher.py:26: SettingWithCopyWarning: \n",
      "A value is trying to be set on a copy of a slice from a DataFrame.\n",
      "Try using .loc[row_indexer,col_indexer] = value instead\n",
      "\n",
      "See the caveats in the documentation: http://pandas.pydata.org/pandas-docs/stable/user_guide/indexing.html#returning-a-view-versus-a-copy\n"
     ]
    },
    {
     "data": {
      "image/png": "[encoded data removed]",
      "text/plain": [
       "<Figure size 432x288 with 1 Axes>"
      ]
     },
     "metadata": {
      "needs_background": "light"
     },
     "output_type": "display_data"
    }
   ],
   "source": [
    "responses = []\n",
    "trgts = df[:5000]\n",
    "startIdx = 0\n",
    "endIdx = 200\n",
    "while startIdx < len(trgts):\n",
    "    #responses = responses + trgts[startIdx:endIdx].text.to_list()\n",
    "    \n",
    "    responses = responses + openai.Engine(\"davinci\").search(documents=\\\n",
    "                trgts[startIdx:endIdx].text.to_list(), query=\"alcoholic beverages\")[\"data\"]\n",
    "    startIdx += 200\n",
    "    endIdx += 200\n",
    "    time.sleep(2)\n",
    "\n",
    "trgts[\"seach_sim\"] = [float(x[\"score\"]) for x in responses]\n",
    "\n",
    "cutoff_f1 = pd.DataFrame()\n",
    "for i in range(0, 700):\n",
    "    trgts[\"search_pos\"] = trgts[\"seach_sim\"].apply(lambda x: 1 if x > i else 0)\n",
    "    cutoff_f1.at[\"f1\", i] = f1_score(trgts.Drinking[:1000], trgts.search_pos[:1000])\n",
    "\n",
    "cutoff = cutoff_f1.T.idxmax()[0]\n",
    "cutoff\n",
    "\n",
    "cutoff_f1_test = pd.DataFrame()\n",
    "for i in range(0, 700):\n",
    "    trgts[\"search_pos\"] = trgts[\"seach_sim\"].apply(lambda x: 1 if x > i else 0)\n",
    "    cutoff_f1_test.at[\"f1\", i] = f1_score(trgts.Drinking[1000:], trgts.search_pos[1000:])\n",
    "\n",
    "ax = cutoff_f1.T.rename(columns={\"f1\":\"train\"}).plot()\n",
    "cutoff_f1_test.T.rename(columns={\"f1\":\"test\"}).plot(ax=ax)\n",
    "\n",
    "trgts.to_pickle(\"../alcoholic beverages.pkl\")\n"
   ]
  },
  {
   "cell_type": "code",
   "execution_count": 226,
   "metadata": {},
   "outputs": [
    {
     "data": {
      "text/plain": [
       "f1    0.593458\n",
       "Name: 157, dtype: float64"
      ]
     },
     "execution_count": 226,
     "metadata": {},
     "output_type": "execute_result"
    }
   ],
   "source": [
    "cutoff_f1_test[cutoff]\n"
   ]
  },
  {
   "cell_type": "code",
   "execution_count": 227,
   "metadata": {},
   "outputs": [
    {
     "name": "stderr",
     "output_type": "stream",
     "text": [
      "/Library/anaconda3/lib/python3.7/site-packages/ipykernel_launcher.py:14: SettingWithCopyWarning: \n",
      "A value is trying to be set on a copy of a slice from a DataFrame.\n",
      "Try using .loc[row_indexer,col_indexer] = value instead\n",
      "\n",
      "See the caveats in the documentation: http://pandas.pydata.org/pandas-docs/stable/user_guide/indexing.html#returning-a-view-versus-a-copy\n",
      "  \n",
      "/Library/anaconda3/lib/python3.7/site-packages/ipykernel_launcher.py:18: SettingWithCopyWarning: \n",
      "A value is trying to be set on a copy of a slice from a DataFrame.\n",
      "Try using .loc[row_indexer,col_indexer] = value instead\n",
      "\n",
      "See the caveats in the documentation: http://pandas.pydata.org/pandas-docs/stable/user_guide/indexing.html#returning-a-view-versus-a-copy\n",
      "/Library/anaconda3/lib/python3.7/site-packages/ipykernel_launcher.py:26: SettingWithCopyWarning: \n",
      "A value is trying to be set on a copy of a slice from a DataFrame.\n",
      "Try using .loc[row_indexer,col_indexer] = value instead\n",
      "\n",
      "See the caveats in the documentation: http://pandas.pydata.org/pandas-docs/stable/user_guide/indexing.html#returning-a-view-versus-a-copy\n"
     ]
    },
    {
     "data": {
      "image/png": "[encoded data removed]",
      "text/plain": [
       "<Figure size 432x288 with 1 Axes>"
      ]
     },
     "metadata": {
      "needs_background": "light"
     },
     "output_type": "display_data"
    }
   ],
   "source": [
    "responses = []\n",
    "trgts = df[:5000]\n",
    "startIdx = 0\n",
    "endIdx = 200\n",
    "while startIdx < len(trgts):\n",
    "    #responses = responses + trgts[startIdx:endIdx].text.to_list()\n",
    "    \n",
    "    responses = responses + openai.Engine(\"davinci\").search(documents=\\\n",
    "                trgts[startIdx:endIdx].text.to_list(), query=\"booze\")[\"data\"]\n",
    "    startIdx += 200\n",
    "    endIdx += 200\n",
    "    time.sleep(2)\n",
    "\n",
    "trgts[\"seach_sim\"] = [float(x[\"score\"]) for x in responses]\n",
    "\n",
    "cutoff_f1 = pd.DataFrame()\n",
    "for i in range(0, 700):\n",
    "    trgts[\"search_pos\"] = trgts[\"seach_sim\"].apply(lambda x: 1 if x > i else 0)\n",
    "    cutoff_f1.at[\"f1\", i] = f1_score(trgts.Drinking[:1000], trgts.search_pos[:1000])\n",
    "\n",
    "cutoff = cutoff_f1.T.idxmax()[0]\n",
    "cutoff\n",
    "\n",
    "cutoff_f1_test = pd.DataFrame()\n",
    "for i in range(0, 700):\n",
    "    trgts[\"search_pos\"] = trgts[\"seach_sim\"].apply(lambda x: 1 if x > i else 0)\n",
    "    cutoff_f1_test.at[\"f1\", i] = f1_score(trgts.Drinking[1000:], trgts.search_pos[1000:])\n",
    "\n",
    "ax = cutoff_f1.T.rename(columns={\"f1\":\"train\"}).plot()\n",
    "cutoff_f1_test.T.rename(columns={\"f1\":\"test\"}).plot(ax=ax)\n",
    "\n",
    "trgts.to_pickle(\"../booze.pkl\")\n"
   ]
  },
  {
   "cell_type": "code",
   "execution_count": 256,
   "metadata": {},
   "outputs": [],
   "source": [
    "trgts = pd.read_pickle(\"../booze.pkl\")\n"
   ]
  },
  {
   "cell_type": "code",
   "execution_count": 257,
   "metadata": {},
   "outputs": [
    {
     "data": {
      "text/plain": [
       "<matplotlib.axes._subplots.AxesSubplot at 0x12122f5d0>"
      ]
     },
     "execution_count": 257,
     "metadata": {},
     "output_type": "execute_result"
    },
    {
     "data": {
      "image/png": "[encoded data removed]",
      "text/plain": [
       "<Figure size 432x288 with 1 Axes>"
      ]
     },
     "metadata": {
      "needs_background": "light"
     },
     "output_type": "display_data"
    }
   ],
   "source": [
    "cutoff_f1 = pd.DataFrame()\n",
    "for i in range(0, 700):\n",
    "    trgts[\"search_pos\"] = trgts[\"seach_sim\"].apply(lambda x: 1 if x > i else 0)\n",
    "    cutoff_f1.at[\"f1\", i] = f1_score(trgts.Drinking[:1000], trgts.search_pos[:1000])\n",
    "\n",
    "cutoff = cutoff_f1.T.idxmax()[0]\n",
    "cutoff\n",
    "\n",
    "cutoff_f1_test = pd.DataFrame()\n",
    "for i in range(0, 700):\n",
    "    trgts[\"search_pos\"] = trgts[\"seach_sim\"].apply(lambda x: 1 if x > i else 0)\n",
    "    cutoff_f1_test.at[\"f1\", i] = f1_score(trgts.Drinking[1000:], trgts.search_pos[1000:])\n",
    "\n"
   ]
  },
  {
   "cell_type": "code",
   "execution_count": 261,
   "metadata": {},
   "outputs": [
    {
     "data": {
      "text/plain": [
       "Text(0.5, 0, 'search cutoff score')"
      ]
     },
     "execution_count": 261,
     "metadata": {},
     "output_type": "execute_result"
    },
    {
     "data": {
      "image/png": "[encoded data removed]",
      "text/plain": [
       "<Figure size 432x288 with 1 Axes>"
      ]
     },
     "metadata": {
      "needs_background": "light"
     },
     "output_type": "display_data"
    }
   ],
   "source": [
    "ax = cutoff_f1.T.rename(columns={\"f1\":\"train\"}).plot()\n",
    "cutoff_f1_test.T.rename(columns={\"f1\":\"test\"}).plot(ax=ax)\n",
    "ax.set_title(\"Search Cutoff vs. F1 Score\")\n",
    "ax.set_ylabel(\"f1 score\")\n",
    "ax.set_xlabel(\"search cutoff score\")"
   ]
  },
  {
   "cell_type": "code",
   "execution_count": null,
   "metadata": {},
   "outputs": [],
   "source": []
  },
  {
   "cell_type": "code",
   "execution_count": 228,
   "metadata": {},
   "outputs": [
    {
     "data": {
      "text/plain": [
       "f1    0.708447\n",
       "Name: 488, dtype: float64"
      ]
     },
     "execution_count": 228,
     "metadata": {},
     "output_type": "execute_result"
    }
   ],
   "source": [
    "cutoff_f1_test[cutoff]\n"
   ]
  },
  {
   "cell_type": "code",
   "execution_count": 229,
   "metadata": {},
   "outputs": [
    {
     "name": "stderr",
     "output_type": "stream",
     "text": [
      "/Library/anaconda3/lib/python3.7/site-packages/ipykernel_launcher.py:14: SettingWithCopyWarning: \n",
      "A value is trying to be set on a copy of a slice from a DataFrame.\n",
      "Try using .loc[row_indexer,col_indexer] = value instead\n",
      "\n",
      "See the caveats in the documentation: http://pandas.pydata.org/pandas-docs/stable/user_guide/indexing.html#returning-a-view-versus-a-copy\n",
      "  \n",
      "/Library/anaconda3/lib/python3.7/site-packages/ipykernel_launcher.py:18: SettingWithCopyWarning: \n",
      "A value is trying to be set on a copy of a slice from a DataFrame.\n",
      "Try using .loc[row_indexer,col_indexer] = value instead\n",
      "\n",
      "See the caveats in the documentation: http://pandas.pydata.org/pandas-docs/stable/user_guide/indexing.html#returning-a-view-versus-a-copy\n",
      "/Library/anaconda3/lib/python3.7/site-packages/ipykernel_launcher.py:26: SettingWithCopyWarning: \n",
      "A value is trying to be set on a copy of a slice from a DataFrame.\n",
      "Try using .loc[row_indexer,col_indexer] = value instead\n",
      "\n",
      "See the caveats in the documentation: http://pandas.pydata.org/pandas-docs/stable/user_guide/indexing.html#returning-a-view-versus-a-copy\n"
     ]
    },
    {
     "data": {
      "image/png": "[encoded data removed]",
      "text/plain": [
       "<Figure size 432x288 with 1 Axes>"
      ]
     },
     "metadata": {
      "needs_background": "light"
     },
     "output_type": "display_data"
    }
   ],
   "source": [
    "responses = []\n",
    "trgts = df[:5000]\n",
    "startIdx = 0\n",
    "endIdx = 200\n",
    "while startIdx < len(trgts):\n",
    "    #responses = responses + trgts[startIdx:endIdx].text.to_list()\n",
    "    \n",
    "    responses = responses + openai.Engine(\"davinci\").search(documents=\\\n",
    "                trgts[startIdx:endIdx].text.to_list(), query=\"wine or beer whiskey or alcohol or drunk or hungover\")[\"data\"]\n",
    "    startIdx += 200\n",
    "    endIdx += 200\n",
    "    time.sleep(2)\n",
    "\n",
    "trgts[\"seach_sim\"] = [float(x[\"score\"]) for x in responses]\n",
    "\n",
    "cutoff_f1 = pd.DataFrame()\n",
    "for i in range(0, 700):\n",
    "    trgts[\"search_pos\"] = trgts[\"seach_sim\"].apply(lambda x: 1 if x > i else 0)\n",
    "    cutoff_f1.at[\"f1\", i] = f1_score(trgts.Drinking[:1000], trgts.search_pos[:1000])\n",
    "\n",
    "cutoff = cutoff_f1.T.idxmax()[0]\n",
    "cutoff\n",
    "\n",
    "cutoff_f1_test = pd.DataFrame()\n",
    "for i in range(0, 700):\n",
    "    trgts[\"search_pos\"] = trgts[\"seach_sim\"].apply(lambda x: 1 if x > i else 0)\n",
    "    cutoff_f1_test.at[\"f1\", i] = f1_score(trgts.Drinking[1000:], trgts.search_pos[1000:])\n",
    "\n",
    "ax = cutoff_f1.T.rename(columns={\"f1\":\"train\"}).plot()\n",
    "cutoff_f1_test.T.rename(columns={\"f1\":\"test\"}).plot(ax=ax)\n",
    "\n",
    "trgts.to_pickle(\"../wine or beer whiskey or alcohol or drunk or hungover.pkl\")\n"
   ]
  },
  {
   "cell_type": "code",
   "execution_count": 230,
   "metadata": {},
   "outputs": [
    {
     "data": {
      "text/plain": [
       "f1    0.653938\n",
       "Name: 61, dtype: float64"
      ]
     },
     "execution_count": 230,
     "metadata": {},
     "output_type": "execute_result"
    }
   ],
   "source": [
    "cutoff_f1_test[cutoff]\n"
   ]
  },
  {
   "cell_type": "code",
   "execution_count": 231,
   "metadata": {},
   "outputs": [
    {
     "name": "stderr",
     "output_type": "stream",
     "text": [
      "/Library/anaconda3/lib/python3.7/site-packages/ipykernel_launcher.py:14: SettingWithCopyWarning: \n",
      "A value is trying to be set on a copy of a slice from a DataFrame.\n",
      "Try using .loc[row_indexer,col_indexer] = value instead\n",
      "\n",
      "See the caveats in the documentation: http://pandas.pydata.org/pandas-docs/stable/user_guide/indexing.html#returning-a-view-versus-a-copy\n",
      "  \n",
      "/Library/anaconda3/lib/python3.7/site-packages/ipykernel_launcher.py:18: SettingWithCopyWarning: \n",
      "A value is trying to be set on a copy of a slice from a DataFrame.\n",
      "Try using .loc[row_indexer,col_indexer] = value instead\n",
      "\n",
      "See the caveats in the documentation: http://pandas.pydata.org/pandas-docs/stable/user_guide/indexing.html#returning-a-view-versus-a-copy\n",
      "/Library/anaconda3/lib/python3.7/site-packages/ipykernel_launcher.py:26: SettingWithCopyWarning: \n",
      "A value is trying to be set on a copy of a slice from a DataFrame.\n",
      "Try using .loc[row_indexer,col_indexer] = value instead\n",
      "\n",
      "See the caveats in the documentation: http://pandas.pydata.org/pandas-docs/stable/user_guide/indexing.html#returning-a-view-versus-a-copy\n"
     ]
    },
    {
     "data": {
      "image/png": "[encoded data removed]",
      "text/plain": [
       "<Figure size 432x288 with 1 Axes>"
      ]
     },
     "metadata": {
      "needs_background": "light"
     },
     "output_type": "display_data"
    }
   ],
   "source": [
    "responses = []\n",
    "trgts = df[:5000]\n",
    "startIdx = 0\n",
    "endIdx = 200\n",
    "while startIdx < len(trgts):\n",
    "    #responses = responses + trgts[startIdx:endIdx].text.to_list()\n",
    "    \n",
    "    responses = responses + openai.Engine(\"davinci\").search(documents=\\\n",
    "                trgts[startIdx:endIdx].text.to_list(), query=\"booze or drunk\")[\"data\"]\n",
    "    startIdx += 200\n",
    "    endIdx += 200\n",
    "    time.sleep(2)\n",
    "\n",
    "trgts[\"seach_sim\"] = [float(x[\"score\"]) for x in responses]\n",
    "\n",
    "cutoff_f1 = pd.DataFrame()\n",
    "for i in range(0, 700):\n",
    "    trgts[\"search_pos\"] = trgts[\"seach_sim\"].apply(lambda x: 1 if x > i else 0)\n",
    "    cutoff_f1.at[\"f1\", i] = f1_score(trgts.Drinking[:1000], trgts.search_pos[:1000])\n",
    "\n",
    "cutoff = cutoff_f1.T.idxmax()[0]\n",
    "cutoff\n",
    "\n",
    "cutoff_f1_test = pd.DataFrame()\n",
    "for i in range(0, 700):\n",
    "    trgts[\"search_pos\"] = trgts[\"seach_sim\"].apply(lambda x: 1 if x > i else 0)\n",
    "    cutoff_f1_test.at[\"f1\", i] = f1_score(trgts.Drinking[1000:], trgts.search_pos[1000:])\n",
    "\n",
    "ax = cutoff_f1.T.rename(columns={\"f1\":\"train\"}).plot()\n",
    "cutoff_f1_test.T.rename(columns={\"f1\":\"test\"}).plot(ax=ax)\n",
    "\n",
    "trgts.to_pickle(\"../booze or drunk.pkl\")\n"
   ]
  },
  {
   "cell_type": "code",
   "execution_count": 232,
   "metadata": {},
   "outputs": [
    {
     "data": {
      "text/plain": [
       "f1    0.716332\n",
       "Name: 122, dtype: float64"
      ]
     },
     "execution_count": 232,
     "metadata": {},
     "output_type": "execute_result"
    }
   ],
   "source": [
    "cutoff_f1_test[cutoff]\n"
   ]
  },
  {
   "cell_type": "code",
   "execution_count": 233,
   "metadata": {},
   "outputs": [
    {
     "name": "stderr",
     "output_type": "stream",
     "text": [
      "/Library/anaconda3/lib/python3.7/site-packages/ipykernel_launcher.py:14: SettingWithCopyWarning: \n",
      "A value is trying to be set on a copy of a slice from a DataFrame.\n",
      "Try using .loc[row_indexer,col_indexer] = value instead\n",
      "\n",
      "See the caveats in the documentation: http://pandas.pydata.org/pandas-docs/stable/user_guide/indexing.html#returning-a-view-versus-a-copy\n",
      "  \n",
      "/Library/anaconda3/lib/python3.7/site-packages/ipykernel_launcher.py:18: SettingWithCopyWarning: \n",
      "A value is trying to be set on a copy of a slice from a DataFrame.\n",
      "Try using .loc[row_indexer,col_indexer] = value instead\n",
      "\n",
      "See the caveats in the documentation: http://pandas.pydata.org/pandas-docs/stable/user_guide/indexing.html#returning-a-view-versus-a-copy\n",
      "/Library/anaconda3/lib/python3.7/site-packages/ipykernel_launcher.py:26: SettingWithCopyWarning: \n",
      "A value is trying to be set on a copy of a slice from a DataFrame.\n",
      "Try using .loc[row_indexer,col_indexer] = value instead\n",
      "\n",
      "See the caveats in the documentation: http://pandas.pydata.org/pandas-docs/stable/user_guide/indexing.html#returning-a-view-versus-a-copy\n"
     ]
    },
    {
     "data": {
      "image/png": "[encoded data removed]",
      "text/plain": [
       "<Figure size 432x288 with 1 Axes>"
      ]
     },
     "metadata": {
      "needs_background": "light"
     },
     "output_type": "display_data"
    }
   ],
   "source": [
    "responses = []\n",
    "trgts = df[:5000]\n",
    "startIdx = 0\n",
    "endIdx = 200\n",
    "while startIdx < len(trgts):\n",
    "    #responses = responses + trgts[startIdx:endIdx].text.to_list()\n",
    "    \n",
    "    responses = responses + openai.Engine(\"davinci\").search(documents=\\\n",
    "                trgts[startIdx:endIdx].text.to_list(), query=\"booze beer or wine\")[\"data\"]\n",
    "    startIdx += 200\n",
    "    endIdx += 200\n",
    "    time.sleep(2)\n",
    "\n",
    "trgts[\"seach_sim\"] = [float(x[\"score\"]) for x in responses]\n",
    "\n",
    "cutoff_f1 = pd.DataFrame()\n",
    "for i in range(0, 700):\n",
    "    trgts[\"search_pos\"] = trgts[\"seach_sim\"].apply(lambda x: 1 if x > i else 0)\n",
    "    cutoff_f1.at[\"f1\", i] = f1_score(trgts.Drinking[:1000], trgts.search_pos[:1000])\n",
    "\n",
    "cutoff = cutoff_f1.T.idxmax()[0]\n",
    "cutoff\n",
    "\n",
    "cutoff_f1_test = pd.DataFrame()\n",
    "for i in range(0, 700):\n",
    "    trgts[\"search_pos\"] = trgts[\"seach_sim\"].apply(lambda x: 1 if x > i else 0)\n",
    "    cutoff_f1_test.at[\"f1\", i] = f1_score(trgts.Drinking[1000:], trgts.search_pos[1000:])\n",
    "\n",
    "ax = cutoff_f1.T.rename(columns={\"f1\":\"train\"}).plot()\n",
    "cutoff_f1_test.T.rename(columns={\"f1\":\"test\"}).plot(ax=ax)\n",
    "\n",
    "trgts.to_pickle(\"../booze beer or wine.pkl\")\n"
   ]
  },
  {
   "cell_type": "code",
   "execution_count": 234,
   "metadata": {},
   "outputs": [
    {
     "data": {
      "text/plain": [
       "f1    0.48249\n",
       "Name: 97, dtype: float64"
      ]
     },
     "execution_count": 234,
     "metadata": {},
     "output_type": "execute_result"
    }
   ],
   "source": [
    "cutoff_f1_test[cutoff]\n"
   ]
  },
  {
   "cell_type": "code",
   "execution_count": 235,
   "metadata": {},
   "outputs": [
    {
     "name": "stderr",
     "output_type": "stream",
     "text": [
      "/Library/anaconda3/lib/python3.7/site-packages/ipykernel_launcher.py:14: SettingWithCopyWarning: \n",
      "A value is trying to be set on a copy of a slice from a DataFrame.\n",
      "Try using .loc[row_indexer,col_indexer] = value instead\n",
      "\n",
      "See the caveats in the documentation: http://pandas.pydata.org/pandas-docs/stable/user_guide/indexing.html#returning-a-view-versus-a-copy\n",
      "  \n",
      "/Library/anaconda3/lib/python3.7/site-packages/ipykernel_launcher.py:18: SettingWithCopyWarning: \n",
      "A value is trying to be set on a copy of a slice from a DataFrame.\n",
      "Try using .loc[row_indexer,col_indexer] = value instead\n",
      "\n",
      "See the caveats in the documentation: http://pandas.pydata.org/pandas-docs/stable/user_guide/indexing.html#returning-a-view-versus-a-copy\n",
      "/Library/anaconda3/lib/python3.7/site-packages/ipykernel_launcher.py:26: SettingWithCopyWarning: \n",
      "A value is trying to be set on a copy of a slice from a DataFrame.\n",
      "Try using .loc[row_indexer,col_indexer] = value instead\n",
      "\n",
      "See the caveats in the documentation: http://pandas.pydata.org/pandas-docs/stable/user_guide/indexing.html#returning-a-view-versus-a-copy\n"
     ]
    },
    {
     "data": {
      "image/png": "[encoded data removed]",
      "text/plain": [
       "<Figure size 432x288 with 1 Axes>"
      ]
     },
     "metadata": {
      "needs_background": "light"
     },
     "output_type": "display_data"
    }
   ],
   "source": [
    "responses = []\n",
    "trgts = df[:5000]\n",
    "startIdx = 0\n",
    "endIdx = 200\n",
    "while startIdx < len(trgts):\n",
    "    #responses = responses + trgts[startIdx:endIdx].text.to_list()\n",
    "    \n",
    "    responses = responses + openai.Engine(\"davinci\").search(documents=\\\n",
    "                trgts[startIdx:endIdx].text.to_list(), query=\"drinking booze\")[\"data\"]\n",
    "    startIdx += 200\n",
    "    endIdx += 200\n",
    "    time.sleep(2)\n",
    "\n",
    "trgts[\"seach_sim\"] = [float(x[\"score\"]) for x in responses]\n",
    "\n",
    "cutoff_f1 = pd.DataFrame()\n",
    "for i in range(0, 700):\n",
    "    trgts[\"search_pos\"] = trgts[\"seach_sim\"].apply(lambda x: 1 if x > i else 0)\n",
    "    cutoff_f1.at[\"f1\", i] = f1_score(trgts.Drinking[:1000], trgts.search_pos[:1000])\n",
    "\n",
    "cutoff = cutoff_f1.T.idxmax()[0]\n",
    "cutoff\n",
    "\n",
    "cutoff_f1_test = pd.DataFrame()\n",
    "for i in range(0, 700):\n",
    "    trgts[\"search_pos\"] = trgts[\"seach_sim\"].apply(lambda x: 1 if x > i else 0)\n",
    "    cutoff_f1_test.at[\"f1\", i] = f1_score(trgts.Drinking[1000:], trgts.search_pos[1000:])\n",
    "\n",
    "ax = cutoff_f1.T.rename(columns={\"f1\":\"train\"}).plot()\n",
    "cutoff_f1_test.T.rename(columns={\"f1\":\"test\"}).plot(ax=ax)\n",
    "\n",
    "trgts.to_pickle(\"../drinking booze.pkl\")\n"
   ]
  },
  {
   "cell_type": "code",
   "execution_count": 236,
   "metadata": {},
   "outputs": [
    {
     "data": {
      "text/plain": [
       "f1    0.697051\n",
       "Name: 278, dtype: float64"
      ]
     },
     "execution_count": 236,
     "metadata": {},
     "output_type": "execute_result"
    }
   ],
   "source": [
    "cutoff_f1_test[cutoff]\n"
   ]
  },
  {
   "cell_type": "code",
   "execution_count": 237,
   "metadata": {},
   "outputs": [
    {
     "name": "stderr",
     "output_type": "stream",
     "text": [
      "/Library/anaconda3/lib/python3.7/site-packages/ipykernel_launcher.py:14: SettingWithCopyWarning: \n",
      "A value is trying to be set on a copy of a slice from a DataFrame.\n",
      "Try using .loc[row_indexer,col_indexer] = value instead\n",
      "\n",
      "See the caveats in the documentation: http://pandas.pydata.org/pandas-docs/stable/user_guide/indexing.html#returning-a-view-versus-a-copy\n",
      "  \n",
      "/Library/anaconda3/lib/python3.7/site-packages/ipykernel_launcher.py:18: SettingWithCopyWarning: \n",
      "A value is trying to be set on a copy of a slice from a DataFrame.\n",
      "Try using .loc[row_indexer,col_indexer] = value instead\n",
      "\n",
      "See the caveats in the documentation: http://pandas.pydata.org/pandas-docs/stable/user_guide/indexing.html#returning-a-view-versus-a-copy\n",
      "/Library/anaconda3/lib/python3.7/site-packages/ipykernel_launcher.py:26: SettingWithCopyWarning: \n",
      "A value is trying to be set on a copy of a slice from a DataFrame.\n",
      "Try using .loc[row_indexer,col_indexer] = value instead\n",
      "\n",
      "See the caveats in the documentation: http://pandas.pydata.org/pandas-docs/stable/user_guide/indexing.html#returning-a-view-versus-a-copy\n"
     ]
    },
    {
     "data": {
      "image/png": "[encoded data removed]",
      "text/plain": [
       "<Figure size 432x288 with 1 Axes>"
      ]
     },
     "metadata": {
      "needs_background": "light"
     },
     "output_type": "display_data"
    }
   ],
   "source": [
    "responses = []\n",
    "trgts = df[:5000]\n",
    "startIdx = 0\n",
    "endIdx = 200\n",
    "while startIdx < len(trgts):\n",
    "    #responses = responses + trgts[startIdx:endIdx].text.to_list()\n",
    "    \n",
    "    responses = responses + openai.Engine(\"davinci\").search(documents=\\\n",
    "                trgts[startIdx:endIdx].text.to_list(), query=\"drinking wine or booze\")[\"data\"]\n",
    "    startIdx += 200\n",
    "    endIdx += 200\n",
    "    time.sleep(2)\n",
    "\n",
    "trgts[\"seach_sim\"] = [float(x[\"score\"]) for x in responses]\n",
    "\n",
    "cutoff_f1 = pd.DataFrame()\n",
    "for i in range(0, 700):\n",
    "    trgts[\"search_pos\"] = trgts[\"seach_sim\"].apply(lambda x: 1 if x > i else 0)\n",
    "    cutoff_f1.at[\"f1\", i] = f1_score(trgts.Drinking[:1000], trgts.search_pos[:1000])\n",
    "\n",
    "cutoff = cutoff_f1.T.idxmax()[0]\n",
    "cutoff\n",
    "\n",
    "cutoff_f1_test = pd.DataFrame()\n",
    "for i in range(0, 700):\n",
    "    trgts[\"search_pos\"] = trgts[\"seach_sim\"].apply(lambda x: 1 if x > i else 0)\n",
    "    cutoff_f1_test.at[\"f1\", i] = f1_score(trgts.Drinking[1000:], trgts.search_pos[1000:])\n",
    "\n",
    "ax = cutoff_f1.T.rename(columns={\"f1\":\"train\"}).plot()\n",
    "cutoff_f1_test.T.rename(columns={\"f1\":\"test\"}).plot(ax=ax)\n",
    "\n",
    "trgts.to_pickle(\"../drinking wine or booze.pkl\")\n"
   ]
  },
  {
   "cell_type": "code",
   "execution_count": 238,
   "metadata": {},
   "outputs": [
    {
     "data": {
      "text/plain": [
       "f1    0.681934\n",
       "Name: 101, dtype: float64"
      ]
     },
     "execution_count": 238,
     "metadata": {},
     "output_type": "execute_result"
    }
   ],
   "source": [
    "cutoff_f1_test[cutoff]\n"
   ]
  },
  {
   "cell_type": "code",
   "execution_count": 239,
   "metadata": {},
   "outputs": [
    {
     "data": {
      "text/html": [
       "<div>\n",
       "<style scoped>\n",
       "    .dataframe tbody tr th:only-of-type {\n",
       "        vertical-align: middle;\n",
       "    }\n",
       "\n",
       "    .dataframe tbody tr th {\n",
       "        vertical-align: top;\n",
       "    }\n",
       "\n",
       "    .dataframe thead th {\n",
       "        text-align: right;\n",
       "    }\n",
       "</style>\n",
       "<table border=\"1\" class=\"dataframe\">\n",
       "  <thead>\n",
       "    <tr style=\"text-align: right;\">\n",
       "      <th></th>\n",
       "      <th>Drinking</th>\n",
       "      <th>Tobacco</th>\n",
       "      <th>Vaping</th>\n",
       "      <th>Marijuana</th>\n",
       "      <th>Illegal drugs</th>\n",
       "      <th>Prescription drugs</th>\n",
       "      <th>text</th>\n",
       "    </tr>\n",
       "  </thead>\n",
       "  <tbody>\n",
       "    <tr>\n",
       "      <td>0</td>\n",
       "      <td>0</td>\n",
       "      <td>0</td>\n",
       "      <td>0</td>\n",
       "      <td>0</td>\n",
       "      <td>0</td>\n",
       "      <td>0</td>\n",
       "      <td>I'm 20 years old and still can't figure out where my clit is 😒😞</td>\n",
       "    </tr>\n",
       "    <tr>\n",
       "      <td>1</td>\n",
       "      <td>0</td>\n",
       "      <td>0</td>\n",
       "      <td>0</td>\n",
       "      <td>0</td>\n",
       "      <td>0</td>\n",
       "      <td>0</td>\n",
       "      <td>A beard can either make or break you</td>\n",
       "    </tr>\n",
       "    <tr>\n",
       "      <td>2</td>\n",
       "      <td>0</td>\n",
       "      <td>0</td>\n",
       "      <td>0</td>\n",
       "      <td>0</td>\n",
       "      <td>0</td>\n",
       "      <td>0</td>\n",
       "      <td>You know what would get me hard right now, you whippin your dick out! 👬</td>\n",
       "    </tr>\n",
       "    <tr>\n",
       "      <td>3</td>\n",
       "      <td>0</td>\n",
       "      <td>0</td>\n",
       "      <td>0</td>\n",
       "      <td>0</td>\n",
       "      <td>0</td>\n",
       "      <td>0</td>\n",
       "      <td>When did the bitch from frozen come to auburn? This is getting a little ridiculous</td>\n",
       "    </tr>\n",
       "    <tr>\n",
       "      <td>4</td>\n",
       "      <td>0</td>\n",
       "      <td>0</td>\n",
       "      <td>0</td>\n",
       "      <td>0</td>\n",
       "      <td>0</td>\n",
       "      <td>0</td>\n",
       "      <td>Do guys find tall girls attractive, like +6foot?</td>\n",
       "    </tr>\n",
       "  </tbody>\n",
       "</table>\n",
       "</div>"
      ],
      "text/plain": [
       "   Drinking  Tobacco  Vaping  Marijuana  Illegal drugs  Prescription drugs  \\\n",
       "0  0         0        0       0          0              0                    \n",
       "1  0         0        0       0          0              0                    \n",
       "2  0         0        0       0          0              0                    \n",
       "3  0         0        0       0          0              0                    \n",
       "4  0         0        0       0          0              0                    \n",
       "\n",
       "                                                                                 text  \n",
       "0  I'm 20 years old and still can't figure out where my clit is 😒😞                     \n",
       "1  A beard can either make or break you                                                \n",
       "2  You know what would get me hard right now, you whippin your dick out! 👬             \n",
       "3  When did the bitch from frozen come to auburn? This is getting a little ridiculous  \n",
       "4  Do guys find tall girls attractive, like +6foot?                                    "
      ]
     },
     "execution_count": 239,
     "metadata": {},
     "output_type": "execute_result"
    }
   ],
   "source": [
    "df.head()"
   ]
  },
  {
   "cell_type": "code",
   "execution_count": 241,
   "metadata": {},
   "outputs": [
    {
     "name": "stderr",
     "output_type": "stream",
     "text": [
      "/Library/anaconda3/lib/python3.7/site-packages/ipykernel_launcher.py:17: SettingWithCopyWarning: \n",
      "A value is trying to be set on a copy of a slice from a DataFrame.\n",
      "Try using .loc[row_indexer,col_indexer] = value instead\n",
      "\n",
      "See the caveats in the documentation: http://pandas.pydata.org/pandas-docs/stable/user_guide/indexing.html#returning-a-view-versus-a-copy\n",
      "/Library/anaconda3/lib/python3.7/site-packages/ipykernel_launcher.py:21: SettingWithCopyWarning: \n",
      "A value is trying to be set on a copy of a slice from a DataFrame.\n",
      "Try using .loc[row_indexer,col_indexer] = value instead\n",
      "\n",
      "See the caveats in the documentation: http://pandas.pydata.org/pandas-docs/stable/user_guide/indexing.html#returning-a-view-versus-a-copy\n",
      "/Library/anaconda3/lib/python3.7/site-packages/ipykernel_launcher.py:29: SettingWithCopyWarning: \n",
      "A value is trying to be set on a copy of a slice from a DataFrame.\n",
      "Try using .loc[row_indexer,col_indexer] = value instead\n",
      "\n",
      "See the caveats in the documentation: http://pandas.pydata.org/pandas-docs/stable/user_guide/indexing.html#returning-a-view-versus-a-copy\n"
     ]
    },
    {
     "ename": "ValueError",
     "evalue": "Single '}' encountered in format string",
     "output_type": "error",
     "traceback": [
      "\u001b[0;31m---------------------------------------------------------------------------\u001b[0m",
      "\u001b[0;31mValueError\u001b[0m                                Traceback (most recent call last)",
      "\u001b[0;32m<ipython-input-241-f3b959a8d020>\u001b[0m in \u001b[0;36m<module>\u001b[0;34m\u001b[0m\n\u001b[1;32m     33\u001b[0m \u001b[0mcutoff_f1_test\u001b[0m\u001b[0;34m.\u001b[0m\u001b[0mT\u001b[0m\u001b[0;34m.\u001b[0m\u001b[0mrename\u001b[0m\u001b[0;34m(\u001b[0m\u001b[0mcolumns\u001b[0m\u001b[0;34m=\u001b[0m\u001b[0;34m{\u001b[0m\u001b[0;34m\"f1\"\u001b[0m\u001b[0;34m:\u001b[0m\u001b[0;34m\"test\"\u001b[0m\u001b[0;34m}\u001b[0m\u001b[0;34m)\u001b[0m\u001b[0;34m.\u001b[0m\u001b[0mplot\u001b[0m\u001b[0;34m(\u001b[0m\u001b[0max\u001b[0m\u001b[0;34m=\u001b[0m\u001b[0max\u001b[0m\u001b[0;34m)\u001b[0m\u001b[0;34m\u001b[0m\u001b[0;34m\u001b[0m\u001b[0m\n\u001b[1;32m     34\u001b[0m \u001b[0;34m\u001b[0m\u001b[0m\n\u001b[0;32m---> 35\u001b[0;31m \u001b[0mtrgts\u001b[0m\u001b[0;34m.\u001b[0m\u001b[0mto_pickle\u001b[0m\u001b[0;34m(\u001b[0m\u001b[0;34m\"../{}}.pkl\"\u001b[0m\u001b[0;34m.\u001b[0m\u001b[0mformat\u001b[0m\u001b[0;34m(\u001b[0m\u001b[0mquery\u001b[0m\u001b[0;34m)\u001b[0m\u001b[0;34m)\u001b[0m\u001b[0;34m\u001b[0m\u001b[0;34m\u001b[0m\u001b[0m\n\u001b[0m\u001b[1;32m     36\u001b[0m \u001b[0mcutoff_f1_test\u001b[0m\u001b[0;34m[\u001b[0m\u001b[0mcutoff\u001b[0m\u001b[0;34m]\u001b[0m\u001b[0;34m\u001b[0m\u001b[0;34m\u001b[0m\u001b[0m\n",
      "\u001b[0;31mValueError\u001b[0m: Single '}' encountered in format string"
     ]
    },
    {
     "data": {
      "image/png": "[encoded data removed]",
      "text/plain": [
       "<Figure size 432x288 with 1 Axes>"
      ]
     },
     "metadata": {
      "needs_background": "light"
     },
     "output_type": "display_data"
    }
   ],
   "source": [
    "responses = []\n",
    "trgts = df[:5000]\n",
    "startIdx = 0\n",
    "endIdx = 200\n",
    "\n",
    "query = \"Tobacco\"\n",
    "\n",
    "while startIdx < len(trgts):\n",
    "    #responses = responses + trgts[startIdx:endIdx].text.to_list()\n",
    "    \n",
    "    responses = responses + openai.Engine(\"davinci\").search(documents=\\\n",
    "                trgts[startIdx:endIdx].text.to_list(), query=query)[\"data\"]\n",
    "    startIdx += 200\n",
    "    endIdx += 200\n",
    "    time.sleep(2)\n",
    "\n",
    "trgts[\"seach_sim\"] = [float(x[\"score\"]) for x in responses]\n",
    "\n",
    "cutoff_f1 = pd.DataFrame()\n",
    "for i in range(0, 700):\n",
    "    trgts[\"search_pos\"] = trgts[\"seach_sim\"].apply(lambda x: 1 if x > i else 0)\n",
    "    cutoff_f1.at[\"f1\", i] = f1_score(trgts.Tobacco[:1000], trgts.search_pos[:1000])\n",
    "\n",
    "cutoff = cutoff_f1.T.idxmax()[0]\n",
    "cutoff\n",
    "\n",
    "cutoff_f1_test = pd.DataFrame()\n",
    "for i in range(0, 700):\n",
    "    trgts[\"search_pos\"] = trgts[\"seach_sim\"].apply(lambda x: 1 if x > i else 0)\n",
    "    cutoff_f1_test.at[\"f1\", i] = f1_score(trgts.Tobacco[1000:], trgts.search_pos[1000:])\n",
    "\n",
    "ax = cutoff_f1.T.rename(columns={\"f1\":\"train\"}).plot()\n",
    "cutoff_f1_test.T.rename(columns={\"f1\":\"test\"}).plot(ax=ax)"
   ]
  },
  {
   "cell_type": "code",
   "execution_count": 242,
   "metadata": {},
   "outputs": [
    {
     "data": {
      "text/plain": [
       "f1    0.5\n",
       "Name: 512, dtype: float64"
      ]
     },
     "execution_count": 242,
     "metadata": {},
     "output_type": "execute_result"
    }
   ],
   "source": [
    "trgts.to_pickle(\"../{}.pkl\".format(query))\n",
    "cutoff_f1_test[cutoff]\n"
   ]
  },
  {
   "cell_type": "code",
   "execution_count": 247,
   "metadata": {},
   "outputs": [
    {
     "name": "stderr",
     "output_type": "stream",
     "text": [
      "/Library/anaconda3/lib/python3.7/site-packages/ipykernel_launcher.py:17: SettingWithCopyWarning: \n",
      "A value is trying to be set on a copy of a slice from a DataFrame.\n",
      "Try using .loc[row_indexer,col_indexer] = value instead\n",
      "\n",
      "See the caveats in the documentation: http://pandas.pydata.org/pandas-docs/stable/user_guide/indexing.html#returning-a-view-versus-a-copy\n",
      "/Library/anaconda3/lib/python3.7/site-packages/ipykernel_launcher.py:21: SettingWithCopyWarning: \n",
      "A value is trying to be set on a copy of a slice from a DataFrame.\n",
      "Try using .loc[row_indexer,col_indexer] = value instead\n",
      "\n",
      "See the caveats in the documentation: http://pandas.pydata.org/pandas-docs/stable/user_guide/indexing.html#returning-a-view-versus-a-copy\n",
      "/Library/anaconda3/lib/python3.7/site-packages/ipykernel_launcher.py:29: SettingWithCopyWarning: \n",
      "A value is trying to be set on a copy of a slice from a DataFrame.\n",
      "Try using .loc[row_indexer,col_indexer] = value instead\n",
      "\n",
      "See the caveats in the documentation: http://pandas.pydata.org/pandas-docs/stable/user_guide/indexing.html#returning-a-view-versus-a-copy\n"
     ]
    },
    {
     "data": {
      "text/plain": [
       "f1    0.363636\n",
       "Name: 342, dtype: float64"
      ]
     },
     "execution_count": 247,
     "metadata": {},
     "output_type": "execute_result"
    },
    {
     "data": {
      "image/png": "[encoded data removed]",
      "text/plain": [
       "<Figure size 432x288 with 1 Axes>"
      ]
     },
     "metadata": {
      "needs_background": "light"
     },
     "output_type": "display_data"
    }
   ],
   "source": [
    "responses = []\n",
    "trgts = df[:5000]\n",
    "startIdx = 0\n",
    "endIdx = 200\n",
    "\n",
    "query = \"Smoking tobacco\"\n",
    "\n",
    "while startIdx < len(trgts):\n",
    "    #responses = responses + trgts[startIdx:endIdx].text.to_list()\n",
    "    \n",
    "    responses = responses + openai.Engine(\"davinci\").search(documents=\\\n",
    "                trgts[startIdx:endIdx].text.to_list(), query=query)[\"data\"]\n",
    "    startIdx += 200\n",
    "    endIdx += 200\n",
    "    time.sleep(2)\n",
    "\n",
    "trgts[\"seach_sim\"] = [float(x[\"score\"]) for x in responses]\n",
    "\n",
    "cutoff_f1 = pd.DataFrame()\n",
    "for i in range(0, 700):\n",
    "    trgts[\"search_pos\"] = trgts[\"seach_sim\"].apply(lambda x: 1 if x > i else 0)\n",
    "    cutoff_f1.at[\"f1\", i] = f1_score(trgts.Tobacco[:1000], trgts.search_pos[:1000])\n",
    "\n",
    "cutoff = cutoff_f1.T.idxmax()[0]\n",
    "cutoff\n",
    "\n",
    "cutoff_f1_test = pd.DataFrame()\n",
    "for i in range(0, 700):\n",
    "    trgts[\"search_pos\"] = trgts[\"seach_sim\"].apply(lambda x: 1 if x > i else 0)\n",
    "    cutoff_f1_test.at[\"f1\", i] = f1_score(trgts.Tobacco[1000:], trgts.search_pos[1000:])\n",
    "\n",
    "ax = cutoff_f1.T.rename(columns={\"f1\":\"train\"}).plot()\n",
    "cutoff_f1_test.T.rename(columns={\"f1\":\"test\"}).plot(ax=ax)\n",
    "trgts.to_pickle(\"../{}.pkl\".format(query))\n",
    "cutoff_f1_test[cutoff]\n"
   ]
  },
  {
   "cell_type": "code",
   "execution_count": 248,
   "metadata": {},
   "outputs": [
    {
     "name": "stderr",
     "output_type": "stream",
     "text": [
      "/Library/anaconda3/lib/python3.7/site-packages/ipykernel_launcher.py:17: SettingWithCopyWarning: \n",
      "A value is trying to be set on a copy of a slice from a DataFrame.\n",
      "Try using .loc[row_indexer,col_indexer] = value instead\n",
      "\n",
      "See the caveats in the documentation: http://pandas.pydata.org/pandas-docs/stable/user_guide/indexing.html#returning-a-view-versus-a-copy\n",
      "/Library/anaconda3/lib/python3.7/site-packages/ipykernel_launcher.py:21: SettingWithCopyWarning: \n",
      "A value is trying to be set on a copy of a slice from a DataFrame.\n",
      "Try using .loc[row_indexer,col_indexer] = value instead\n",
      "\n",
      "See the caveats in the documentation: http://pandas.pydata.org/pandas-docs/stable/user_guide/indexing.html#returning-a-view-versus-a-copy\n",
      "/Library/anaconda3/lib/python3.7/site-packages/ipykernel_launcher.py:29: SettingWithCopyWarning: \n",
      "A value is trying to be set on a copy of a slice from a DataFrame.\n",
      "Try using .loc[row_indexer,col_indexer] = value instead\n",
      "\n",
      "See the caveats in the documentation: http://pandas.pydata.org/pandas-docs/stable/user_guide/indexing.html#returning-a-view-versus-a-copy\n"
     ]
    },
    {
     "data": {
      "text/plain": [
       "f1    0.125\n",
       "Name: 647, dtype: float64"
      ]
     },
     "execution_count": 248,
     "metadata": {},
     "output_type": "execute_result"
    },
    {
     "data": {
      "image/png": "[encoded data removed]",
      "text/plain": [
       "<Figure size 432x288 with 1 Axes>"
      ]
     },
     "metadata": {
      "needs_background": "light"
     },
     "output_type": "display_data"
    }
   ],
   "source": [
    "responses = []\n",
    "trgts = df[:5000]\n",
    "startIdx = 0\n",
    "endIdx = 200\n",
    "\n",
    "query = \"Smoking\"\n",
    "\n",
    "while startIdx < len(trgts):\n",
    "    #responses = responses + trgts[startIdx:endIdx].text.to_list()\n",
    "    \n",
    "    responses = responses + openai.Engine(\"davinci\").search(documents=\\\n",
    "                trgts[startIdx:endIdx].text.to_list(), query=query)[\"data\"]\n",
    "    startIdx += 200\n",
    "    endIdx += 200\n",
    "    time.sleep(2)\n",
    "\n",
    "trgts[\"seach_sim\"] = [float(x[\"score\"]) for x in responses]\n",
    "\n",
    "cutoff_f1 = pd.DataFrame()\n",
    "for i in range(0, 700):\n",
    "    trgts[\"search_pos\"] = trgts[\"seach_sim\"].apply(lambda x: 1 if x > i else 0)\n",
    "    cutoff_f1.at[\"f1\", i] = f1_score(trgts.Tobacco[:1000], trgts.search_pos[:1000])\n",
    "\n",
    "cutoff = cutoff_f1.T.idxmax()[0]\n",
    "cutoff\n",
    "\n",
    "cutoff_f1_test = pd.DataFrame()\n",
    "for i in range(0, 700):\n",
    "    trgts[\"search_pos\"] = trgts[\"seach_sim\"].apply(lambda x: 1 if x > i else 0)\n",
    "    cutoff_f1_test.at[\"f1\", i] = f1_score(trgts.Tobacco[1000:], trgts.search_pos[1000:])\n",
    "\n",
    "ax = cutoff_f1.T.rename(columns={\"f1\":\"train\"}).plot()\n",
    "cutoff_f1_test.T.rename(columns={\"f1\":\"test\"}).plot(ax=ax)\n",
    "trgts.to_pickle(\"../{}.pkl\".format(query))\n",
    "cutoff_f1_test[cutoff]\n"
   ]
  },
  {
   "cell_type": "code",
   "execution_count": null,
   "metadata": {},
   "outputs": [],
   "source": []
  },
  {
   "cell_type": "code",
   "execution_count": 249,
   "metadata": {},
   "outputs": [
    {
     "name": "stderr",
     "output_type": "stream",
     "text": [
      "/Library/anaconda3/lib/python3.7/site-packages/ipykernel_launcher.py:17: SettingWithCopyWarning: \n",
      "A value is trying to be set on a copy of a slice from a DataFrame.\n",
      "Try using .loc[row_indexer,col_indexer] = value instead\n",
      "\n",
      "See the caveats in the documentation: http://pandas.pydata.org/pandas-docs/stable/user_guide/indexing.html#returning-a-view-versus-a-copy\n",
      "/Library/anaconda3/lib/python3.7/site-packages/ipykernel_launcher.py:21: SettingWithCopyWarning: \n",
      "A value is trying to be set on a copy of a slice from a DataFrame.\n",
      "Try using .loc[row_indexer,col_indexer] = value instead\n",
      "\n",
      "See the caveats in the documentation: http://pandas.pydata.org/pandas-docs/stable/user_guide/indexing.html#returning-a-view-versus-a-copy\n",
      "/Library/anaconda3/lib/python3.7/site-packages/ipykernel_launcher.py:29: SettingWithCopyWarning: \n",
      "A value is trying to be set on a copy of a slice from a DataFrame.\n",
      "Try using .loc[row_indexer,col_indexer] = value instead\n",
      "\n",
      "See the caveats in the documentation: http://pandas.pydata.org/pandas-docs/stable/user_guide/indexing.html#returning-a-view-versus-a-copy\n"
     ]
    },
    {
     "data": {
      "text/plain": [
       "f1    0.363636\n",
       "Name: 99, dtype: float64"
      ]
     },
     "execution_count": 249,
     "metadata": {},
     "output_type": "execute_result"
    },
    {
     "data": {
      "image/png": "[encoded data removed]",
      "text/plain": [
       "<Figure size 432x288 with 1 Axes>"
      ]
     },
     "metadata": {
      "needs_background": "light"
     },
     "output_type": "display_data"
    }
   ],
   "source": [
    "responses = []\n",
    "trgts = df[:5000]\n",
    "startIdx = 0\n",
    "endIdx = 200\n",
    "\n",
    "query = \"This mentions tobacco.\"\n",
    "\n",
    "while startIdx < len(trgts):\n",
    "    #responses = responses + trgts[startIdx:endIdx].text.to_list()\n",
    "    \n",
    "    responses = responses + openai.Engine(\"davinci\").search(documents=\\\n",
    "                trgts[startIdx:endIdx].text.to_list(), query=query)[\"data\"]\n",
    "    startIdx += 200\n",
    "    endIdx += 200\n",
    "    time.sleep(2)\n",
    "\n",
    "trgts[\"seach_sim\"] = [float(x[\"score\"]) for x in responses]\n",
    "\n",
    "cutoff_f1 = pd.DataFrame()\n",
    "for i in range(0, 700):\n",
    "    trgts[\"search_pos\"] = trgts[\"seach_sim\"].apply(lambda x: 1 if x > i else 0)\n",
    "    cutoff_f1.at[\"f1\", i] = f1_score(trgts.Tobacco[:1000], trgts.search_pos[:1000])\n",
    "\n",
    "cutoff = cutoff_f1.T.idxmax()[0]\n",
    "cutoff\n",
    "\n",
    "cutoff_f1_test = pd.DataFrame()\n",
    "for i in range(0, 700):\n",
    "    trgts[\"search_pos\"] = trgts[\"seach_sim\"].apply(lambda x: 1 if x > i else 0)\n",
    "    cutoff_f1_test.at[\"f1\", i] = f1_score(trgts.Tobacco[1000:], trgts.search_pos[1000:])\n",
    "\n",
    "ax = cutoff_f1.T.rename(columns={\"f1\":\"train\"}).plot()\n",
    "cutoff_f1_test.T.rename(columns={\"f1\":\"test\"}).plot(ax=ax)\n",
    "trgts.to_pickle(\"../{}.pkl\".format(query))\n",
    "cutoff_f1_test[cutoff]\n"
   ]
  },
  {
   "cell_type": "code",
   "execution_count": 250,
   "metadata": {},
   "outputs": [
    {
     "name": "stderr",
     "output_type": "stream",
     "text": [
      "/Library/anaconda3/lib/python3.7/site-packages/ipykernel_launcher.py:17: SettingWithCopyWarning: \n",
      "A value is trying to be set on a copy of a slice from a DataFrame.\n",
      "Try using .loc[row_indexer,col_indexer] = value instead\n",
      "\n",
      "See the caveats in the documentation: http://pandas.pydata.org/pandas-docs/stable/user_guide/indexing.html#returning-a-view-versus-a-copy\n",
      "/Library/anaconda3/lib/python3.7/site-packages/ipykernel_launcher.py:21: SettingWithCopyWarning: \n",
      "A value is trying to be set on a copy of a slice from a DataFrame.\n",
      "Try using .loc[row_indexer,col_indexer] = value instead\n",
      "\n",
      "See the caveats in the documentation: http://pandas.pydata.org/pandas-docs/stable/user_guide/indexing.html#returning-a-view-versus-a-copy\n",
      "/Library/anaconda3/lib/python3.7/site-packages/ipykernel_launcher.py:29: SettingWithCopyWarning: \n",
      "A value is trying to be set on a copy of a slice from a DataFrame.\n",
      "Try using .loc[row_indexer,col_indexer] = value instead\n",
      "\n",
      "See the caveats in the documentation: http://pandas.pydata.org/pandas-docs/stable/user_guide/indexing.html#returning-a-view-versus-a-copy\n"
     ]
    },
    {
     "data": {
      "text/plain": [
       "f1    0.245614\n",
       "Name: 450, dtype: float64"
      ]
     },
     "execution_count": 250,
     "metadata": {},
     "output_type": "execute_result"
    },
    {
     "data": {
      "image/png": "[encoded data removed]",
      "text/plain": [
       "<Figure size 432x288 with 1 Axes>"
      ]
     },
     "metadata": {
      "needs_background": "light"
     },
     "output_type": "display_data"
    }
   ],
   "source": [
    "responses = []\n",
    "trgts = df[:5000]\n",
    "startIdx = 0\n",
    "endIdx = 200\n",
    "\n",
    "query = \"cigarettes\"\n",
    "\n",
    "while startIdx < len(trgts):\n",
    "    #responses = responses + trgts[startIdx:endIdx].text.to_list()\n",
    "    \n",
    "    responses = responses + openai.Engine(\"davinci\").search(documents=\\\n",
    "                trgts[startIdx:endIdx].text.to_list(), query=query)[\"data\"]\n",
    "    startIdx += 200\n",
    "    endIdx += 200\n",
    "    time.sleep(2)\n",
    "\n",
    "trgts[\"seach_sim\"] = [float(x[\"score\"]) for x in responses]\n",
    "\n",
    "cutoff_f1 = pd.DataFrame()\n",
    "for i in range(0, 700):\n",
    "    trgts[\"search_pos\"] = trgts[\"seach_sim\"].apply(lambda x: 1 if x > i else 0)\n",
    "    cutoff_f1.at[\"f1\", i] = f1_score(trgts.Tobacco[:1000], trgts.search_pos[:1000])\n",
    "\n",
    "cutoff = cutoff_f1.T.idxmax()[0]\n",
    "cutoff\n",
    "\n",
    "cutoff_f1_test = pd.DataFrame()\n",
    "for i in range(0, 700):\n",
    "    trgts[\"search_pos\"] = trgts[\"seach_sim\"].apply(lambda x: 1 if x > i else 0)\n",
    "    cutoff_f1_test.at[\"f1\", i] = f1_score(trgts.Tobacco[1000:], trgts.search_pos[1000:])\n",
    "\n",
    "ax = cutoff_f1.T.rename(columns={\"f1\":\"train\"}).plot()\n",
    "cutoff_f1_test.T.rename(columns={\"f1\":\"test\"}).plot(ax=ax)\n",
    "trgts.to_pickle(\"../{}.pkl\".format(query))\n",
    "cutoff_f1_test[cutoff]\n"
   ]
  },
  {
   "cell_type": "code",
   "execution_count": 252,
   "metadata": {},
   "outputs": [
    {
     "name": "stderr",
     "output_type": "stream",
     "text": [
      "/Library/anaconda3/lib/python3.7/site-packages/ipykernel_launcher.py:17: SettingWithCopyWarning: \n",
      "A value is trying to be set on a copy of a slice from a DataFrame.\n",
      "Try using .loc[row_indexer,col_indexer] = value instead\n",
      "\n",
      "See the caveats in the documentation: http://pandas.pydata.org/pandas-docs/stable/user_guide/indexing.html#returning-a-view-versus-a-copy\n",
      "/Library/anaconda3/lib/python3.7/site-packages/ipykernel_launcher.py:21: SettingWithCopyWarning: \n",
      "A value is trying to be set on a copy of a slice from a DataFrame.\n",
      "Try using .loc[row_indexer,col_indexer] = value instead\n",
      "\n",
      "See the caveats in the documentation: http://pandas.pydata.org/pandas-docs/stable/user_guide/indexing.html#returning-a-view-versus-a-copy\n",
      "/Library/anaconda3/lib/python3.7/site-packages/ipykernel_launcher.py:29: SettingWithCopyWarning: \n",
      "A value is trying to be set on a copy of a slice from a DataFrame.\n",
      "Try using .loc[row_indexer,col_indexer] = value instead\n",
      "\n",
      "See the caveats in the documentation: http://pandas.pydata.org/pandas-docs/stable/user_guide/indexing.html#returning-a-view-versus-a-copy\n"
     ]
    },
    {
     "data": {
      "text/plain": [
       "f1    0.197183\n",
       "Name: 69, dtype: float64"
      ]
     },
     "execution_count": 252,
     "metadata": {},
     "output_type": "execute_result"
    },
    {
     "data": {
      "image/png": "[encoded data removed]",
      "text/plain": [
       "<Figure size 432x288 with 1 Axes>"
      ]
     },
     "metadata": {
      "needs_background": "light"
     },
     "output_type": "display_data"
    }
   ],
   "source": [
    "responses = []\n",
    "trgts = df[:5000]\n",
    "startIdx = 0\n",
    "endIdx = 200\n",
    "\n",
    "query = \"mentions tobacco.\"\n",
    "\n",
    "while startIdx < len(trgts):\n",
    "    #responses = responses + trgts[startIdx:endIdx].text.to_list()\n",
    "    \n",
    "    responses = responses + openai.Engine(\"davinci\").search(documents=\\\n",
    "                trgts[startIdx:endIdx].text.to_list(), query=query)[\"data\"]\n",
    "    startIdx += 200\n",
    "    endIdx += 200\n",
    "    time.sleep(2)\n",
    "\n",
    "trgts[\"seach_sim\"] = [float(x[\"score\"]) for x in responses]\n",
    "\n",
    "cutoff_f1 = pd.DataFrame()\n",
    "for i in range(0, 700):\n",
    "    trgts[\"search_pos\"] = trgts[\"seach_sim\"].apply(lambda x: 1 if x > i else 0)\n",
    "    cutoff_f1.at[\"f1\", i] = f1_score(trgts.Tobacco[:1000], trgts.search_pos[:1000])\n",
    "\n",
    "cutoff = cutoff_f1.T.idxmax()[0]\n",
    "cutoff\n",
    "\n",
    "cutoff_f1_test = pd.DataFrame()\n",
    "for i in range(0, 700):\n",
    "    trgts[\"search_pos\"] = trgts[\"seach_sim\"].apply(lambda x: 1 if x > i else 0)\n",
    "    cutoff_f1_test.at[\"f1\", i] = f1_score(trgts.Tobacco[1000:], trgts.search_pos[1000:])\n",
    "\n",
    "ax = cutoff_f1.T.rename(columns={\"f1\":\"train\"}).plot()\n",
    "cutoff_f1_test.T.rename(columns={\"f1\":\"test\"}).plot(ax=ax)\n",
    "trgts.to_pickle(\"../{}.pkl\".format(query))\n",
    "cutoff_f1_test[cutoff]\n"
   ]
  },
  {
   "cell_type": "code",
   "execution_count": 253,
   "metadata": {},
   "outputs": [
    {
     "name": "stderr",
     "output_type": "stream",
     "text": [
      "/Library/anaconda3/lib/python3.7/site-packages/ipykernel_launcher.py:17: SettingWithCopyWarning: \n",
      "A value is trying to be set on a copy of a slice from a DataFrame.\n",
      "Try using .loc[row_indexer,col_indexer] = value instead\n",
      "\n",
      "See the caveats in the documentation: http://pandas.pydata.org/pandas-docs/stable/user_guide/indexing.html#returning-a-view-versus-a-copy\n",
      "/Library/anaconda3/lib/python3.7/site-packages/ipykernel_launcher.py:21: SettingWithCopyWarning: \n",
      "A value is trying to be set on a copy of a slice from a DataFrame.\n",
      "Try using .loc[row_indexer,col_indexer] = value instead\n",
      "\n",
      "See the caveats in the documentation: http://pandas.pydata.org/pandas-docs/stable/user_guide/indexing.html#returning-a-view-versus-a-copy\n",
      "/Library/anaconda3/lib/python3.7/site-packages/ipykernel_launcher.py:29: SettingWithCopyWarning: \n",
      "A value is trying to be set on a copy of a slice from a DataFrame.\n",
      "Try using .loc[row_indexer,col_indexer] = value instead\n",
      "\n",
      "See the caveats in the documentation: http://pandas.pydata.org/pandas-docs/stable/user_guide/indexing.html#returning-a-view-versus-a-copy\n"
     ]
    },
    {
     "data": {
      "text/plain": [
       "f1    0.255319\n",
       "Name: 119, dtype: float64"
      ]
     },
     "execution_count": 253,
     "metadata": {},
     "output_type": "execute_result"
    },
    {
     "data": {
      "image/png": "[encoded data removed]",
      "text/plain": [
       "<Figure size 432x288 with 1 Axes>"
      ]
     },
     "metadata": {
      "needs_background": "light"
     },
     "output_type": "display_data"
    }
   ],
   "source": [
    "responses = []\n",
    "trgts = df[:5000]\n",
    "startIdx = 0\n",
    "endIdx = 200\n",
    "\n",
    "query = \"mentioning tobacco.\"\n",
    "\n",
    "while startIdx < len(trgts):\n",
    "    #responses = responses + trgts[startIdx:endIdx].text.to_list()\n",
    "    \n",
    "    responses = responses + openai.Engine(\"davinci\").search(documents=\\\n",
    "                trgts[startIdx:endIdx].text.to_list(), query=query)[\"data\"]\n",
    "    startIdx += 200\n",
    "    endIdx += 200\n",
    "    time.sleep(2)\n",
    "\n",
    "trgts[\"seach_sim\"] = [float(x[\"score\"]) for x in responses]\n",
    "\n",
    "cutoff_f1 = pd.DataFrame()\n",
    "for i in range(0, 700):\n",
    "    trgts[\"search_pos\"] = trgts[\"seach_sim\"].apply(lambda x: 1 if x > i else 0)\n",
    "    cutoff_f1.at[\"f1\", i] = f1_score(trgts.Tobacco[:1000], trgts.search_pos[:1000])\n",
    "\n",
    "cutoff = cutoff_f1.T.idxmax()[0]\n",
    "cutoff\n",
    "\n",
    "cutoff_f1_test = pd.DataFrame()\n",
    "for i in range(0, 700):\n",
    "    trgts[\"search_pos\"] = trgts[\"seach_sim\"].apply(lambda x: 1 if x > i else 0)\n",
    "    cutoff_f1_test.at[\"f1\", i] = f1_score(trgts.Tobacco[1000:], trgts.search_pos[1000:])\n",
    "\n",
    "ax = cutoff_f1.T.rename(columns={\"f1\":\"train\"}).plot()\n",
    "cutoff_f1_test.T.rename(columns={\"f1\":\"test\"}).plot(ax=ax)\n",
    "trgts.to_pickle(\"../{}.pkl\".format(query))\n",
    "cutoff_f1_test[cutoff]\n"
   ]
  },
  {
   "cell_type": "code",
   "execution_count": 254,
   "metadata": {},
   "outputs": [
    {
     "name": "stderr",
     "output_type": "stream",
     "text": [
      "/Library/anaconda3/lib/python3.7/site-packages/ipykernel_launcher.py:17: SettingWithCopyWarning: \n",
      "A value is trying to be set on a copy of a slice from a DataFrame.\n",
      "Try using .loc[row_indexer,col_indexer] = value instead\n",
      "\n",
      "See the caveats in the documentation: http://pandas.pydata.org/pandas-docs/stable/user_guide/indexing.html#returning-a-view-versus-a-copy\n",
      "/Library/anaconda3/lib/python3.7/site-packages/ipykernel_launcher.py:21: SettingWithCopyWarning: \n",
      "A value is trying to be set on a copy of a slice from a DataFrame.\n",
      "Try using .loc[row_indexer,col_indexer] = value instead\n",
      "\n",
      "See the caveats in the documentation: http://pandas.pydata.org/pandas-docs/stable/user_guide/indexing.html#returning-a-view-versus-a-copy\n",
      "/Library/anaconda3/lib/python3.7/site-packages/ipykernel_launcher.py:29: SettingWithCopyWarning: \n",
      "A value is trying to be set on a copy of a slice from a DataFrame.\n",
      "Try using .loc[row_indexer,col_indexer] = value instead\n",
      "\n",
      "See the caveats in the documentation: http://pandas.pydata.org/pandas-docs/stable/user_guide/indexing.html#returning-a-view-versus-a-copy\n"
     ]
    },
    {
     "data": {
      "text/plain": [
       "f1    0.214286\n",
       "Name: 134, dtype: float64"
      ]
     },
     "execution_count": 254,
     "metadata": {},
     "output_type": "execute_result"
    },
    {
     "data": {
      "image/png": "[encoded data removed]",
      "text/plain": [
       "<Figure size 432x288 with 1 Axes>"
      ]
     },
     "metadata": {
      "needs_background": "light"
     },
     "output_type": "display_data"
    }
   ],
   "source": [
    "responses = []\n",
    "trgts = df[:5000]\n",
    "startIdx = 0\n",
    "endIdx = 200\n",
    "\n",
    "query = \"referencing tobacco.\"\n",
    "\n",
    "while startIdx < len(trgts):\n",
    "    #responses = responses + trgts[startIdx:endIdx].text.to_list()\n",
    "    \n",
    "    responses = responses + openai.Engine(\"davinci\").search(documents=\\\n",
    "                trgts[startIdx:endIdx].text.to_list(), query=query)[\"data\"]\n",
    "    startIdx += 200\n",
    "    endIdx += 200\n",
    "    time.sleep(2)\n",
    "\n",
    "trgts[\"seach_sim\"] = [float(x[\"score\"]) for x in responses]\n",
    "\n",
    "cutoff_f1 = pd.DataFrame()\n",
    "for i in range(0, 700):\n",
    "    trgts[\"search_pos\"] = trgts[\"seach_sim\"].apply(lambda x: 1 if x > i else 0)\n",
    "    cutoff_f1.at[\"f1\", i] = f1_score(trgts.Tobacco[:1000], trgts.search_pos[:1000])\n",
    "\n",
    "cutoff = cutoff_f1.T.idxmax()[0]\n",
    "cutoff\n",
    "\n",
    "cutoff_f1_test = pd.DataFrame()\n",
    "for i in range(0, 700):\n",
    "    trgts[\"search_pos\"] = trgts[\"seach_sim\"].apply(lambda x: 1 if x > i else 0)\n",
    "    cutoff_f1_test.at[\"f1\", i] = f1_score(trgts.Tobacco[1000:], trgts.search_pos[1000:])\n",
    "\n",
    "ax = cutoff_f1.T.rename(columns={\"f1\":\"train\"}).plot()\n",
    "cutoff_f1_test.T.rename(columns={\"f1\":\"test\"}).plot(ax=ax)\n",
    "trgts.to_pickle(\"../{}.pkl\".format(query))\n",
    "cutoff_f1_test[cutoff]\n"
   ]
  },
  {
   "cell_type": "code",
   "execution_count": 255,
   "metadata": {},
   "outputs": [
    {
     "name": "stderr",
     "output_type": "stream",
     "text": [
      "/Library/anaconda3/lib/python3.7/site-packages/ipykernel_launcher.py:17: SettingWithCopyWarning: \n",
      "A value is trying to be set on a copy of a slice from a DataFrame.\n",
      "Try using .loc[row_indexer,col_indexer] = value instead\n",
      "\n",
      "See the caveats in the documentation: http://pandas.pydata.org/pandas-docs/stable/user_guide/indexing.html#returning-a-view-versus-a-copy\n",
      "/Library/anaconda3/lib/python3.7/site-packages/ipykernel_launcher.py:21: SettingWithCopyWarning: \n",
      "A value is trying to be set on a copy of a slice from a DataFrame.\n",
      "Try using .loc[row_indexer,col_indexer] = value instead\n",
      "\n",
      "See the caveats in the documentation: http://pandas.pydata.org/pandas-docs/stable/user_guide/indexing.html#returning-a-view-versus-a-copy\n",
      "/Library/anaconda3/lib/python3.7/site-packages/ipykernel_launcher.py:29: SettingWithCopyWarning: \n",
      "A value is trying to be set on a copy of a slice from a DataFrame.\n",
      "Try using .loc[row_indexer,col_indexer] = value instead\n",
      "\n",
      "See the caveats in the documentation: http://pandas.pydata.org/pandas-docs/stable/user_guide/indexing.html#returning-a-view-versus-a-copy\n"
     ]
    },
    {
     "data": {
      "text/plain": [
       "f1    0.434783\n",
       "Name: 251, dtype: float64"
      ]
     },
     "execution_count": 255,
     "metadata": {},
     "output_type": "execute_result"
    },
    {
     "data": {
      "image/png": "[encoded data removed]",
      "text/plain": [
       "<Figure size 432x288 with 1 Axes>"
      ]
     },
     "metadata": {
      "needs_background": "light"
     },
     "output_type": "display_data"
    }
   ],
   "source": [
    "responses = []\n",
    "trgts = df[:5000]\n",
    "startIdx = 0\n",
    "endIdx = 200\n",
    "\n",
    "query = \"referencing tobacco\"\n",
    "\n",
    "while startIdx < len(trgts):\n",
    "    #responses = responses + trgts[startIdx:endIdx].text.to_list()\n",
    "    \n",
    "    responses = responses + openai.Engine(\"davinci\").search(documents=\\\n",
    "                trgts[startIdx:endIdx].text.to_list(), query=query)[\"data\"]\n",
    "    startIdx += 200\n",
    "    endIdx += 200\n",
    "    time.sleep(2)\n",
    "\n",
    "trgts[\"seach_sim\"] = [float(x[\"score\"]) for x in responses]\n",
    "\n",
    "cutoff_f1 = pd.DataFrame()\n",
    "for i in range(0, 700):\n",
    "    trgts[\"search_pos\"] = trgts[\"seach_sim\"].apply(lambda x: 1 if x > i else 0)\n",
    "    cutoff_f1.at[\"f1\", i] = f1_score(trgts.Tobacco[:1000], trgts.search_pos[:1000])\n",
    "\n",
    "cutoff = cutoff_f1.T.idxmax()[0]\n",
    "cutoff\n",
    "\n",
    "cutoff_f1_test = pd.DataFrame()\n",
    "for i in range(0, 700):\n",
    "    trgts[\"search_pos\"] = trgts[\"seach_sim\"].apply(lambda x: 1 if x > i else 0)\n",
    "    cutoff_f1_test.at[\"f1\", i] = f1_score(trgts.Tobacco[1000:], trgts.search_pos[1000:])\n",
    "\n",
    "ax = cutoff_f1.T.rename(columns={\"f1\":\"train\"}).plot()\n",
    "cutoff_f1_test.T.rename(columns={\"f1\":\"test\"}).plot(ax=ax)\n",
    "trgts.to_pickle(\"../{}.pkl\".format(query))\n",
    "cutoff_f1_test[cutoff]\n"
   ]
  },
  {
   "cell_type": "code",
   "execution_count": 251,
   "metadata": {},
   "outputs": [
    {
     "name": "stderr",
     "output_type": "stream",
     "text": [
      "/Library/anaconda3/lib/python3.7/site-packages/ipykernel_launcher.py:17: SettingWithCopyWarning: \n",
      "A value is trying to be set on a copy of a slice from a DataFrame.\n",
      "Try using .loc[row_indexer,col_indexer] = value instead\n",
      "\n",
      "See the caveats in the documentation: http://pandas.pydata.org/pandas-docs/stable/user_guide/indexing.html#returning-a-view-versus-a-copy\n",
      "/Library/anaconda3/lib/python3.7/site-packages/ipykernel_launcher.py:21: SettingWithCopyWarning: \n",
      "A value is trying to be set on a copy of a slice from a DataFrame.\n",
      "Try using .loc[row_indexer,col_indexer] = value instead\n",
      "\n",
      "See the caveats in the documentation: http://pandas.pydata.org/pandas-docs/stable/user_guide/indexing.html#returning-a-view-versus-a-copy\n",
      "/Library/anaconda3/lib/python3.7/site-packages/ipykernel_launcher.py:29: SettingWithCopyWarning: \n",
      "A value is trying to be set on a copy of a slice from a DataFrame.\n",
      "Try using .loc[row_indexer,col_indexer] = value instead\n",
      "\n",
      "See the caveats in the documentation: http://pandas.pydata.org/pandas-docs/stable/user_guide/indexing.html#returning-a-view-versus-a-copy\n"
     ]
    },
    {
     "data": {
      "text/plain": [
       "f1    0.272727\n",
       "Name: 85, dtype: float64"
      ]
     },
     "execution_count": 251,
     "metadata": {},
     "output_type": "execute_result"
    },
    {
     "data": {
      "image/png": "[encoded data removed]",
      "text/plain": [
       "<Figure size 432x288 with 1 Axes>"
      ]
     },
     "metadata": {
      "needs_background": "light"
     },
     "output_type": "display_data"
    }
   ],
   "source": [
    "responses = []\n",
    "trgts = df[:5000]\n",
    "startIdx = 0\n",
    "endIdx = 200\n",
    "\n",
    "query = \"cigarettes, dip, or cigars\"\n",
    "\n",
    "while startIdx < len(trgts):\n",
    "    #responses = responses + trgts[startIdx:endIdx].text.to_list()\n",
    "    \n",
    "    responses = responses + openai.Engine(\"davinci\").search(documents=\\\n",
    "                trgts[startIdx:endIdx].text.to_list(), query=query)[\"data\"]\n",
    "    startIdx += 200\n",
    "    endIdx += 200\n",
    "    time.sleep(2)\n",
    "\n",
    "trgts[\"seach_sim\"] = [float(x[\"score\"]) for x in responses]\n",
    "\n",
    "cutoff_f1 = pd.DataFrame()\n",
    "for i in range(0, 700):\n",
    "    trgts[\"search_pos\"] = trgts[\"seach_sim\"].apply(lambda x: 1 if x > i else 0)\n",
    "    cutoff_f1.at[\"f1\", i] = f1_score(trgts.Tobacco[:1000], trgts.search_pos[:1000])\n",
    "\n",
    "cutoff = cutoff_f1.T.idxmax()[0]\n",
    "cutoff\n",
    "\n",
    "cutoff_f1_test = pd.DataFrame()\n",
    "for i in range(0, 700):\n",
    "    trgts[\"search_pos\"] = trgts[\"seach_sim\"].apply(lambda x: 1 if x > i else 0)\n",
    "    cutoff_f1_test.at[\"f1\", i] = f1_score(trgts.Tobacco[1000:], trgts.search_pos[1000:])\n",
    "\n",
    "ax = cutoff_f1.T.rename(columns={\"f1\":\"train\"}).plot()\n",
    "cutoff_f1_test.T.rename(columns={\"f1\":\"test\"}).plot(ax=ax)\n",
    "trgts.to_pickle(\"../{}.pkl\".format(query))\n",
    "cutoff_f1_test[cutoff]\n"
   ]
  },
  {
   "cell_type": "code",
   "execution_count": 243,
   "metadata": {},
   "outputs": [
    {
     "name": "stderr",
     "output_type": "stream",
     "text": [
      "/Library/anaconda3/lib/python3.7/site-packages/ipykernel_launcher.py:17: SettingWithCopyWarning: \n",
      "A value is trying to be set on a copy of a slice from a DataFrame.\n",
      "Try using .loc[row_indexer,col_indexer] = value instead\n",
      "\n",
      "See the caveats in the documentation: http://pandas.pydata.org/pandas-docs/stable/user_guide/indexing.html#returning-a-view-versus-a-copy\n",
      "/Library/anaconda3/lib/python3.7/site-packages/ipykernel_launcher.py:21: SettingWithCopyWarning: \n",
      "A value is trying to be set on a copy of a slice from a DataFrame.\n",
      "Try using .loc[row_indexer,col_indexer] = value instead\n",
      "\n",
      "See the caveats in the documentation: http://pandas.pydata.org/pandas-docs/stable/user_guide/indexing.html#returning-a-view-versus-a-copy\n",
      "/Library/anaconda3/lib/python3.7/site-packages/ipykernel_launcher.py:29: SettingWithCopyWarning: \n",
      "A value is trying to be set on a copy of a slice from a DataFrame.\n",
      "Try using .loc[row_indexer,col_indexer] = value instead\n",
      "\n",
      "See the caveats in the documentation: http://pandas.pydata.org/pandas-docs/stable/user_guide/indexing.html#returning-a-view-versus-a-copy\n"
     ]
    },
    {
     "data": {
      "text/plain": [
       "f1    0.001042\n",
       "Name: 0, dtype: float64"
      ]
     },
     "execution_count": 243,
     "metadata": {},
     "output_type": "execute_result"
    },
    {
     "data": {
      "image/png": "[encoded data removed]",
      "text/plain": [
       "<Figure size 432x288 with 1 Axes>"
      ]
     },
     "metadata": {
      "needs_background": "light"
     },
     "output_type": "display_data"
    }
   ],
   "source": [
    "responses = []\n",
    "trgts = df[:5000]\n",
    "startIdx = 0\n",
    "endIdx = 200\n",
    "\n",
    "query = \"Vaping\"\n",
    "\n",
    "while startIdx < len(trgts):\n",
    "    #responses = responses + trgts[startIdx:endIdx].text.to_list()\n",
    "    \n",
    "    responses = responses + openai.Engine(\"davinci\").search(documents=\\\n",
    "                trgts[startIdx:endIdx].text.to_list(), query=query)[\"data\"]\n",
    "    startIdx += 200\n",
    "    endIdx += 200\n",
    "    time.sleep(2)\n",
    "\n",
    "trgts[\"seach_sim\"] = [float(x[\"score\"]) for x in responses]\n",
    "\n",
    "cutoff_f1 = pd.DataFrame()\n",
    "for i in range(0, 700):\n",
    "    trgts[\"search_pos\"] = trgts[\"seach_sim\"].apply(lambda x: 1 if x > i else 0)\n",
    "    cutoff_f1.at[\"f1\", i] = f1_score(trgts.Vaping[:1000], trgts.search_pos[:1000])\n",
    "\n",
    "cutoff = cutoff_f1.T.idxmax()[0]\n",
    "cutoff\n",
    "\n",
    "cutoff_f1_test = pd.DataFrame()\n",
    "for i in range(0, 700):\n",
    "    trgts[\"search_pos\"] = trgts[\"seach_sim\"].apply(lambda x: 1 if x > i else 0)\n",
    "    cutoff_f1_test.at[\"f1\", i] = f1_score(trgts.Vaping[1000:], trgts.search_pos[1000:])\n",
    "\n",
    "ax = cutoff_f1.T.rename(columns={\"f1\":\"train\"}).plot()\n",
    "cutoff_f1_test.T.rename(columns={\"f1\":\"test\"}).plot(ax=ax)\n",
    "\n",
    "trgts.to_pickle(\"../{}.pkl\".format(query))\n",
    "cutoff_f1_test[cutoff]\n"
   ]
  },
  {
   "cell_type": "code",
   "execution_count": 244,
   "metadata": {},
   "outputs": [
    {
     "name": "stderr",
     "output_type": "stream",
     "text": [
      "/Library/anaconda3/lib/python3.7/site-packages/ipykernel_launcher.py:17: SettingWithCopyWarning: \n",
      "A value is trying to be set on a copy of a slice from a DataFrame.\n",
      "Try using .loc[row_indexer,col_indexer] = value instead\n",
      "\n",
      "See the caveats in the documentation: http://pandas.pydata.org/pandas-docs/stable/user_guide/indexing.html#returning-a-view-versus-a-copy\n",
      "/Library/anaconda3/lib/python3.7/site-packages/ipykernel_launcher.py:21: SettingWithCopyWarning: \n",
      "A value is trying to be set on a copy of a slice from a DataFrame.\n",
      "Try using .loc[row_indexer,col_indexer] = value instead\n",
      "\n",
      "See the caveats in the documentation: http://pandas.pydata.org/pandas-docs/stable/user_guide/indexing.html#returning-a-view-versus-a-copy\n",
      "/Library/anaconda3/lib/python3.7/site-packages/ipykernel_launcher.py:29: SettingWithCopyWarning: \n",
      "A value is trying to be set on a copy of a slice from a DataFrame.\n",
      "Try using .loc[row_indexer,col_indexer] = value instead\n",
      "\n",
      "See the caveats in the documentation: http://pandas.pydata.org/pandas-docs/stable/user_guide/indexing.html#returning-a-view-versus-a-copy\n"
     ]
    },
    {
     "data": {
      "text/plain": [
       "f1    0.780083\n",
       "Name: 376, dtype: float64"
      ]
     },
     "execution_count": 244,
     "metadata": {},
     "output_type": "execute_result"
    },
    {
     "data": {
      "image/png": "[encoded data removed]",
      "text/plain": [
       "<Figure size 432x288 with 1 Axes>"
      ]
     },
     "metadata": {
      "needs_background": "light"
     },
     "output_type": "display_data"
    }
   ],
   "source": [
    "responses = []\n",
    "trgts = df[:5000]\n",
    "startIdx = 0\n",
    "endIdx = 200\n",
    "\n",
    "query = \"Marijuana\"\n",
    "\n",
    "while startIdx < len(trgts):\n",
    "    #responses = responses + trgts[startIdx:endIdx].text.to_list()\n",
    "    \n",
    "    responses = responses + openai.Engine(\"davinci\").search(documents=\\\n",
    "                trgts[startIdx:endIdx].text.to_list(), query=query)[\"data\"]\n",
    "    startIdx += 200\n",
    "    endIdx += 200\n",
    "    time.sleep(2)\n",
    "\n",
    "trgts[\"seach_sim\"] = [float(x[\"score\"]) for x in responses]\n",
    "\n",
    "cutoff_f1 = pd.DataFrame()\n",
    "for i in range(0, 700):\n",
    "    trgts[\"search_pos\"] = trgts[\"seach_sim\"].apply(lambda x: 1 if x > i else 0)\n",
    "    cutoff_f1.at[\"f1\", i] = f1_score(trgts.Marijuana[:1000], trgts.search_pos[:1000])\n",
    "\n",
    "cutoff = cutoff_f1.T.idxmax()[0]\n",
    "cutoff\n",
    "\n",
    "cutoff_f1_test = pd.DataFrame()\n",
    "for i in range(0, 700):\n",
    "    trgts[\"search_pos\"] = trgts[\"seach_sim\"].apply(lambda x: 1 if x > i else 0)\n",
    "    cutoff_f1_test.at[\"f1\", i] = f1_score(trgts.Marijuana[1000:], trgts.search_pos[1000:])\n",
    "\n",
    "ax = cutoff_f1.T.rename(columns={\"f1\":\"train\"}).plot()\n",
    "cutoff_f1_test.T.rename(columns={\"f1\":\"test\"}).plot(ax=ax)\n",
    "\n",
    "trgts.to_pickle(\"../{}.pkl\".format(query))\n",
    "cutoff_f1_test[cutoff]\n"
   ]
  },
  {
   "cell_type": "code",
   "execution_count": 245,
   "metadata": {},
   "outputs": [
    {
     "name": "stderr",
     "output_type": "stream",
     "text": [
      "/Library/anaconda3/lib/python3.7/site-packages/ipykernel_launcher.py:17: SettingWithCopyWarning: \n",
      "A value is trying to be set on a copy of a slice from a DataFrame.\n",
      "Try using .loc[row_indexer,col_indexer] = value instead\n",
      "\n",
      "See the caveats in the documentation: http://pandas.pydata.org/pandas-docs/stable/user_guide/indexing.html#returning-a-view-versus-a-copy\n",
      "/Library/anaconda3/lib/python3.7/site-packages/ipykernel_launcher.py:21: SettingWithCopyWarning: \n",
      "A value is trying to be set on a copy of a slice from a DataFrame.\n",
      "Try using .loc[row_indexer,col_indexer] = value instead\n",
      "\n",
      "See the caveats in the documentation: http://pandas.pydata.org/pandas-docs/stable/user_guide/indexing.html#returning-a-view-versus-a-copy\n",
      "/Library/anaconda3/lib/python3.7/site-packages/ipykernel_launcher.py:29: SettingWithCopyWarning: \n",
      "A value is trying to be set on a copy of a slice from a DataFrame.\n",
      "Try using .loc[row_indexer,col_indexer] = value instead\n",
      "\n",
      "See the caveats in the documentation: http://pandas.pydata.org/pandas-docs/stable/user_guide/indexing.html#returning-a-view-versus-a-copy\n"
     ]
    },
    {
     "data": {
      "text/plain": [
       "f1    0.262295\n",
       "Name: 300, dtype: float64"
      ]
     },
     "execution_count": 245,
     "metadata": {},
     "output_type": "execute_result"
    },
    {
     "data": {
      "image/png": "[encoded data removed]",
      "text/plain": [
       "<Figure size 432x288 with 1 Axes>"
      ]
     },
     "metadata": {
      "needs_background": "light"
     },
     "output_type": "display_data"
    }
   ],
   "source": [
    "responses = []\n",
    "trgts = df[:5000]\n",
    "startIdx = 0\n",
    "endIdx = 200\n",
    "\n",
    "query = \"Illegal drugs\"\n",
    "\n",
    "while startIdx < len(trgts):\n",
    "    #responses = responses + trgts[startIdx:endIdx].text.to_list()\n",
    "    \n",
    "    responses = responses + openai.Engine(\"davinci\").search(documents=\\\n",
    "                trgts[startIdx:endIdx].text.to_list(), query=query)[\"data\"]\n",
    "    startIdx += 200\n",
    "    endIdx += 200\n",
    "    time.sleep(2)\n",
    "\n",
    "trgts[\"seach_sim\"] = [float(x[\"score\"]) for x in responses]\n",
    "\n",
    "cutoff_f1 = pd.DataFrame()\n",
    "for i in range(0, 700):\n",
    "    trgts[\"search_pos\"] = trgts[\"seach_sim\"].apply(lambda x: 1 if x > i else 0)\n",
    "    cutoff_f1.at[\"f1\", i] = f1_score(trgts[\"Illegal drugs\"][:1000], trgts.search_pos[:1000])\n",
    "\n",
    "cutoff = cutoff_f1.T.idxmax()[0]\n",
    "cutoff\n",
    "\n",
    "cutoff_f1_test = pd.DataFrame()\n",
    "for i in range(0, 700):\n",
    "    trgts[\"search_pos\"] = trgts[\"seach_sim\"].apply(lambda x: 1 if x > i else 0)\n",
    "    cutoff_f1_test.at[\"f1\", i] = f1_score(trgts[\"Illegal drugs\"][1000:], trgts.search_pos[1000:])\n",
    "\n",
    "ax = cutoff_f1.T.rename(columns={\"f1\":\"train\"}).plot()\n",
    "cutoff_f1_test.T.rename(columns={\"f1\":\"test\"}).plot(ax=ax)\n",
    "\n",
    "trgts.to_pickle(\"../{}.pkl\".format(query))\n",
    "cutoff_f1_test[cutoff]\n"
   ]
  },
  {
   "cell_type": "code",
   "execution_count": 246,
   "metadata": {},
   "outputs": [
    {
     "name": "stderr",
     "output_type": "stream",
     "text": [
      "/Library/anaconda3/lib/python3.7/site-packages/ipykernel_launcher.py:17: SettingWithCopyWarning: \n",
      "A value is trying to be set on a copy of a slice from a DataFrame.\n",
      "Try using .loc[row_indexer,col_indexer] = value instead\n",
      "\n",
      "See the caveats in the documentation: http://pandas.pydata.org/pandas-docs/stable/user_guide/indexing.html#returning-a-view-versus-a-copy\n",
      "/Library/anaconda3/lib/python3.7/site-packages/ipykernel_launcher.py:21: SettingWithCopyWarning: \n",
      "A value is trying to be set on a copy of a slice from a DataFrame.\n",
      "Try using .loc[row_indexer,col_indexer] = value instead\n",
      "\n",
      "See the caveats in the documentation: http://pandas.pydata.org/pandas-docs/stable/user_guide/indexing.html#returning-a-view-versus-a-copy\n",
      "/Library/anaconda3/lib/python3.7/site-packages/ipykernel_launcher.py:29: SettingWithCopyWarning: \n",
      "A value is trying to be set on a copy of a slice from a DataFrame.\n",
      "Try using .loc[row_indexer,col_indexer] = value instead\n",
      "\n",
      "See the caveats in the documentation: http://pandas.pydata.org/pandas-docs/stable/user_guide/indexing.html#returning-a-view-versus-a-copy\n"
     ]
    },
    {
     "data": {
      "text/plain": [
       "f1    0.229508\n",
       "Name: 112, dtype: float64"
      ]
     },
     "execution_count": 246,
     "metadata": {},
     "output_type": "execute_result"
    },
    {
     "data": {
      "image/png": "[encoded data removed]",
      "text/plain": [
       "<Figure size 432x288 with 1 Axes>"
      ]
     },
     "metadata": {
      "needs_background": "light"
     },
     "output_type": "display_data"
    }
   ],
   "source": [
    "responses = []\n",
    "trgts = df[:5000]\n",
    "startIdx = 0\n",
    "endIdx = 200\n",
    "\n",
    "query = \"Prescription drugs\"\n",
    "\n",
    "while startIdx < len(trgts):\n",
    "    #responses = responses + trgts[startIdx:endIdx].text.to_list()\n",
    "    \n",
    "    responses = responses + openai.Engine(\"davinci\").search(documents=\\\n",
    "                trgts[startIdx:endIdx].text.to_list(), query=query)[\"data\"]\n",
    "    startIdx += 200\n",
    "    endIdx += 200\n",
    "    time.sleep(2)\n",
    "\n",
    "trgts[\"seach_sim\"] = [float(x[\"score\"]) for x in responses]\n",
    "\n",
    "cutoff_f1 = pd.DataFrame()\n",
    "for i in range(0, 700):\n",
    "    trgts[\"search_pos\"] = trgts[\"seach_sim\"].apply(lambda x: 1 if x > i else 0)\n",
    "    cutoff_f1.at[\"f1\", i] = f1_score(trgts[\"Prescription drugs\"][:1000], trgts.search_pos[:1000])\n",
    "\n",
    "cutoff = cutoff_f1.T.idxmax()[0]\n",
    "cutoff\n",
    "\n",
    "cutoff_f1_test = pd.DataFrame()\n",
    "for i in range(0, 700):\n",
    "    trgts[\"search_pos\"] = trgts[\"seach_sim\"].apply(lambda x: 1 if x > i else 0)\n",
    "    cutoff_f1_test.at[\"f1\", i] = f1_score(trgts[\"Prescription drugs\"][1000:], trgts.search_pos[1000:])\n",
    "\n",
    "ax = cutoff_f1.T.rename(columns={\"f1\":\"train\"}).plot()\n",
    "cutoff_f1_test.T.rename(columns={\"f1\":\"test\"}).plot(ax=ax)\n",
    "\n",
    "trgts.to_pickle(\"../{}.pkl\".format(query))\n",
    "cutoff_f1_test[cutoff]\n"
   ]
  },
  {
   "cell_type": "code",
   "execution_count": null,
   "metadata": {},
   "outputs": [],
   "source": []
  },
  {
   "cell_type": "code",
   "execution_count": null,
   "metadata": {},
   "outputs": [],
   "source": []
  },
  {
   "cell_type": "code",
   "execution_count": null,
   "metadata": {},
   "outputs": [],
   "source": []
  },
  {
   "cell_type": "code",
   "execution_count": null,
   "metadata": {},
   "outputs": [],
   "source": []
  }
 ],
 "metadata": {
  "kernelspec": {
   "display_name": "Python 3",
   "language": "python",
   "name": "python3"
  },
  "language_info": {
   "codemirror_mode": {
    "name": "ipython",
    "version": 3
   },
   "file_extension": ".py",
   "mimetype": "text/x-python",
   "name": "python",
   "nbconvert_exporter": "python",
   "pygments_lexer": "ipython3",
   "version": "3.7.4"
  }
 },
 "nbformat": 4,
 "nbformat_minor": 2
}
