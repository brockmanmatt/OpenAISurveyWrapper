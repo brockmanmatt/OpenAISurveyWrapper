{
 "cells": [
  {
   "cell_type": "markdown",
   "metadata": {},
   "source": [
    "# OpenAI Survey Wrapper\n",
    "\n",
    "> wrapper to label survey respones and test accuracy"
   ]
  },
  {
   "cell_type": "markdown",
   "metadata": {},
   "source": [
    "## Install"
   ]
  },
  {
   "cell_type": "markdown",
   "metadata": {},
   "source": [
    "`pip install OpenAISurveyWrapper`"
   ]
  },
  {
   "cell_type": "markdown",
   "metadata": {},
   "source": [
    "## How to use"
   ]
  },
  {
   "cell_type": "markdown",
   "metadata": {},
   "source": [
    "Fill me in please! Don't forget code examples:"
   ]
  },
  {
   "cell_type": "code",
   "execution_count": 10,
   "metadata": {},
   "outputs": [
    {
     "name": "stdout",
     "output_type": "stream",
     "text": [
      "in progress\n"
     ]
    }
   ],
   "source": [
    "print(\"in progress\")"
   ]
  },
  {
   "cell_type": "markdown",
   "metadata": {},
   "source": [
    "## Create and Add Key"
   ]
  },
  {
   "cell_type": "code",
   "execution_count": 11,
   "metadata": {},
   "outputs": [],
   "source": [
    "from OpenAISurveyWrapper.survey import survey\n",
    "import json, pandas as pd"
   ]
  },
  {
   "cell_type": "code",
   "execution_count": 12,
   "metadata": {},
   "outputs": [],
   "source": [
    "tmp = survey()\n",
    "tmp.add_key(json.load(open(\"../gpt3/key.json\", \"r\"))[\"key\"])"
   ]
  },
  {
   "cell_type": "code",
   "execution_count": 13,
   "metadata": {},
   "outputs": [],
   "source": [
    "term = \"Federal Budget\"\n",
    "definition=\"refers to mentions of how the federal government budgets and spends its money.\"\n",
    "tmp.addDefinition(term, definition)"
   ]
  },
  {
   "cell_type": "code",
   "execution_count": 14,
   "metadata": {},
   "outputs": [
    {
     "data": {
      "text/html": [
       "<div>\n",
       "<style scoped>\n",
       "    .dataframe tbody tr th:only-of-type {\n",
       "        vertical-align: middle;\n",
       "    }\n",
       "\n",
       "    .dataframe tbody tr th {\n",
       "        vertical-align: top;\n",
       "    }\n",
       "\n",
       "    .dataframe thead th {\n",
       "        text-align: right;\n",
       "    }\n",
       "</style>\n",
       "<table border=\"1\" class=\"dataframe\">\n",
       "  <thead>\n",
       "    <tr style=\"text-align: right;\">\n",
       "      <th></th>\n",
       "      <th>text</th>\n",
       "      <th>type</th>\n",
       "      <th>classification</th>\n",
       "    </tr>\n",
       "  </thead>\n",
       "  <tbody>\n",
       "    <tr>\n",
       "      <td>0</td>\n",
       "      <td>Abortions</td>\n",
       "      <td>survey</td>\n",
       "      <td>abortion</td>\n",
       "    </tr>\n",
       "    <tr>\n",
       "      <td>1</td>\n",
       "      <td>they shouldnt be stopping women from getting a...</td>\n",
       "      <td>survey</td>\n",
       "      <td>abortion</td>\n",
       "    </tr>\n",
       "    <tr>\n",
       "      <td>2</td>\n",
       "      <td>religion trying to control people either with ...</td>\n",
       "      <td>survey</td>\n",
       "      <td>abortion</td>\n",
       "    </tr>\n",
       "    <tr>\n",
       "      <td>3</td>\n",
       "      <td>abortion</td>\n",
       "      <td>survey</td>\n",
       "      <td>abortion</td>\n",
       "    </tr>\n",
       "    <tr>\n",
       "      <td>4</td>\n",
       "      <td>Protecting abortion access and the Roe v Wade ...</td>\n",
       "      <td>survey</td>\n",
       "      <td>abortion</td>\n",
       "    </tr>\n",
       "  </tbody>\n",
       "</table>\n",
       "</div>"
      ],
      "text/plain": [
       "                                                text    type classification\n",
       "0                                          Abortions  survey       abortion\n",
       "1  they shouldnt be stopping women from getting a...  survey       abortion\n",
       "2  religion trying to control people either with ...  survey       abortion\n",
       "3                                           abortion  survey       abortion\n",
       "4  Protecting abortion access and the Roe v Wade ...  survey       abortion"
      ]
     },
     "execution_count": 14,
     "metadata": {},
     "output_type": "execute_result"
    }
   ],
   "source": [
    "df = pd.read_excel(\"../combinedata.forml.xlsx\")\n",
    "df.head()"
   ]
  },
  {
   "cell_type": "code",
   "execution_count": 17,
   "metadata": {},
   "outputs": [],
   "source": [
    "tmp.loadExamplesFromDataFrame(df[[\"text\", \"classification\"]].fillna(\"\"))"
   ]
  },
  {
   "cell_type": "code",
   "execution_count": 18,
   "metadata": {},
   "outputs": [
    {
     "name": "stdout",
     "output_type": "stream",
     "text": [
      "A post is about Federal Budget if it refers to mentions of how the federal government budgets and spends its money. Consider the following post:\n",
      "post: \"{}\"\n",
      "q: Does this post primarily about Federal Budget (yes or no)?\n",
      "a:\n",
      "before\n",
      "{'prompt': 'A post is about Federal Budget if it refers to mentions of how the federal government budgets and spends its money. Consider the following post:\\npost: \"Norwegians on social media also questioned the attractiveness of immigrating to a country without free health care, paid parental leave or gun control.  “I’m a Norwegian who enjoyed studying & working in the US. The only thing that would attract me to emigrate to the US is your vibrant multicultural society. Don’t take that away.” -Jan Egeland, the head of the Norwegian Regugee Council. [The Washington Post]\"\\nq: Does this post primarily about Federal Budget (yes or no)?\\na:', 'engine': 'davinci', 'temperature': 0, 'max_tokens': 10, 'stop': '\\n'}\n",
      " yes\n",
      "{'prompt': 'A post is about Federal Budget if it refers to mentions of how the federal government budgets and spends its money. Consider the following post:\\npost: \"Aha!  Another Swamp Man feeding at the public trough while so many of our Veterans are homeless and suffering from disabilities resulting from their Service to this country. \"\\nq: Does this post primarily about Federal Budget (yes or no)?\\na:', 'engine': 'davinci', 'temperature': 0, 'max_tokens': 10, 'stop': '\\n'}\n",
      " Yes\n",
      "{'prompt': 'A post is about Federal Budget if it refers to mentions of how the federal government budgets and spends its money. Consider the following post:\\npost: \"rising inflation\"\\nq: Does this post primarily about Federal Budget (yes or no)?\\na:', 'engine': 'davinci', 'temperature': 0, 'max_tokens': 10, 'stop': '\\n'}\n",
      " yes\n",
      "{'prompt': 'A post is about Federal Budget if it refers to mentions of how the federal government budgets and spends its money. Consider the following post:\\npost: \"It is terrible to see protesters in the face of conservative legislatures, but it is just as bad to see protesters from the other side of the philosophical isle  show extremely bad taste in expressing their discontent. These folks , no matter their political persuasion are trash and do not help constructively in the ongoing national discourse.  ---  \"\\nq: Does this post primarily about Federal Budget (yes or no)?\\na:', 'engine': 'davinci', 'temperature': 0, 'max_tokens': 10, 'stop': '\\n'}\n",
      " Yes\n",
      "{'prompt': 'A post is about Federal Budget if it refers to mentions of how the federal government budgets and spends its money. Consider the following post:\\npost: \"27 Pediatricians were just fired from a Dallas medical facility and replaced with mid-levels. We have to do something. This has to stop. The rest is copied from Dr. Falcon’s page.   The trend of having employed physicians just “sign off” on mid level charts without allowing them to ACTUALLY supervise them is pervasive now, with the push for “cheaper” care by many hospitals without concern for patient safety.     They want to use our liability so when something goes wrong, they can blame a person who wasn’t even there and didn’t even get to teach/provide care Bc it’s not time or cost efficient.     MEDICINE is not ABOUT MONEY.  It’s about taking care of patients.  A mid level with two days training has no business taking care of patients independently-  a first year medical student is about as qualified.   That doesn’t inspire confidence, does it?    What can you do?  Always ask who is providing your care.  What are their credentials?  Is their supervising physician (if they have one) even on site for consultations??   Ask at every Clinic and Hospital you go to.  If they say no, ask to see a physician.  And if the answer is no, LEAVE.   And make sure you leave a review or comment to the facility as to why.    What can we doctors do? Refuse to participate in this sham that medicine has become.  Do not work for a company that requires you to blindly sign off on mid level charts for patients you’ve never met.  Yes, there will be consequences, until we stand together.  (Anyone see\"\\nq: Does this post primarily about Federal Budget (yes or no)?\\na:', 'engine': 'davinci', 'temperature': 0, 'max_tokens': 10, 'stop': '\\n'}\n",
      " No\n",
      "{'prompt': 'A post is about Federal Budget if it refers to mentions of how the federal government budgets and spends its money. Consider the following post:\\npost: \"consumers\"\\nq: Does this post primarily about Federal Budget (yes or no)?\\na:', 'engine': 'davinci', 'temperature': 0, 'max_tokens': 10, 'stop': '\\n'}\n",
      " yes\n",
      "{'prompt': 'A post is about Federal Budget if it refers to mentions of how the federal government budgets and spends its money. Consider the following post:\\npost: \"Why are people obsessed with tossing out the baby with the bathwater?  ICE is broken.  Get rid of it.  Obamacare doesn\\'t work.  Get rid of it.  Medicaid doesn\\'t work.  Get rid of it.  Medicare isn\\'t perfect.  Ditch it.  Congress is broken.  Very broken.  Get rid of it.  If your children disappoint you, do you toss them out of your life for good?  Or does common sense prevail with you steering them in the right direction?  Why can\\'t we take a broken program that started with good intentions, and concentrate on making things right?  Go back to the original plans, view the intent, and make the program work for the country.\"\\nq: Does this post primarily about Federal Budget (yes or no)?\\na:', 'engine': 'davinci', 'temperature': 0, 'max_tokens': 10, 'stop': '\\n'}\n",
      " No.\n",
      "{'prompt': 'A post is about Federal Budget if it refers to mentions of how the federal government budgets and spends its money. Consider the following post:\\npost: \"Got my tragus done today.\"\\nq: Does this post primarily about Federal Budget (yes or no)?\\na:', 'engine': 'davinci', 'temperature': 0, 'max_tokens': 10, 'stop': '\\n'}\n",
      " No.\n",
      "{'prompt': 'A post is about Federal Budget if it refers to mentions of how the federal government budgets and spends its money. Consider the following post:\\npost: \"The war on guns -- 2nd amendment issues \"\\nq: Does this post primarily about Federal Budget (yes or no)?\\na:', 'engine': 'davinci', 'temperature': 0, 'max_tokens': 10, 'stop': '\\n'}\n",
      " yes\n",
      "{'prompt': 'A post is about Federal Budget if it refers to mentions of how the federal government budgets and spends its money. Consider the following post:\\npost: \"the pee pee tape and what Putin has on Dump\"\\nq: Does this post primarily about Federal Budget (yes or no)?\\na:', 'engine': 'davinci', 'temperature': 0, 'max_tokens': 10, 'stop': '\\n'}\n",
      " No\n",
      "{'prompt': 'A post is about Federal Budget if it refers to mentions of how the federal government budgets and spends its money. Consider the following post:\\npost: \"Good Sunday morning FB family and friends. Mass this morning then some grocery shopping for much needed items Dylan did not do well in his first two matches but I pray he does not get discouraged. There are over 5100 wrestlers from all over the US. It is such an honor just to have been selected. Daniel has arrived in PA for his wrestling camp. Pray for his safety. But first let us begin our day with prayers for our little group in need of them: John, Alex, Charles, Paul, Don, Mike, Brandon, Buddy, Roch, Fred, Amy, Bridget, Beverly(2), Alex, Sarah Grace, Valerie(2), Jeanette, Kelly, Katie, Cindy &John, my friends in A\\'ville, TX, Lafayette, and myself. Marie mixed some oils together and brought them to me yesterday. Seems to have helped with swelling and stiffness. Please, God, shower our group with your healing graces. Pray also for world peace and a positive change in the attitude of our society. July 15, 2018 You\\'ll find when you smile, your day will be brighter and all of your burdens will seem so much lighter. HSR Praise be the Lord, our God our Savior, who daily bears our burdens. Psalm 68:19 This is a day to smile. I have been telling all of you everyday is a day to smile. Whoever smiles often, often brightens the day and lightens the burden. Go out into your little corner of the world and smile. Be kind, patient, forgiving, loving, happy, grateful and prayerful. Have a super good Sunday.\"\\nq: Does this post primarily about Federal Budget (yes or no)?\\na:', 'engine': 'davinci', 'temperature': 0, 'max_tokens': 10, 'stop': '\\n'}\n"
     ]
    },
    {
     "name": "stdout",
     "output_type": "stream",
     "text": [
      " No\n",
      "{'prompt': 'A post is about Federal Budget if it refers to mentions of how the federal government budgets and spends its money. Consider the following post:\\npost: \"the division between people that has increased tremendously under Trump.\"\\nq: Does this post primarily about Federal Budget (yes or no)?\\na:', 'engine': 'davinci', 'temperature': 0, 'max_tokens': 10, 'stop': '\\n'}\n",
      " yes\n",
      "{'prompt': 'A post is about Federal Budget if it refers to mentions of how the federal government budgets and spends its money. Consider the following post:\\npost: \"Classic windmill, Dutch countryside\"\\nq: Does this post primarily about Federal Budget (yes or no)?\\na:', 'engine': 'davinci', 'temperature': 0, 'max_tokens': 10, 'stop': '\\n'}\n",
      " No\n",
      "{'prompt': 'A post is about Federal Budget if it refers to mentions of how the federal government budgets and spends its money. Consider the following post:\\npost: \"WANTING TO TAKE FIRE ARMS\"\\nq: Does this post primarily about Federal Budget (yes or no)?\\na:', 'engine': 'davinci', 'temperature': 0, 'max_tokens': 10, 'stop': '\\n'}\n",
      " yes\n",
      "{'prompt': 'A post is about Federal Budget if it refers to mentions of how the federal government budgets and spends its money. Consider the following post:\\npost: \"Yes, yes, yes! Women are policed about their clothes, their looks, whether they smile or not. Do dudes have to deal with this? NO! (And if it\\'s a yes, please share, I\\'d love to hear your experience).\"\\nq: Does this post primarily about Federal Budget (yes or no)?\\na:', 'engine': 'davinci', 'temperature': 0, 'max_tokens': 10, 'stop': '\\n'}\n",
      " No.\n",
      "{'prompt': 'A post is about Federal Budget if it refers to mentions of how the federal government budgets and spends its money. Consider the following post:\\npost: \"This was an act of \"domestic terrorism\" by a repulsive, brain-dead fascist. Trump and his administration needs to acknowledge this. Otherwise, he and his administration will be seen as being on board with these evil bastards and their violent actions.   \"\\nq: Does this post primarily about Federal Budget (yes or no)?\\na:', 'engine': 'davinci', 'temperature': 0, 'max_tokens': 10, 'stop': '\\n'}\n",
      " Yes\n",
      "{'prompt': 'A post is about Federal Budget if it refers to mentions of how the federal government budgets and spends its money. Consider the following post:\\npost: \"That was an interception!!!\"\\nq: Does this post primarily about Federal Budget (yes or no)?\\na:', 'engine': 'davinci', 'temperature': 0, 'max_tokens': 10, 'stop': '\\n'}\n",
      " No\n",
      "{'prompt': 'A post is about Federal Budget if it refers to mentions of how the federal government budgets and spends its money. Consider the following post:\\npost: \"Hatred\"\\nq: Does this post primarily about Federal Budget (yes or no)?\\na:', 'engine': 'davinci', 'temperature': 0, 'max_tokens': 10, 'stop': '\\n'}\n",
      " yes\n",
      "{'prompt': 'A post is about Federal Budget if it refers to mentions of how the federal government budgets and spends its money. Consider the following post:\\npost: \"Israel has become a burdensome stone to all nations. No one can accept  Jersalem as the TRUE capital of Isreael but want to call it Capital of Palestine. To those call bible fables take a hard look around you. Satan the accuser and father of lies has you so blinded from the truth.   Zechariah 12:3  And in that day will I make Jerusalem a burdensome stone for all people: all that burden themselves with it shall be cut in pieces, though all the people of the earth be gathered together against it.\"\\nq: Does this post primarily about Federal Budget (yes or no)?\\na:', 'engine': 'davinci', 'temperature': 0, 'max_tokens': 10, 'stop': '\\n'}\n",
      " No.\n",
      "{'prompt': 'A post is about Federal Budget if it refers to mentions of how the federal government budgets and spends its money. Consider the following post:\\npost: \"A very interesting read. Impeaching 45 has been discussed since he was inaugurated and I\\'ve been conflicted up until now. The article discusses both of the arguments against impeaching: (1) Pence would be president and he might actually get things done and (2) it sets up a situation where congress potentially impeaches any president they disagree with.   If we as a nation don\\'t impeach this person, who is clearly unfit and perhaps dangerous, then what is impeachment for? Rather than set up a slippery slope, dealing reasonably with somebody who needs to be removed would restore some dignity to our country\\'s government.   Let Pence be president, I may not agree with his policies, but at least he wouldn\\'t be a laughing stock and how much more damage could he really do than what is being done now? If the GOP wants to retaliate in the future by impeaching a Democratic president, so be it. We can weather that. It\\'s beyond time for us to do something.\"\\nq: Does this post primarily about Federal Budget (yes or no)?\\na:', 'engine': 'davinci', 'temperature': 0, 'max_tokens': 10, 'stop': '\\n'}\n",
      " Yes.\n",
      "after\n",
      "[' yes', ' Yes', ' yes', ' Yes', ' No', ' yes', ' No.', ' No.', ' yes', ' No', ' No', ' yes', ' No', ' yes', ' No.', ' Yes', ' No', ' yes', ' No.', ' Yes.']\n"
     ]
    }
   ],
   "source": [
    "tmp.tryLabels(n=20, verbose=True)"
   ]
  },
  {
   "cell_type": "code",
   "execution_count": 19,
   "metadata": {},
   "outputs": [
    {
     "data": {
      "text/html": [
       "<div>\n",
       "<style scoped>\n",
       "    .dataframe tbody tr th:only-of-type {\n",
       "        vertical-align: middle;\n",
       "    }\n",
       "\n",
       "    .dataframe tbody tr th {\n",
       "        vertical-align: top;\n",
       "    }\n",
       "\n",
       "    .dataframe thead th {\n",
       "        text-align: right;\n",
       "    }\n",
       "</style>\n",
       "<table border=\"1\" class=\"dataframe\">\n",
       "  <thead>\n",
       "    <tr style=\"text-align: right;\">\n",
       "      <th></th>\n",
       "      <th>data</th>\n",
       "      <th>label</th>\n",
       "      <th>Federal Budget</th>\n",
       "    </tr>\n",
       "  </thead>\n",
       "  <tbody>\n",
       "    <tr>\n",
       "      <td>1035</td>\n",
       "      <td>Norwegians on social media also questioned the...</td>\n",
       "      <td>immigration</td>\n",
       "      <td>yes</td>\n",
       "    </tr>\n",
       "    <tr>\n",
       "      <td>2389</td>\n",
       "      <td>Aha!  Another Swamp Man feeding at the public ...</td>\n",
       "      <td>poverty</td>\n",
       "      <td>Yes</td>\n",
       "    </tr>\n",
       "    <tr>\n",
       "      <td>126</td>\n",
       "      <td>rising inflation</td>\n",
       "      <td>economy</td>\n",
       "      <td>yes</td>\n",
       "    </tr>\n",
       "    <tr>\n",
       "      <td>2289</td>\n",
       "      <td>It is terrible to see protesters in the face o...</td>\n",
       "      <td>party politics</td>\n",
       "      <td>Yes</td>\n",
       "    </tr>\n",
       "    <tr>\n",
       "      <td>963</td>\n",
       "      <td>27 Pediatricians were just fired from a Dallas...</td>\n",
       "      <td>healthcare</td>\n",
       "      <td>No</td>\n",
       "    </tr>\n",
       "    <tr>\n",
       "      <td>1325</td>\n",
       "      <td>consumers</td>\n",
       "      <td>none</td>\n",
       "      <td>yes</td>\n",
       "    </tr>\n",
       "    <tr>\n",
       "      <td>968</td>\n",
       "      <td>Why are people obsessed with tossing out the b...</td>\n",
       "      <td>healthcare</td>\n",
       "      <td>No.</td>\n",
       "    </tr>\n",
       "    <tr>\n",
       "      <td>2124</td>\n",
       "      <td>Got my tragus done today.</td>\n",
       "      <td>none</td>\n",
       "      <td>No.</td>\n",
       "    </tr>\n",
       "    <tr>\n",
       "      <td>792</td>\n",
       "      <td>The war on guns -- 2nd amendment issues</td>\n",
       "      <td>gun control</td>\n",
       "      <td>yes</td>\n",
       "    </tr>\n",
       "    <tr>\n",
       "      <td>515</td>\n",
       "      <td>the pee pee tape and what Putin has on Dump</td>\n",
       "      <td>foreign affairs</td>\n",
       "      <td>No</td>\n",
       "    </tr>\n",
       "    <tr>\n",
       "      <td>1532</td>\n",
       "      <td>Good Sunday morning FB family and friends. Mas...</td>\n",
       "      <td>none</td>\n",
       "      <td>No</td>\n",
       "    </tr>\n",
       "    <tr>\n",
       "      <td>2569</td>\n",
       "      <td>the division between people that has increased...</td>\n",
       "      <td>trump as issue</td>\n",
       "      <td>yes</td>\n",
       "    </tr>\n",
       "    <tr>\n",
       "      <td>387</td>\n",
       "      <td>Classic windmill, Dutch countryside</td>\n",
       "      <td>energy and environment</td>\n",
       "      <td>No</td>\n",
       "    </tr>\n",
       "    <tr>\n",
       "      <td>801</td>\n",
       "      <td>WANTING TO TAKE FIRE ARMS</td>\n",
       "      <td>gun control</td>\n",
       "      <td>yes</td>\n",
       "    </tr>\n",
       "    <tr>\n",
       "      <td>1573</td>\n",
       "      <td>Yes, yes, yes! Women are policed about their c...</td>\n",
       "      <td>none</td>\n",
       "      <td>No.</td>\n",
       "    </tr>\n",
       "    <tr>\n",
       "      <td>69</td>\n",
       "      <td>This was an act of \"domestic terrorism\" by a r...</td>\n",
       "      <td>crime</td>\n",
       "      <td>Yes</td>\n",
       "    </tr>\n",
       "    <tr>\n",
       "      <td>1774</td>\n",
       "      <td>That was an interception!!!</td>\n",
       "      <td>none</td>\n",
       "      <td>No</td>\n",
       "    </tr>\n",
       "    <tr>\n",
       "      <td>1463</td>\n",
       "      <td>Hatred</td>\n",
       "      <td>none</td>\n",
       "      <td>yes</td>\n",
       "    </tr>\n",
       "    <tr>\n",
       "      <td>662</td>\n",
       "      <td>Israel has become a burdensome stone to all na...</td>\n",
       "      <td>foreign affairs</td>\n",
       "      <td>No.</td>\n",
       "    </tr>\n",
       "    <tr>\n",
       "      <td>1056</td>\n",
       "      <td>A very interesting read. Impeaching 45 has bee...</td>\n",
       "      <td>impeachment</td>\n",
       "      <td>Yes.</td>\n",
       "    </tr>\n",
       "  </tbody>\n",
       "</table>\n",
       "</div>"
      ],
      "text/plain": [
       "                                                   data  \\\n",
       "1035  Norwegians on social media also questioned the...   \n",
       "2389  Aha!  Another Swamp Man feeding at the public ...   \n",
       "126                                    rising inflation   \n",
       "2289  It is terrible to see protesters in the face o...   \n",
       "963   27 Pediatricians were just fired from a Dallas...   \n",
       "1325                                          consumers   \n",
       "968   Why are people obsessed with tossing out the b...   \n",
       "2124                          Got my tragus done today.   \n",
       "792            The war on guns -- 2nd amendment issues    \n",
       "515         the pee pee tape and what Putin has on Dump   \n",
       "1532  Good Sunday morning FB family and friends. Mas...   \n",
       "2569  the division between people that has increased...   \n",
       "387                 Classic windmill, Dutch countryside   \n",
       "801                           WANTING TO TAKE FIRE ARMS   \n",
       "1573  Yes, yes, yes! Women are policed about their c...   \n",
       "69    This was an act of \"domestic terrorism\" by a r...   \n",
       "1774                        That was an interception!!!   \n",
       "1463                                             Hatred   \n",
       "662   Israel has become a burdensome stone to all na...   \n",
       "1056  A very interesting read. Impeaching 45 has bee...   \n",
       "\n",
       "                       label Federal Budget  \n",
       "1035             immigration            yes  \n",
       "2389                 poverty            Yes  \n",
       "126                  economy            yes  \n",
       "2289          party politics            Yes  \n",
       "963               healthcare             No  \n",
       "1325                    none            yes  \n",
       "968               healthcare            No.  \n",
       "2124                    none            No.  \n",
       "792              gun control            yes  \n",
       "515          foreign affairs             No  \n",
       "1532                    none             No  \n",
       "2569          trump as issue            yes  \n",
       "387   energy and environment             No  \n",
       "801              gun control            yes  \n",
       "1573                    none            No.  \n",
       "69                     crime            Yes  \n",
       "1774                    none             No  \n",
       "1463                    none            yes  \n",
       "662          foreign affairs            No.  \n",
       "1056             impeachment           Yes.  "
      ]
     },
     "execution_count": 19,
     "metadata": {},
     "output_type": "execute_result"
    }
   ],
   "source": [
    "tmp.labeled"
   ]
  },
  {
   "cell_type": "code",
   "execution_count": null,
   "metadata": {},
   "outputs": [],
   "source": []
  }
 ],
 "metadata": {
  "kernelspec": {
   "display_name": "Python 3",
   "language": "python",
   "name": "python3"
  },
  "language_info": {
   "codemirror_mode": {
    "name": "ipython",
    "version": 3
   },
   "file_extension": ".py",
   "mimetype": "text/x-python",
   "name": "python",
   "nbconvert_exporter": "python",
   "pygments_lexer": "ipython3",
   "version": "3.7.4"
  }
 },
 "nbformat": 4,
 "nbformat_minor": 2
}
