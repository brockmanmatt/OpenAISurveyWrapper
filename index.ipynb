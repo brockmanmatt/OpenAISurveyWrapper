{
 "cells": [
  {
   "cell_type": "markdown",
   "metadata": {},
   "source": [
    "# OpenAI Survey Wrapper\n",
    "\n",
    "> wrapper to label survey respones and test accuracy"
   ]
  },
  {
   "cell_type": "markdown",
   "metadata": {},
   "source": [
    "## Install"
   ]
  },
  {
   "cell_type": "markdown",
   "metadata": {},
   "source": [
    "`pip install OpenAISurveyWrapper`"
   ]
  },
  {
   "cell_type": "markdown",
   "metadata": {},
   "source": [
    "## How to use"
   ]
  },
  {
   "cell_type": "markdown",
   "metadata": {},
   "source": [
    "Fill me in please! Don't forget code examples:"
   ]
  },
  {
   "cell_type": "code",
   "execution_count": 10,
   "metadata": {},
   "outputs": [
    {
     "name": "stdout",
     "output_type": "stream",
     "text": [
      "in progress\n"
     ]
    }
   ],
   "source": [
    "print(\"in progress\")"
   ]
  },
  {
   "cell_type": "markdown",
   "metadata": {},
   "source": [
    "## Create and Add Key"
   ]
  },
  {
   "cell_type": "code",
   "execution_count": 11,
   "metadata": {},
   "outputs": [],
   "source": [
    "from OpenAISurveyWrapper.survey import survey\n",
    "import json, pandas as pd"
   ]
  },
  {
   "cell_type": "code",
   "execution_count": 12,
   "metadata": {},
   "outputs": [],
   "source": [
    "tmp = survey()\n",
    "tmp.add_key(json.load(open(\"../gpt3/key.json\", \"r\"))[\"key\"])"
   ]
  },
  {
   "cell_type": "code",
   "execution_count": 20,
   "metadata": {},
   "outputs": [],
   "source": [
    "#hide\n",
    "term = \"Federal Budget\"\n",
    "definition=\"refers to mentions of how the federal government budgets and spends its money.\"\n",
    "tmp.addDefinition(term, definition)"
   ]
  },
  {
   "cell_type": "code",
   "execution_count": 21,
   "metadata": {},
   "outputs": [
    {
     "data": {
      "text/html": [
       "<div>\n",
       "<style scoped>\n",
       "    .dataframe tbody tr th:only-of-type {\n",
       "        vertical-align: middle;\n",
       "    }\n",
       "\n",
       "    .dataframe tbody tr th {\n",
       "        vertical-align: top;\n",
       "    }\n",
       "\n",
       "    .dataframe thead th {\n",
       "        text-align: right;\n",
       "    }\n",
       "</style>\n",
       "<table border=\"1\" class=\"dataframe\">\n",
       "  <thead>\n",
       "    <tr style=\"text-align: right;\">\n",
       "      <th></th>\n",
       "      <th>text</th>\n",
       "      <th>type</th>\n",
       "      <th>classification</th>\n",
       "    </tr>\n",
       "  </thead>\n",
       "  <tbody>\n",
       "    <tr>\n",
       "      <td>0</td>\n",
       "      <td>Abortions</td>\n",
       "      <td>survey</td>\n",
       "      <td>abortion</td>\n",
       "    </tr>\n",
       "    <tr>\n",
       "      <td>1</td>\n",
       "      <td>they shouldnt be stopping women from getting a...</td>\n",
       "      <td>survey</td>\n",
       "      <td>abortion</td>\n",
       "    </tr>\n",
       "    <tr>\n",
       "      <td>2</td>\n",
       "      <td>religion trying to control people either with ...</td>\n",
       "      <td>survey</td>\n",
       "      <td>abortion</td>\n",
       "    </tr>\n",
       "    <tr>\n",
       "      <td>3</td>\n",
       "      <td>abortion</td>\n",
       "      <td>survey</td>\n",
       "      <td>abortion</td>\n",
       "    </tr>\n",
       "    <tr>\n",
       "      <td>4</td>\n",
       "      <td>Protecting abortion access and the Roe v Wade ...</td>\n",
       "      <td>survey</td>\n",
       "      <td>abortion</td>\n",
       "    </tr>\n",
       "  </tbody>\n",
       "</table>\n",
       "</div>"
      ],
      "text/plain": [
       "                                                text    type classification\n",
       "0                                          Abortions  survey       abortion\n",
       "1  they shouldnt be stopping women from getting a...  survey       abortion\n",
       "2  religion trying to control people either with ...  survey       abortion\n",
       "3                                           abortion  survey       abortion\n",
       "4  Protecting abortion access and the Roe v Wade ...  survey       abortion"
      ]
     },
     "execution_count": 21,
     "metadata": {},
     "output_type": "execute_result"
    }
   ],
   "source": [
    "#hide\n",
    "df = pd.read_excel(\"../combinedata.forml.xlsx\")\n",
    "df.head()"
   ]
  },
  {
   "cell_type": "code",
   "execution_count": 22,
   "metadata": {},
   "outputs": [],
   "source": [
    "#hide\n",
    "tmp.loadExamplesFromDataFrame(df[[\"text\", \"classification\"]].fillna(\"\"))"
   ]
  },
  {
   "cell_type": "code",
   "execution_count": 23,
   "metadata": {
    "collapsed": true
   },
   "outputs": [
    {
     "name": "stdout",
     "output_type": "stream",
     "text": [
      "A post is about Federal Budget if it refers to mentions of how the federal government budgets and spends its money. Consider the following post:\n",
      "post: \"{}\"\n",
      "q: Does this post primarily about Federal Budget (yes or no)?\n",
      "a:\n",
      "before\n",
      "{'prompt': 'A post is about Federal Budget if it refers to mentions of how the federal government budgets and spends its money. Consider the following post:\\npost: \"not drug testing for public aide\"\\nq: Does this post primarily about Federal Budget (yes or no)?\\na:', 'engine': 'davinci', 'temperature': 0, 'max_tokens': 10, 'stop': '\\n'}\n",
      " yes\n",
      "{'prompt': 'A post is about Federal Budget if it refers to mentions of how the federal government budgets and spends its money. Consider the following post:\\npost: \"cost of living \"\\nq: Does this post primarily about Federal Budget (yes or no)?\\na:', 'engine': 'davinci', 'temperature': 0, 'max_tokens': 10, 'stop': '\\n'}\n",
      " yes\n",
      "{'prompt': 'A post is about Federal Budget if it refers to mentions of how the federal government budgets and spends its money. Consider the following post:\\npost: \"social security\"\\nq: Does this post primarily about Federal Budget (yes or no)?\\na:', 'engine': 'davinci', 'temperature': 0, 'max_tokens': 10, 'stop': '\\n'}\n",
      " yes\n",
      "{'prompt': 'A post is about Federal Budget if it refers to mentions of how the federal government budgets and spends its money. Consider the following post:\\npost: \"I\\'m tired of hearing the term racist! If you don\\'t know what it means, don\\'t use it! Taking a stand against Islam is not racist since Islam is a religion that includes many races. Calling a country a shit hole is not racist either since a country contains many races and the comment pertains to corrupt run countries that exploit their people. Racism is hating people because of their race which often comes down to the color of their skin.\"\\nq: Does this post primarily about Federal Budget (yes or no)?\\na:', 'engine': 'davinci', 'temperature': 0, 'max_tokens': 10, 'stop': '\\n'}\n",
      " No\n",
      "{'prompt': 'A post is about Federal Budget if it refers to mentions of how the federal government budgets and spends its money. Consider the following post:\\npost: \"Once again it is a beautiful golden shank of the morning here at Chez Bob\\'s.  I got all excited last night and ordered a tee shirt with Amy Russels picture saying \"I knocked her up at my age\".  I was ready to wear that distinction with pride, then one little detail got in the way, I wasn\\'t with her during that time.  Very disappointing on several levels.  Oh well as usual I have a busy week coming up so I\\'ll get over it.  I had a great weekend with a bunch of fun, great food, and really good people around.  I shot some skeet with my new shotgun, cooked a steak on the coals, and played with the new backhoe.  As usual I sure am glad it\\'s my life because I wouldn\\'t trade with anybody.\"\\nq: Does this post primarily about Federal Budget (yes or no)?\\na:', 'engine': 'davinci', 'temperature': 0, 'max_tokens': 10, 'stop': '\\n'}\n",
      " No\n",
      "{'prompt': 'A post is about Federal Budget if it refers to mentions of how the federal government budgets and spends its money. Consider the following post:\\npost: \"I suppose corporate wellfare and tax cuts for the rich have nothing to do with deficits, but what do I know?  I\\'m just a dumb ass old country boy with an accounting degree\"\\nq: Does this post primarily about Federal Budget (yes or no)?\\na:', 'engine': 'davinci', 'temperature': 0, 'max_tokens': 10, 'stop': '\\n'}\n",
      " Yes\n",
      "{'prompt': 'A post is about Federal Budget if it refers to mentions of how the federal government budgets and spends its money. Consider the following post:\\npost: \"There\\'s a New Swag Code Available Click on the Swagbucks icon above to view. Cyber Monday Deals Happening Now + An Exclusive Swag Code!\"\\nq: Does this post primarily about Federal Budget (yes or no)?\\na:', 'engine': 'davinci', 'temperature': 0, 'max_tokens': 10, 'stop': '\\n'}\n",
      " No.\n",
      "{'prompt': 'A post is about Federal Budget if it refers to mentions of how the federal government budgets and spends its money. Consider the following post:\\npost: \"Tomorrow Sarah is having a Holiday Cheer make and take at her house. It starts at 1. If you have never been to one of her make and takes and are interested in going. The first person to respond to her post or my post. I will pay your 12.00 fee. It will be a fun time and you will take home some neat items. All for free. Who knows you may even learn something about Young Living and essential oils.💝\"\\nq: Does this post primarily about Federal Budget (yes or no)?\\na:', 'engine': 'davinci', 'temperature': 0, 'max_tokens': 10, 'stop': '\\n'}\n",
      " No\n",
      "{'prompt': 'A post is about Federal Budget if it refers to mentions of how the federal government budgets and spends its money. Consider the following post:\\npost: \"Foreign hacking of government and elections\"\\nq: Does this post primarily about Federal Budget (yes or no)?\\na:', 'engine': 'davinci', 'temperature': 0, 'max_tokens': 10, 'stop': '\\n'}\n",
      " Yes\n",
      "{'prompt': 'A post is about Federal Budget if it refers to mentions of how the federal government budgets and spends its money. Consider the following post:\\npost: \"God willing. :)\"\\nq: Does this post primarily about Federal Budget (yes or no)?\\na:', 'engine': 'davinci', 'temperature': 0, 'max_tokens': 10, 'stop': '\\n'}\n",
      " Yes\n",
      "{'prompt': 'A post is about Federal Budget if it refers to mentions of how the federal government budgets and spends its money. Consider the following post:\\npost: \"Here is some answers\"\\nq: Does this post primarily about Federal Budget (yes or no)?\\na:', 'engine': 'davinci', 'temperature': 0, 'max_tokens': 10, 'stop': '\\n'}\n",
      " Yes\n",
      "{'prompt': 'A post is about Federal Budget if it refers to mentions of how the federal government budgets and spends its money. Consider the following post:\\npost: \"So the refs get rings, too, right???\"\\nq: Does this post primarily about Federal Budget (yes or no)?\\na:', 'engine': 'davinci', 'temperature': 0, 'max_tokens': 10, 'stop': '\\n'}\n",
      " Yes\n",
      "{'prompt': 'A post is about Federal Budget if it refers to mentions of how the federal government budgets and spends its money. Consider the following post:\\npost: \"Found out my dog Ava has cancer they can’t do anything for her except keep her comfortable. I hate this, I lost my dog Sara January 2, 2018. She went quick I wish This shit would quick happening my heart hurts.\"\\nq: Does this post primarily about Federal Budget (yes or no)?\\na:', 'engine': 'davinci', 'temperature': 0, 'max_tokens': 10, 'stop': '\\n'}\n",
      " No\n",
      "{'prompt': 'A post is about Federal Budget if it refers to mentions of how the federal government budgets and spends its money. Consider the following post:\\npost: \"Security of our country and the severe threat if terrorist attacks. \\n\\n\\n\"\\nq: Does this post primarily about Federal Budget (yes or no)?\\na:', 'engine': 'davinci', 'temperature': 0, 'max_tokens': 10, 'stop': '\\n'}\n",
      " Yes\n",
      "{'prompt': 'A post is about Federal Budget if it refers to mentions of how the federal government budgets and spends its money. Consider the following post:\\npost: \"\"\\nq: Does this post primarily about Federal Budget (yes or no)?\\na:', 'engine': 'davinci', 'temperature': 0, 'max_tokens': 10, 'stop': '\\n'}\n",
      " yes\n",
      "{'prompt': 'A post is about Federal Budget if it refers to mentions of how the federal government budgets and spends its money. Consider the following post:\\npost: \"I saw this comment and realized that this ties it all together!! I have permission from Tiffaney Woods to post it. This is why our country is failing right now!! What have we done to our country???  According to a report by Open Secrets and Trace, the NRA gave $30.3 million to Trump\\'s campaign. A month before the election, NBC reported that $9.6 million (of the then-$21 million contribution) had been spent on ads and spreading a pro-Trump message, while the majority — $12 million —  had been spent towards attacking his opponent Hillary Clinton, the most the NRA has ever spent on an election in history. So, where is the NRA getting all this money? According to the NRA’s website, a one-year membership costs only $40, but, in 2015, The Washington Post reported that the NRA had about five million members, equaling out to $200 million a year, just from membership dues. That’s not even counting donations or any other type of fundraising efforts.\"\\nq: Does this post primarily about Federal Budget (yes or no)?\\na:', 'engine': 'davinci', 'temperature': 0, 'max_tokens': 10, 'stop': '\\n'}\n"
     ]
    },
    {
     "name": "stdout",
     "output_type": "stream",
     "text": [
      " yes\n",
      "{'prompt': 'A post is about Federal Budget if it refers to mentions of how the federal government budgets and spends its money. Consider the following post:\\npost: \"Keep it gradual\"\\nq: Does this post primarily about Federal Budget (yes or no)?\\na:', 'engine': 'davinci', 'temperature': 0, 'max_tokens': 10, 'stop': '\\n'}\n",
      " yes\n",
      "{'prompt': 'A post is about Federal Budget if it refers to mentions of how the federal government budgets and spends its money. Consider the following post:\\npost: \"lack of healthcare\"\\nq: Does this post primarily about Federal Budget (yes or no)?\\na:', 'engine': 'davinci', 'temperature': 0, 'max_tokens': 10, 'stop': '\\n'}\n",
      " yes\n",
      "{'prompt': 'A post is about Federal Budget if it refers to mentions of how the federal government budgets and spends its money. Consider the following post:\\npost: \"Health care that is affordable for the common folk\"\\nq: Does this post primarily about Federal Budget (yes or no)?\\na:', 'engine': 'davinci', 'temperature': 0, 'max_tokens': 10, 'stop': '\\n'}\n",
      " yes\n",
      "{'prompt': 'A post is about Federal Budget if it refers to mentions of how the federal government budgets and spends its money. Consider the following post:\\npost: \"I think it could be resolve\"\\nq: Does this post primarily about Federal Budget (yes or no)?\\na:', 'engine': 'davinci', 'temperature': 0, 'max_tokens': 10, 'stop': '\\n'}\n",
      " Yes\n",
      "after\n",
      "[' yes', ' yes', ' yes', ' No', ' No', ' Yes', ' No.', ' No', ' Yes', ' Yes', ' Yes', ' Yes', ' No', ' Yes', ' yes', ' yes', ' yes', ' yes', ' yes', ' Yes']\n"
     ]
    },
    {
     "ename": "FileNotFoundError",
     "evalue": "[Errno 2] No such file or directory: 'queries/20200701190703.json'",
     "output_type": "error",
     "traceback": [
      "\u001b[0;31m---------------------------------------------------------------------------\u001b[0m",
      "\u001b[0;31mFileNotFoundError\u001b[0m                         Traceback (most recent call last)",
      "\u001b[0;32m<ipython-input-23-594ab47844a0>\u001b[0m in \u001b[0;36m<module>\u001b[0;34m\u001b[0m\n\u001b[1;32m      1\u001b[0m \u001b[0;31m#hide\u001b[0m\u001b[0;34m\u001b[0m\u001b[0;34m\u001b[0m\u001b[0;34m\u001b[0m\u001b[0m\n\u001b[0;32m----> 2\u001b[0;31m \u001b[0mtmp\u001b[0m\u001b[0;34m.\u001b[0m\u001b[0mtryLabels\u001b[0m\u001b[0;34m(\u001b[0m\u001b[0mn\u001b[0m\u001b[0;34m=\u001b[0m\u001b[0;36m20\u001b[0m\u001b[0;34m,\u001b[0m \u001b[0mverbose\u001b[0m\u001b[0;34m=\u001b[0m\u001b[0;32mTrue\u001b[0m\u001b[0;34m)\u001b[0m\u001b[0;34m\u001b[0m\u001b[0;34m\u001b[0m\u001b[0m\n\u001b[0m",
      "\u001b[0;32m~/Documents/summer_2020_projects/OpenAISurveyWrapper/OpenAISurveyWrapper/survey.py\u001b[0m in \u001b[0;36mtryLabels\u001b[0;34m(self, n, overwrite, inplace, fewShot, labels, verbose)\u001b[0m\n\u001b[1;32m     95\u001b[0m                 \u001b[0mresponses\u001b[0m \u001b[0;34m=\u001b[0m \u001b[0mself\u001b[0m\u001b[0;34m.\u001b[0m\u001b[0mgenerateResponses\u001b[0m\u001b[0;34m(\u001b[0m\u001b[0mtargets\u001b[0m\u001b[0;34m[\u001b[0m\u001b[0;34m\"data\"\u001b[0m\u001b[0;34m]\u001b[0m\u001b[0;34m.\u001b[0m\u001b[0mto_list\u001b[0m\u001b[0;34m(\u001b[0m\u001b[0;34m)\u001b[0m\u001b[0;34m,\u001b[0m \u001b[0mprompt\u001b[0m\u001b[0;34m,\u001b[0m \u001b[0mverbose\u001b[0m\u001b[0;34m=\u001b[0m\u001b[0mverbose\u001b[0m\u001b[0;34m)\u001b[0m\u001b[0;34m\u001b[0m\u001b[0;34m\u001b[0m\u001b[0m\n\u001b[1;32m     96\u001b[0m \u001b[0;34m\u001b[0m\u001b[0m\n\u001b[0;32m---> 97\u001b[0;31m                 \u001b[0;32mwith\u001b[0m \u001b[0mopen\u001b[0m\u001b[0;34m(\u001b[0m\u001b[0;34m\"{}/{}\"\u001b[0m\u001b[0;34m.\u001b[0m\u001b[0mformat\u001b[0m\u001b[0;34m(\u001b[0m\u001b[0mself\u001b[0m\u001b[0;34m.\u001b[0m\u001b[0moutdir\u001b[0m\u001b[0;34m,\u001b[0m \u001b[0mdatetime\u001b[0m\u001b[0;34m.\u001b[0m\u001b[0mdatetime\u001b[0m\u001b[0;34m.\u001b[0m\u001b[0mnow\u001b[0m\u001b[0;34m(\u001b[0m\u001b[0;34m)\u001b[0m\u001b[0;34m.\u001b[0m\u001b[0mstrftime\u001b[0m\u001b[0;34m(\u001b[0m\u001b[0;34m\"%Y%m%d%H%m%S\"\u001b[0m\u001b[0;34m)\u001b[0m \u001b[0;34m+\u001b[0m \u001b[0;34m\".json\"\u001b[0m\u001b[0;34m)\u001b[0m\u001b[0;34m,\u001b[0m \u001b[0;34m\"w\"\u001b[0m\u001b[0;34m)\u001b[0m \u001b[0;32mas\u001b[0m \u001b[0mfh\u001b[0m\u001b[0;34m:\u001b[0m\u001b[0;34m\u001b[0m\u001b[0;34m\u001b[0m\u001b[0m\n\u001b[0m\u001b[1;32m     98\u001b[0m                     \u001b[0mjson\u001b[0m\u001b[0;34m.\u001b[0m\u001b[0mdump\u001b[0m\u001b[0;34m(\u001b[0m\u001b[0;34m{\u001b[0m\u001b[0;34m\"prompt\"\u001b[0m\u001b[0;34m:\u001b[0m\u001b[0mprompt\u001b[0m\u001b[0;34m,\u001b[0m \u001b[0;34m\"data\"\u001b[0m\u001b[0;34m:\u001b[0m\u001b[0;34m{\u001b[0m\u001b[0;34m\"queries\"\u001b[0m\u001b[0;34m:\u001b[0m\u001b[0mtargets\u001b[0m\u001b[0;34m[\u001b[0m\u001b[0;34m\"data\"\u001b[0m\u001b[0;34m]\u001b[0m\u001b[0;34m.\u001b[0m\u001b[0mto_list\u001b[0m\u001b[0;34m(\u001b[0m\u001b[0;34m)\u001b[0m\u001b[0;34m,\u001b[0m \u001b[0;34m\"preds\"\u001b[0m\u001b[0;34m:\u001b[0m\u001b[0mresponses\u001b[0m\u001b[0;34m}\u001b[0m\u001b[0;34m}\u001b[0m\u001b[0;34m,\u001b[0m \u001b[0mfh\u001b[0m\u001b[0;34m,\u001b[0m \u001b[0mindent\u001b[0m\u001b[0;34m=\u001b[0m\u001b[0;36m4\u001b[0m\u001b[0;34m)\u001b[0m\u001b[0;34m\u001b[0m\u001b[0;34m\u001b[0m\u001b[0m\n\u001b[1;32m     99\u001b[0m \u001b[0;34m\u001b[0m\u001b[0m\n",
      "\u001b[0;31mFileNotFoundError\u001b[0m: [Errno 2] No such file or directory: 'queries/20200701190703.json'"
     ]
    }
   ],
   "source": [
    "#hide\n",
    "tmp.tryLabels(n=20, verbose=True)"
   ]
  },
  {
   "cell_type": "code",
   "execution_count": null,
   "metadata": {},
   "outputs": [],
   "source": []
  }
 ],
 "metadata": {
  "kernelspec": {
   "display_name": "Python 3",
   "language": "python",
   "name": "python3"
  },
  "language_info": {
   "codemirror_mode": {
    "name": "ipython",
    "version": 3
   },
   "file_extension": ".py",
   "mimetype": "text/x-python",
   "name": "python",
   "nbconvert_exporter": "python",
   "pygments_lexer": "ipython3",
   "version": "3.7.4"
  }
 },
 "nbformat": 4,
 "nbformat_minor": 2
}
